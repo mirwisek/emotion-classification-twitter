{
  "metadata": {
    "kernelspec": {
      "language": "python",
      "display_name": "Python 3",
      "name": "python3"
    },
    "language_info": {
      "name": "python",
      "version": "3.7.12",
      "mimetype": "text/x-python",
      "codemirror_mode": {
        "name": "ipython",
        "version": 3
      },
      "pygments_lexer": "ipython3",
      "nbconvert_exporter": "python",
      "file_extension": ".py"
    },
    "kaggle": {
      "accelerator": "gpu",
      "dataSources": [
        {
          "sourceId": 2617192,
          "sourceType": "datasetVersion",
          "datasetId": 1590810
        }
      ],
      "dockerImageVersionId": 30301,
      "isInternetEnabled": false,
      "language": "python",
      "sourceType": "notebook",
      "isGpuEnabled": true
    },
    "colab": {
      "provenance": []
    }
  },
  "nbformat_minor": 0,
  "nbformat": 4,
  "cells": [
    {
      "cell_type": "markdown",
      "source": [
        "![](https://i.imgur.com/KOjXRJg.jpg)\n",
        "\n",
        "### <b><span style='color:#F1A424'>Test Classification</span></b>\n",
        "\n",
        "- Text classification is one of the most common tasks in NLP\n",
        "- It can be used for a wide range of applications (eg. tagging customer feedback into categories, routing support tickets according to their language)\n",
        "- Another common type of text classification problem is **<mark style=\"background-color:#FFC300;color:white;border-radius:5px;opacity:0.7\">sentiment analysis</mark>** which aims to **identify the polatity** of a given text (+/-)\n",
        "\n",
        "### <b><span style='color:#F1A424'>Our Task</span></b>\n",
        "\n",
        "- We need to build a system that will be able to automatically identify emotional states (eg. anger, joy) that people express about your company's product on twitter\n",
        "- For this task, we'll be using a variant of **<mark style=\"background-color:#FFC300;color:white;border-radius:5px;opacity:0.7\">BERT</mark>**; **<mark style=\"background-color:#FFC300;color:white;border-radius:5px;opacity:0.7\">DistilBERT</mark>**, the main advantage of this model is that it is much smaller than **<mark style=\"background-color:#FFC300;color:white;border-radius:5px;opacity:0.7\">BERT</mark>** (ie. more efficient), but is able to achieve comparable performance\n",
        "- We will be using three core libraries from the **<mark style=\"background-color:#FFC300;color:white;border-radius:5px;opacity:0.7\">Hugging Face</mark>** ecosystem: **<span style='color:#FFC300'>Datasets</span>**, **<span style='color:#FFC300'>Tokenizers</span>** & **<span style='color:#FFC300'>Transformers</span>**"
      ],
      "metadata": {
        "id": "sJzlT8Tr-Gbp"
      }
    },
    {
      "cell_type": "markdown",
      "source": [
        "# <div style=\"padding: 30px;color:white;margin:10;font-size:60%;text-align:left;display:fill;border-radius:10px;overflow:hidden;background-color:#3b3745\"><b><span style='color:#F1A424'>1 |</span></b> <b>THE DATASET</b></div>\n",
        "    \n",
        "- Many data sets involving **sentiment** analysis are **<mark style=\"background-color:#FFC300;color:white;border-radius:5px;opacity:0.7\">binary</mark>** classification problems\n",
        "- In this dataset we have **6 different sentiments**, which means we'll be treating this problem as a **<mark style=\"background-color:#FFC300;color:white;border-radius:5px;opacity:0.7\">multiclass</mark>** classification problem"
      ],
      "metadata": {
        "id": "uSYlcQ4W-Gbw"
      }
    },
    {
      "cell_type": "code",
      "source": [
        "!ls /kaggle/input/emotion-dataset/"
      ],
      "metadata": {
        "execution": {
          "iopub.status.busy": "2024-01-11T12:18:44.415612Z",
          "iopub.execute_input": "2024-01-11T12:18:44.416262Z",
          "iopub.status.idle": "2024-01-11T12:18:45.656575Z",
          "shell.execute_reply.started": "2024-01-11T12:18:44.416124Z",
          "shell.execute_reply": "2024-01-11T12:18:45.654919Z"
        },
        "trusted": true,
        "id": "XcwQ4CV0-Gby",
        "outputId": "e0b2f44d-4dd7-4a72-eae5-6bb1ba24f1e7"
      },
      "execution_count": null,
      "outputs": [
        {
          "name": "stdout",
          "text": "test.csv  training.csv\tvalidation.csv\n",
          "output_type": "stream"
        }
      ]
    },
    {
      "cell_type": "code",
      "source": [
        "import pandas as pd\n",
        "import numpy as np\n",
        "import panel as pn\n",
        "import warnings; warnings.filterwarnings('ignore')\n",
        "\n",
        "def show_panel(df):\n",
        "    return pn.widgets.Tabulator(df.head(20),\n",
        "                    show_index=False,\n",
        "                    pagination='local',\n",
        "                         page_size=10)\n",
        "\n",
        "\n",
        "pn.extension('tabulator')\n",
        "pn.widgets.Tabulator.theme = 'bootstrap'\n",
        "\n",
        "validation = pd.read_csv('/kaggle/input/emotion-dataset/validation.csv')\n",
        "train = pd.read_csv('/kaggle/input/emotion-dataset/training.csv')\n",
        "test = pd.read_csv('/kaggle/input/emotion-dataset/test.csv')\n",
        "\n",
        "print('Dataset information:')\n",
        "print(f'Training data: {train.shape}')\n",
        "print(f'Validation data: {validation.shape}')\n",
        "print(f'Test data: {test.shape}')"
      ],
      "metadata": {
        "execution": {
          "iopub.status.busy": "2024-01-11T12:18:45.658952Z",
          "iopub.execute_input": "2024-01-11T12:18:45.659470Z",
          "iopub.status.idle": "2024-01-11T12:18:47.336347Z",
          "shell.execute_reply.started": "2024-01-11T12:18:45.659425Z",
          "shell.execute_reply": "2024-01-11T12:18:47.335145Z"
        },
        "trusted": true,
        "id": "3TcIR_w3-Gb1",
        "outputId": "f4f25793-6f68-41d7-9c21-39ffa33e5ab7"
      },
      "execution_count": null,
      "outputs": [
        {
          "output_type": "display_data",
          "data": {
            "application/javascript": "(function(root) {\n  function now() {\n    return new Date();\n  }\n\n  var force = true;\n\n  if (typeof root._bokeh_onload_callbacks === \"undefined\" || force === true) {\n    root._bokeh_onload_callbacks = [];\n    root._bokeh_is_loading = undefined;\n  }\n\n  if (typeof (root._bokeh_timeout) === \"undefined\" || force === true) {\n    root._bokeh_timeout = Date.now() + 5000;\n    root._bokeh_failed_load = false;\n  }\n\n  function run_callbacks() {\n    try {\n      root._bokeh_onload_callbacks.forEach(function(callback) {\n        if (callback != null)\n          callback();\n      });\n    } finally {\n      delete root._bokeh_onload_callbacks\n    }\n    console.debug(\"Bokeh: all callbacks have finished\");\n  }\n\n  function load_libs(css_urls, js_urls, js_modules, callback) {\n    if (css_urls == null) css_urls = [];\n    if (js_urls == null) js_urls = [];\n    if (js_modules == null) js_modules = [];\n\n    root._bokeh_onload_callbacks.push(callback);\n    if (root._bokeh_is_loading > 0) {\n      console.debug(\"Bokeh: BokehJS is being loaded, scheduling callback at\", now());\n      return null;\n    }\n    if (js_urls.length === 0 && js_modules.length === 0) {\n      run_callbacks();\n      return null;\n    }\n    console.debug(\"Bokeh: BokehJS not loaded, scheduling load and callback at\", now());\n\n    function on_load() {\n      root._bokeh_is_loading--;\n      if (root._bokeh_is_loading === 0) {\n        console.debug(\"Bokeh: all BokehJS libraries/stylesheets loaded\");\n        run_callbacks()\n      }\n    }\n\n    function on_error() {\n      console.error(\"failed to load \" + url);\n    }\n\n    for (var i = 0; i < css_urls.length; i++) {\n      var url = css_urls[i];\n      const element = document.createElement(\"link\");\n      element.onload = on_load;\n      element.onerror = on_error;\n      element.rel = \"stylesheet\";\n      element.type = \"text/css\";\n      element.href = url;\n      console.debug(\"Bokeh: injecting link tag for BokehJS stylesheet: \", url);\n      document.body.appendChild(element);\n    }\n\n    var skip = [];\n    if (window.requirejs) {\n      window.requirejs.config({'packages': {}, 'paths': {'tabulator': 'https://cdn.jsdelivr.net/npm/tabulator-tables@5.3.2/dist/js/tabulator', 'moment': 'https://cdn.jsdelivr.net/npm/luxon/build/global/luxon.min', 'gridstack': 'https://cdn.jsdelivr.net/npm/gridstack@4.2.5/dist/gridstack-h5', 'notyf': 'https://cdn.jsdelivr.net/npm/notyf@3/notyf.min'}, 'shim': {'gridstack': {'exports': 'GridStack'}}});\n      require([\"tabulator\"], function(Tabulator) {\n\twindow.Tabulator = Tabulator\n\ton_load()\n      })\n      require([\"moment\"], function(moment) {\n\twindow.moment = moment\n\ton_load()\n      })\n      require([\"gridstack\"], function(GridStack) {\n\twindow.GridStack = GridStack\n\ton_load()\n      })\n      require([\"notyf\"], function() {\n\ton_load()\n      })\n      root._bokeh_is_loading = css_urls.length + 4;\n    } else {\n      root._bokeh_is_loading = css_urls.length + js_urls.length + js_modules.length;\n    }    if (((window['Tabulator'] !== undefined) && (!(window['Tabulator'] instanceof HTMLElement))) || window.requirejs) {\n      var urls = ['https://cdn.holoviz.org/panel/0.14.0/dist/bundled/datatabulator/tabulator-tables@5.3.2/dist/js/tabulator.js'];\n      for (var i = 0; i < urls.length; i++) {\n        skip.push(urls[i])\n      }\n    }    if (((window['moment'] !== undefined) && (!(window['moment'] instanceof HTMLElement))) || window.requirejs) {\n      var urls = ['https://cdn.holoviz.org/panel/0.14.0/dist/bundled/datatabulator/luxon/build/global/luxon.min.js'];\n      for (var i = 0; i < urls.length; i++) {\n        skip.push(urls[i])\n      }\n    }    if (((window['GridStack'] !== undefined) && (!(window['GridStack'] instanceof HTMLElement))) || window.requirejs) {\n      var urls = ['https://cdn.holoviz.org/panel/0.14.0/dist/bundled/gridstack/gridstack@4.2.5/dist/gridstack-h5.js'];\n      for (var i = 0; i < urls.length; i++) {\n        skip.push(urls[i])\n      }\n    }    if (((window['Notyf'] !== undefined) && (!(window['Notyf'] instanceof HTMLElement))) || window.requirejs) {\n      var urls = ['https://cdn.holoviz.org/panel/0.14.0/dist/bundled/notificationarea/notyf@3/notyf.min.js'];\n      for (var i = 0; i < urls.length; i++) {\n        skip.push(urls[i])\n      }\n    }    for (var i = 0; i < js_urls.length; i++) {\n      var url = js_urls[i];\n      if (skip.indexOf(url) >= 0) {\n\tif (!window.requirejs) {\n\t  on_load();\n\t}\n\tcontinue;\n      }\n      var element = document.createElement('script');\n      element.onload = on_load;\n      element.onerror = on_error;\n      element.async = false;\n      element.src = url;\n      console.debug(\"Bokeh: injecting script tag for BokehJS library: \", url);\n      document.head.appendChild(element);\n    }\n    for (var i = 0; i < js_modules.length; i++) {\n      var url = js_modules[i];\n      if (skip.indexOf(url) >= 0) {\n\tif (!window.requirejs) {\n\t  on_load();\n\t}\n\tcontinue;\n      }\n      var element = document.createElement('script');\n      element.onload = on_load;\n      element.onerror = on_error;\n      element.async = false;\n      element.src = url;\n      element.type = \"module\";\n      console.debug(\"Bokeh: injecting script tag for BokehJS library: \", url);\n      document.head.appendChild(element);\n    }\n    if (!js_urls.length && !js_modules.length) {\n      on_load()\n    }\n  };\n\n  function inject_raw_css(css) {\n    const element = document.createElement(\"style\");\n    element.appendChild(document.createTextNode(css));\n    document.body.appendChild(element);\n  }\n\n  var js_urls = [\"https://cdn.holoviz.org/panel/0.14.0/dist/bundled/datatabulator/tabulator-tables@5.3.2/dist/js/tabulator.js\", \"https://cdn.holoviz.org/panel/0.14.0/dist/bundled/datatabulator/luxon/build/global/luxon.min.js\", \"https://cdn.bokeh.org/bokeh/release/bokeh-2.4.3.min.js\", \"https://cdn.bokeh.org/bokeh/release/bokeh-gl-2.4.3.min.js\", \"https://cdn.bokeh.org/bokeh/release/bokeh-widgets-2.4.3.min.js\", \"https://cdn.bokeh.org/bokeh/release/bokeh-tables-2.4.3.min.js\", \"https://cdn.bokeh.org/bokeh/release/bokeh-mathjax-2.4.3.min.js\", \"https://unpkg.com/@holoviz/panel@0.14.0/dist/panel.min.js\"];\n  var js_modules = [];\n  var css_urls = [\"https://cdn.holoviz.org/panel/0.14.0/dist/bundled/datatabulator/tabulator-tables@5.3.2/dist/css/tabulator_simple.min.css\", \"https://cdn.holoviz.org/panel/0.14.0/dist/css/loading.css\", \"https://cdn.holoviz.org/panel/0.14.0/dist/css/debugger.css\", \"https://cdn.holoviz.org/panel/0.14.0/dist/css/markdown.css\", \"https://cdn.holoviz.org/panel/0.14.0/dist/css/alerts.css\", \"https://cdn.holoviz.org/panel/0.14.0/dist/css/json.css\", \"https://cdn.holoviz.org/panel/0.14.0/dist/css/widgets.css\", \"https://cdn.holoviz.org/panel/0.14.0/dist/css/card.css\", \"https://cdn.holoviz.org/panel/0.14.0/dist/css/dataframe.css\"];\n  var inline_js = [    function(Bokeh) {\n      inject_raw_css(\"\\n    .bk.pn-loading.arc:before {\\n      background-image: url(\\\"data:image/svg+xml;base64,PHN2ZyB4bWxucz0iaHR0cDovL3d3dy53My5vcmcvMjAwMC9zdmciIHN0eWxlPSJtYXJnaW46IGF1dG87IGJhY2tncm91bmQ6IG5vbmU7IGRpc3BsYXk6IGJsb2NrOyBzaGFwZS1yZW5kZXJpbmc6IGF1dG87IiB2aWV3Qm94PSIwIDAgMTAwIDEwMCIgcHJlc2VydmVBc3BlY3RSYXRpbz0ieE1pZFlNaWQiPiAgPGNpcmNsZSBjeD0iNTAiIGN5PSI1MCIgZmlsbD0ibm9uZSIgc3Ryb2tlPSIjYzNjM2MzIiBzdHJva2Utd2lkdGg9IjEwIiByPSIzNSIgc3Ryb2tlLWRhc2hhcnJheT0iMTY0LjkzMzYxNDMxMzQ2NDE1IDU2Ljk3Nzg3MTQzNzgyMTM4Ij4gICAgPGFuaW1hdGVUcmFuc2Zvcm0gYXR0cmlidXRlTmFtZT0idHJhbnNmb3JtIiB0eXBlPSJyb3RhdGUiIHJlcGVhdENvdW50PSJpbmRlZmluaXRlIiBkdXI9IjFzIiB2YWx1ZXM9IjAgNTAgNTA7MzYwIDUwIDUwIiBrZXlUaW1lcz0iMDsxIj48L2FuaW1hdGVUcmFuc2Zvcm0+ICA8L2NpcmNsZT48L3N2Zz4=\\\");\\n      background-size: auto calc(min(50%, 400px));\\n    }\\n    \");\n    },    function(Bokeh) {\n      Bokeh.set_log_level(\"info\");\n    },\nfunction(Bokeh) {} // ensure no trailing comma for IE\n  ];\n\n  function run_inline_js() {\n    if ((root.Bokeh !== undefined) || (force === true)) {\n      for (var i = 0; i < inline_js.length; i++) {\n        inline_js[i].call(root, root.Bokeh);\n      }} else if (Date.now() < root._bokeh_timeout) {\n      setTimeout(run_inline_js, 100);\n    } else if (!root._bokeh_failed_load) {\n      console.log(\"Bokeh: BokehJS failed to load within specified timeout.\");\n      root._bokeh_failed_load = true;\n    }\n  }\n\n  if (root._bokeh_is_loading === 0) {\n    console.debug(\"Bokeh: BokehJS loaded, going straight to plotting\");\n    run_inline_js();\n  } else {\n    load_libs(css_urls, js_urls, js_modules, function() {\n      console.debug(\"Bokeh: BokehJS plotting callback run at\", now());\n      run_inline_js();\n    });\n  }\n}(window));",
            "application/vnd.holoviews_load.v0+json": "(function(root) {\n  function now() {\n    return new Date();\n  }\n\n  var force = true;\n\n  if (typeof root._bokeh_onload_callbacks === \"undefined\" || force === true) {\n    root._bokeh_onload_callbacks = [];\n    root._bokeh_is_loading = undefined;\n  }\n\n  if (typeof (root._bokeh_timeout) === \"undefined\" || force === true) {\n    root._bokeh_timeout = Date.now() + 5000;\n    root._bokeh_failed_load = false;\n  }\n\n  function run_callbacks() {\n    try {\n      root._bokeh_onload_callbacks.forEach(function(callback) {\n        if (callback != null)\n          callback();\n      });\n    } finally {\n      delete root._bokeh_onload_callbacks\n    }\n    console.debug(\"Bokeh: all callbacks have finished\");\n  }\n\n  function load_libs(css_urls, js_urls, js_modules, callback) {\n    if (css_urls == null) css_urls = [];\n    if (js_urls == null) js_urls = [];\n    if (js_modules == null) js_modules = [];\n\n    root._bokeh_onload_callbacks.push(callback);\n    if (root._bokeh_is_loading > 0) {\n      console.debug(\"Bokeh: BokehJS is being loaded, scheduling callback at\", now());\n      return null;\n    }\n    if (js_urls.length === 0 && js_modules.length === 0) {\n      run_callbacks();\n      return null;\n    }\n    console.debug(\"Bokeh: BokehJS not loaded, scheduling load and callback at\", now());\n\n    function on_load() {\n      root._bokeh_is_loading--;\n      if (root._bokeh_is_loading === 0) {\n        console.debug(\"Bokeh: all BokehJS libraries/stylesheets loaded\");\n        run_callbacks()\n      }\n    }\n\n    function on_error() {\n      console.error(\"failed to load \" + url);\n    }\n\n    for (var i = 0; i < css_urls.length; i++) {\n      var url = css_urls[i];\n      const element = document.createElement(\"link\");\n      element.onload = on_load;\n      element.onerror = on_error;\n      element.rel = \"stylesheet\";\n      element.type = \"text/css\";\n      element.href = url;\n      console.debug(\"Bokeh: injecting link tag for BokehJS stylesheet: \", url);\n      document.body.appendChild(element);\n    }\n\n    var skip = [];\n    if (window.requirejs) {\n      window.requirejs.config({'packages': {}, 'paths': {'tabulator': 'https://cdn.jsdelivr.net/npm/tabulator-tables@5.3.2/dist/js/tabulator', 'moment': 'https://cdn.jsdelivr.net/npm/luxon/build/global/luxon.min', 'gridstack': 'https://cdn.jsdelivr.net/npm/gridstack@4.2.5/dist/gridstack-h5', 'notyf': 'https://cdn.jsdelivr.net/npm/notyf@3/notyf.min'}, 'shim': {'gridstack': {'exports': 'GridStack'}}});\n      require([\"tabulator\"], function(Tabulator) {\n\twindow.Tabulator = Tabulator\n\ton_load()\n      })\n      require([\"moment\"], function(moment) {\n\twindow.moment = moment\n\ton_load()\n      })\n      require([\"gridstack\"], function(GridStack) {\n\twindow.GridStack = GridStack\n\ton_load()\n      })\n      require([\"notyf\"], function() {\n\ton_load()\n      })\n      root._bokeh_is_loading = css_urls.length + 4;\n    } else {\n      root._bokeh_is_loading = css_urls.length + js_urls.length + js_modules.length;\n    }    if (((window['Tabulator'] !== undefined) && (!(window['Tabulator'] instanceof HTMLElement))) || window.requirejs) {\n      var urls = ['https://cdn.holoviz.org/panel/0.14.0/dist/bundled/datatabulator/tabulator-tables@5.3.2/dist/js/tabulator.js'];\n      for (var i = 0; i < urls.length; i++) {\n        skip.push(urls[i])\n      }\n    }    if (((window['moment'] !== undefined) && (!(window['moment'] instanceof HTMLElement))) || window.requirejs) {\n      var urls = ['https://cdn.holoviz.org/panel/0.14.0/dist/bundled/datatabulator/luxon/build/global/luxon.min.js'];\n      for (var i = 0; i < urls.length; i++) {\n        skip.push(urls[i])\n      }\n    }    if (((window['GridStack'] !== undefined) && (!(window['GridStack'] instanceof HTMLElement))) || window.requirejs) {\n      var urls = ['https://cdn.holoviz.org/panel/0.14.0/dist/bundled/gridstack/gridstack@4.2.5/dist/gridstack-h5.js'];\n      for (var i = 0; i < urls.length; i++) {\n        skip.push(urls[i])\n      }\n    }    if (((window['Notyf'] !== undefined) && (!(window['Notyf'] instanceof HTMLElement))) || window.requirejs) {\n      var urls = ['https://cdn.holoviz.org/panel/0.14.0/dist/bundled/notificationarea/notyf@3/notyf.min.js'];\n      for (var i = 0; i < urls.length; i++) {\n        skip.push(urls[i])\n      }\n    }    for (var i = 0; i < js_urls.length; i++) {\n      var url = js_urls[i];\n      if (skip.indexOf(url) >= 0) {\n\tif (!window.requirejs) {\n\t  on_load();\n\t}\n\tcontinue;\n      }\n      var element = document.createElement('script');\n      element.onload = on_load;\n      element.onerror = on_error;\n      element.async = false;\n      element.src = url;\n      console.debug(\"Bokeh: injecting script tag for BokehJS library: \", url);\n      document.head.appendChild(element);\n    }\n    for (var i = 0; i < js_modules.length; i++) {\n      var url = js_modules[i];\n      if (skip.indexOf(url) >= 0) {\n\tif (!window.requirejs) {\n\t  on_load();\n\t}\n\tcontinue;\n      }\n      var element = document.createElement('script');\n      element.onload = on_load;\n      element.onerror = on_error;\n      element.async = false;\n      element.src = url;\n      element.type = \"module\";\n      console.debug(\"Bokeh: injecting script tag for BokehJS library: \", url);\n      document.head.appendChild(element);\n    }\n    if (!js_urls.length && !js_modules.length) {\n      on_load()\n    }\n  };\n\n  function inject_raw_css(css) {\n    const element = document.createElement(\"style\");\n    element.appendChild(document.createTextNode(css));\n    document.body.appendChild(element);\n  }\n\n  var js_urls = [\"https://cdn.holoviz.org/panel/0.14.0/dist/bundled/datatabulator/tabulator-tables@5.3.2/dist/js/tabulator.js\", \"https://cdn.holoviz.org/panel/0.14.0/dist/bundled/datatabulator/luxon/build/global/luxon.min.js\", \"https://cdn.bokeh.org/bokeh/release/bokeh-2.4.3.min.js\", \"https://cdn.bokeh.org/bokeh/release/bokeh-gl-2.4.3.min.js\", \"https://cdn.bokeh.org/bokeh/release/bokeh-widgets-2.4.3.min.js\", \"https://cdn.bokeh.org/bokeh/release/bokeh-tables-2.4.3.min.js\", \"https://cdn.bokeh.org/bokeh/release/bokeh-mathjax-2.4.3.min.js\", \"https://unpkg.com/@holoviz/panel@0.14.0/dist/panel.min.js\"];\n  var js_modules = [];\n  var css_urls = [\"https://cdn.holoviz.org/panel/0.14.0/dist/bundled/datatabulator/tabulator-tables@5.3.2/dist/css/tabulator_simple.min.css\", \"https://cdn.holoviz.org/panel/0.14.0/dist/css/loading.css\", \"https://cdn.holoviz.org/panel/0.14.0/dist/css/debugger.css\", \"https://cdn.holoviz.org/panel/0.14.0/dist/css/markdown.css\", \"https://cdn.holoviz.org/panel/0.14.0/dist/css/alerts.css\", \"https://cdn.holoviz.org/panel/0.14.0/dist/css/json.css\", \"https://cdn.holoviz.org/panel/0.14.0/dist/css/widgets.css\", \"https://cdn.holoviz.org/panel/0.14.0/dist/css/card.css\", \"https://cdn.holoviz.org/panel/0.14.0/dist/css/dataframe.css\"];\n  var inline_js = [    function(Bokeh) {\n      inject_raw_css(\"\\n    .bk.pn-loading.arc:before {\\n      background-image: url(\\\"data:image/svg+xml;base64,PHN2ZyB4bWxucz0iaHR0cDovL3d3dy53My5vcmcvMjAwMC9zdmciIHN0eWxlPSJtYXJnaW46IGF1dG87IGJhY2tncm91bmQ6IG5vbmU7IGRpc3BsYXk6IGJsb2NrOyBzaGFwZS1yZW5kZXJpbmc6IGF1dG87IiB2aWV3Qm94PSIwIDAgMTAwIDEwMCIgcHJlc2VydmVBc3BlY3RSYXRpbz0ieE1pZFlNaWQiPiAgPGNpcmNsZSBjeD0iNTAiIGN5PSI1MCIgZmlsbD0ibm9uZSIgc3Ryb2tlPSIjYzNjM2MzIiBzdHJva2Utd2lkdGg9IjEwIiByPSIzNSIgc3Ryb2tlLWRhc2hhcnJheT0iMTY0LjkzMzYxNDMxMzQ2NDE1IDU2Ljk3Nzg3MTQzNzgyMTM4Ij4gICAgPGFuaW1hdGVUcmFuc2Zvcm0gYXR0cmlidXRlTmFtZT0idHJhbnNmb3JtIiB0eXBlPSJyb3RhdGUiIHJlcGVhdENvdW50PSJpbmRlZmluaXRlIiBkdXI9IjFzIiB2YWx1ZXM9IjAgNTAgNTA7MzYwIDUwIDUwIiBrZXlUaW1lcz0iMDsxIj48L2FuaW1hdGVUcmFuc2Zvcm0+ICA8L2NpcmNsZT48L3N2Zz4=\\\");\\n      background-size: auto calc(min(50%, 400px));\\n    }\\n    \");\n    },    function(Bokeh) {\n      Bokeh.set_log_level(\"info\");\n    },\nfunction(Bokeh) {} // ensure no trailing comma for IE\n  ];\n\n  function run_inline_js() {\n    if ((root.Bokeh !== undefined) || (force === true)) {\n      for (var i = 0; i < inline_js.length; i++) {\n        inline_js[i].call(root, root.Bokeh);\n      }} else if (Date.now() < root._bokeh_timeout) {\n      setTimeout(run_inline_js, 100);\n    } else if (!root._bokeh_failed_load) {\n      console.log(\"Bokeh: BokehJS failed to load within specified timeout.\");\n      root._bokeh_failed_load = true;\n    }\n  }\n\n  if (root._bokeh_is_loading === 0) {\n    console.debug(\"Bokeh: BokehJS loaded, going straight to plotting\");\n    run_inline_js();\n  } else {\n    load_libs(css_urls, js_urls, js_modules, function() {\n      console.debug(\"Bokeh: BokehJS plotting callback run at\", now());\n      run_inline_js();\n    });\n  }\n}(window));"
          },
          "metadata": {}
        },
        {
          "output_type": "display_data",
          "data": {
            "application/vnd.holoviews_load.v0+json": "\nif ((window.PyViz === undefined) || (window.PyViz instanceof HTMLElement)) {\n  window.PyViz = {comms: {}, comm_status:{}, kernels:{}, receivers: {}, plot_index: []}\n}\n\n\n    function JupyterCommManager() {\n    }\n\n    JupyterCommManager.prototype.register_target = function(plot_id, comm_id, msg_handler) {\n      if (window.comm_manager || ((window.Jupyter !== undefined) && (Jupyter.notebook.kernel != null))) {\n        var comm_manager = window.comm_manager || Jupyter.notebook.kernel.comm_manager;\n        comm_manager.register_target(comm_id, function(comm) {\n          comm.on_msg(msg_handler);\n        });\n      } else if ((plot_id in window.PyViz.kernels) && (window.PyViz.kernels[plot_id])) {\n        window.PyViz.kernels[plot_id].registerCommTarget(comm_id, function(comm) {\n          comm.onMsg = msg_handler;\n        });\n      } else if (typeof google != 'undefined' && google.colab.kernel != null) {\n        google.colab.kernel.comms.registerTarget(comm_id, (comm) => {\n          var messages = comm.messages[Symbol.asyncIterator]();\n          function processIteratorResult(result) {\n            var message = result.value;\n            console.log(message)\n            var content = {data: message.data, comm_id};\n            var buffers = []\n            for (var buffer of message.buffers || []) {\n              buffers.push(new DataView(buffer))\n            }\n            var metadata = message.metadata || {};\n            var msg = {content, buffers, metadata}\n            msg_handler(msg);\n            return messages.next().then(processIteratorResult);\n          }\n          return messages.next().then(processIteratorResult);\n        })\n      }\n    }\n\n    JupyterCommManager.prototype.get_client_comm = function(plot_id, comm_id, msg_handler) {\n      if (comm_id in window.PyViz.comms) {\n        return window.PyViz.comms[comm_id];\n      } else if (window.comm_manager || ((window.Jupyter !== undefined) && (Jupyter.notebook.kernel != null))) {\n        var comm_manager = window.comm_manager || Jupyter.notebook.kernel.comm_manager;\n        var comm = comm_manager.new_comm(comm_id, {}, {}, {}, comm_id);\n        if (msg_handler) {\n          comm.on_msg(msg_handler);\n        }\n      } else if ((plot_id in window.PyViz.kernels) && (window.PyViz.kernels[plot_id])) {\n        var comm = window.PyViz.kernels[plot_id].connectToComm(comm_id);\n        comm.open();\n        if (msg_handler) {\n          comm.onMsg = msg_handler;\n        }\n      } else if (typeof google != 'undefined' && google.colab.kernel != null) {\n        var comm_promise = google.colab.kernel.comms.open(comm_id)\n        comm_promise.then((comm) => {\n          window.PyViz.comms[comm_id] = comm;\n          if (msg_handler) {\n            var messages = comm.messages[Symbol.asyncIterator]();\n            function processIteratorResult(result) {\n              var message = result.value;\n              var content = {data: message.data};\n              var metadata = message.metadata || {comm_id};\n              var msg = {content, metadata}\n              msg_handler(msg);\n              return messages.next().then(processIteratorResult);\n            }\n            return messages.next().then(processIteratorResult);\n          }\n        }) \n        var sendClosure = (data, metadata, buffers, disposeOnDone) => {\n          return comm_promise.then((comm) => {\n            comm.send(data, metadata, buffers, disposeOnDone);\n          });\n        };\n        var comm = {\n          send: sendClosure\n        };\n      }\n      window.PyViz.comms[comm_id] = comm;\n      return comm;\n    }\n    window.PyViz.comm_manager = new JupyterCommManager();\n    \n\n\nvar JS_MIME_TYPE = 'application/javascript';\nvar HTML_MIME_TYPE = 'text/html';\nvar EXEC_MIME_TYPE = 'application/vnd.holoviews_exec.v0+json';\nvar CLASS_NAME = 'output';\n\n/**\n * Render data to the DOM node\n */\nfunction render(props, node) {\n  var div = document.createElement(\"div\");\n  var script = document.createElement(\"script\");\n  node.appendChild(div);\n  node.appendChild(script);\n}\n\n/**\n * Handle when a new output is added\n */\nfunction handle_add_output(event, handle) {\n  var output_area = handle.output_area;\n  var output = handle.output;\n  if ((output.data == undefined) || (!output.data.hasOwnProperty(EXEC_MIME_TYPE))) {\n    return\n  }\n  var id = output.metadata[EXEC_MIME_TYPE][\"id\"];\n  var toinsert = output_area.element.find(\".\" + CLASS_NAME.split(' ')[0]);\n  if (id !== undefined) {\n    var nchildren = toinsert.length;\n    var html_node = toinsert[nchildren-1].children[0];\n    html_node.innerHTML = output.data[HTML_MIME_TYPE];\n    var scripts = [];\n    var nodelist = html_node.querySelectorAll(\"script\");\n    for (var i in nodelist) {\n      if (nodelist.hasOwnProperty(i)) {\n        scripts.push(nodelist[i])\n      }\n    }\n\n    scripts.forEach( function (oldScript) {\n      var newScript = document.createElement(\"script\");\n      var attrs = [];\n      var nodemap = oldScript.attributes;\n      for (var j in nodemap) {\n        if (nodemap.hasOwnProperty(j)) {\n          attrs.push(nodemap[j])\n        }\n      }\n      attrs.forEach(function(attr) { newScript.setAttribute(attr.name, attr.value) });\n      newScript.appendChild(document.createTextNode(oldScript.innerHTML));\n      oldScript.parentNode.replaceChild(newScript, oldScript);\n    });\n    if (JS_MIME_TYPE in output.data) {\n      toinsert[nchildren-1].children[1].textContent = output.data[JS_MIME_TYPE];\n    }\n    output_area._hv_plot_id = id;\n    if ((window.Bokeh !== undefined) && (id in Bokeh.index)) {\n      window.PyViz.plot_index[id] = Bokeh.index[id];\n    } else {\n      window.PyViz.plot_index[id] = null;\n    }\n  } else if (output.metadata[EXEC_MIME_TYPE][\"server_id\"] !== undefined) {\n    var bk_div = document.createElement(\"div\");\n    bk_div.innerHTML = output.data[HTML_MIME_TYPE];\n    var script_attrs = bk_div.children[0].attributes;\n    for (var i = 0; i < script_attrs.length; i++) {\n      toinsert[toinsert.length - 1].childNodes[1].setAttribute(script_attrs[i].name, script_attrs[i].value);\n    }\n    // store reference to server id on output_area\n    output_area._bokeh_server_id = output.metadata[EXEC_MIME_TYPE][\"server_id\"];\n  }\n}\n\n/**\n * Handle when an output is cleared or removed\n */\nfunction handle_clear_output(event, handle) {\n  var id = handle.cell.output_area._hv_plot_id;\n  var server_id = handle.cell.output_area._bokeh_server_id;\n  if (((id === undefined) || !(id in PyViz.plot_index)) && (server_id !== undefined)) { return; }\n  var comm = window.PyViz.comm_manager.get_client_comm(\"hv-extension-comm\", \"hv-extension-comm\", function () {});\n  if (server_id !== null) {\n    comm.send({event_type: 'server_delete', 'id': server_id});\n    return;\n  } else if (comm !== null) {\n    comm.send({event_type: 'delete', 'id': id});\n  }\n  delete PyViz.plot_index[id];\n  if ((window.Bokeh !== undefined) & (id in window.Bokeh.index)) {\n    var doc = window.Bokeh.index[id].model.document\n    doc.clear();\n    const i = window.Bokeh.documents.indexOf(doc);\n    if (i > -1) {\n      window.Bokeh.documents.splice(i, 1);\n    }\n  }\n}\n\n/**\n * Handle kernel restart event\n */\nfunction handle_kernel_cleanup(event, handle) {\n  delete PyViz.comms[\"hv-extension-comm\"];\n  window.PyViz.plot_index = {}\n}\n\n/**\n * Handle update_display_data messages\n */\nfunction handle_update_output(event, handle) {\n  handle_clear_output(event, {cell: {output_area: handle.output_area}})\n  handle_add_output(event, handle)\n}\n\nfunction register_renderer(events, OutputArea) {\n  function append_mime(data, metadata, element) {\n    // create a DOM node to render to\n    var toinsert = this.create_output_subarea(\n    metadata,\n    CLASS_NAME,\n    EXEC_MIME_TYPE\n    );\n    this.keyboard_manager.register_events(toinsert);\n    // Render to node\n    var props = {data: data, metadata: metadata[EXEC_MIME_TYPE]};\n    render(props, toinsert[0]);\n    element.append(toinsert);\n    return toinsert\n  }\n\n  events.on('output_added.OutputArea', handle_add_output);\n  events.on('output_updated.OutputArea', handle_update_output);\n  events.on('clear_output.CodeCell', handle_clear_output);\n  events.on('delete.Cell', handle_clear_output);\n  events.on('kernel_ready.Kernel', handle_kernel_cleanup);\n\n  OutputArea.prototype.register_mime_type(EXEC_MIME_TYPE, append_mime, {\n    safe: true,\n    index: 0\n  });\n}\n\nif (window.Jupyter !== undefined) {\n  try {\n    var events = require('base/js/events');\n    var OutputArea = require('notebook/js/outputarea').OutputArea;\n    if (OutputArea.prototype.mime_types().indexOf(EXEC_MIME_TYPE) == -1) {\n      register_renderer(events, OutputArea);\n    }\n  } catch(err) {\n  }\n}\n",
            "application/javascript": "\nif ((window.PyViz === undefined) || (window.PyViz instanceof HTMLElement)) {\n  window.PyViz = {comms: {}, comm_status:{}, kernels:{}, receivers: {}, plot_index: []}\n}\n\n\n    function JupyterCommManager() {\n    }\n\n    JupyterCommManager.prototype.register_target = function(plot_id, comm_id, msg_handler) {\n      if (window.comm_manager || ((window.Jupyter !== undefined) && (Jupyter.notebook.kernel != null))) {\n        var comm_manager = window.comm_manager || Jupyter.notebook.kernel.comm_manager;\n        comm_manager.register_target(comm_id, function(comm) {\n          comm.on_msg(msg_handler);\n        });\n      } else if ((plot_id in window.PyViz.kernels) && (window.PyViz.kernels[plot_id])) {\n        window.PyViz.kernels[plot_id].registerCommTarget(comm_id, function(comm) {\n          comm.onMsg = msg_handler;\n        });\n      } else if (typeof google != 'undefined' && google.colab.kernel != null) {\n        google.colab.kernel.comms.registerTarget(comm_id, (comm) => {\n          var messages = comm.messages[Symbol.asyncIterator]();\n          function processIteratorResult(result) {\n            var message = result.value;\n            console.log(message)\n            var content = {data: message.data, comm_id};\n            var buffers = []\n            for (var buffer of message.buffers || []) {\n              buffers.push(new DataView(buffer))\n            }\n            var metadata = message.metadata || {};\n            var msg = {content, buffers, metadata}\n            msg_handler(msg);\n            return messages.next().then(processIteratorResult);\n          }\n          return messages.next().then(processIteratorResult);\n        })\n      }\n    }\n\n    JupyterCommManager.prototype.get_client_comm = function(plot_id, comm_id, msg_handler) {\n      if (comm_id in window.PyViz.comms) {\n        return window.PyViz.comms[comm_id];\n      } else if (window.comm_manager || ((window.Jupyter !== undefined) && (Jupyter.notebook.kernel != null))) {\n        var comm_manager = window.comm_manager || Jupyter.notebook.kernel.comm_manager;\n        var comm = comm_manager.new_comm(comm_id, {}, {}, {}, comm_id);\n        if (msg_handler) {\n          comm.on_msg(msg_handler);\n        }\n      } else if ((plot_id in window.PyViz.kernels) && (window.PyViz.kernels[plot_id])) {\n        var comm = window.PyViz.kernels[plot_id].connectToComm(comm_id);\n        comm.open();\n        if (msg_handler) {\n          comm.onMsg = msg_handler;\n        }\n      } else if (typeof google != 'undefined' && google.colab.kernel != null) {\n        var comm_promise = google.colab.kernel.comms.open(comm_id)\n        comm_promise.then((comm) => {\n          window.PyViz.comms[comm_id] = comm;\n          if (msg_handler) {\n            var messages = comm.messages[Symbol.asyncIterator]();\n            function processIteratorResult(result) {\n              var message = result.value;\n              var content = {data: message.data};\n              var metadata = message.metadata || {comm_id};\n              var msg = {content, metadata}\n              msg_handler(msg);\n              return messages.next().then(processIteratorResult);\n            }\n            return messages.next().then(processIteratorResult);\n          }\n        }) \n        var sendClosure = (data, metadata, buffers, disposeOnDone) => {\n          return comm_promise.then((comm) => {\n            comm.send(data, metadata, buffers, disposeOnDone);\n          });\n        };\n        var comm = {\n          send: sendClosure\n        };\n      }\n      window.PyViz.comms[comm_id] = comm;\n      return comm;\n    }\n    window.PyViz.comm_manager = new JupyterCommManager();\n    \n\n\nvar JS_MIME_TYPE = 'application/javascript';\nvar HTML_MIME_TYPE = 'text/html';\nvar EXEC_MIME_TYPE = 'application/vnd.holoviews_exec.v0+json';\nvar CLASS_NAME = 'output';\n\n/**\n * Render data to the DOM node\n */\nfunction render(props, node) {\n  var div = document.createElement(\"div\");\n  var script = document.createElement(\"script\");\n  node.appendChild(div);\n  node.appendChild(script);\n}\n\n/**\n * Handle when a new output is added\n */\nfunction handle_add_output(event, handle) {\n  var output_area = handle.output_area;\n  var output = handle.output;\n  if ((output.data == undefined) || (!output.data.hasOwnProperty(EXEC_MIME_TYPE))) {\n    return\n  }\n  var id = output.metadata[EXEC_MIME_TYPE][\"id\"];\n  var toinsert = output_area.element.find(\".\" + CLASS_NAME.split(' ')[0]);\n  if (id !== undefined) {\n    var nchildren = toinsert.length;\n    var html_node = toinsert[nchildren-1].children[0];\n    html_node.innerHTML = output.data[HTML_MIME_TYPE];\n    var scripts = [];\n    var nodelist = html_node.querySelectorAll(\"script\");\n    for (var i in nodelist) {\n      if (nodelist.hasOwnProperty(i)) {\n        scripts.push(nodelist[i])\n      }\n    }\n\n    scripts.forEach( function (oldScript) {\n      var newScript = document.createElement(\"script\");\n      var attrs = [];\n      var nodemap = oldScript.attributes;\n      for (var j in nodemap) {\n        if (nodemap.hasOwnProperty(j)) {\n          attrs.push(nodemap[j])\n        }\n      }\n      attrs.forEach(function(attr) { newScript.setAttribute(attr.name, attr.value) });\n      newScript.appendChild(document.createTextNode(oldScript.innerHTML));\n      oldScript.parentNode.replaceChild(newScript, oldScript);\n    });\n    if (JS_MIME_TYPE in output.data) {\n      toinsert[nchildren-1].children[1].textContent = output.data[JS_MIME_TYPE];\n    }\n    output_area._hv_plot_id = id;\n    if ((window.Bokeh !== undefined) && (id in Bokeh.index)) {\n      window.PyViz.plot_index[id] = Bokeh.index[id];\n    } else {\n      window.PyViz.plot_index[id] = null;\n    }\n  } else if (output.metadata[EXEC_MIME_TYPE][\"server_id\"] !== undefined) {\n    var bk_div = document.createElement(\"div\");\n    bk_div.innerHTML = output.data[HTML_MIME_TYPE];\n    var script_attrs = bk_div.children[0].attributes;\n    for (var i = 0; i < script_attrs.length; i++) {\n      toinsert[toinsert.length - 1].childNodes[1].setAttribute(script_attrs[i].name, script_attrs[i].value);\n    }\n    // store reference to server id on output_area\n    output_area._bokeh_server_id = output.metadata[EXEC_MIME_TYPE][\"server_id\"];\n  }\n}\n\n/**\n * Handle when an output is cleared or removed\n */\nfunction handle_clear_output(event, handle) {\n  var id = handle.cell.output_area._hv_plot_id;\n  var server_id = handle.cell.output_area._bokeh_server_id;\n  if (((id === undefined) || !(id in PyViz.plot_index)) && (server_id !== undefined)) { return; }\n  var comm = window.PyViz.comm_manager.get_client_comm(\"hv-extension-comm\", \"hv-extension-comm\", function () {});\n  if (server_id !== null) {\n    comm.send({event_type: 'server_delete', 'id': server_id});\n    return;\n  } else if (comm !== null) {\n    comm.send({event_type: 'delete', 'id': id});\n  }\n  delete PyViz.plot_index[id];\n  if ((window.Bokeh !== undefined) & (id in window.Bokeh.index)) {\n    var doc = window.Bokeh.index[id].model.document\n    doc.clear();\n    const i = window.Bokeh.documents.indexOf(doc);\n    if (i > -1) {\n      window.Bokeh.documents.splice(i, 1);\n    }\n  }\n}\n\n/**\n * Handle kernel restart event\n */\nfunction handle_kernel_cleanup(event, handle) {\n  delete PyViz.comms[\"hv-extension-comm\"];\n  window.PyViz.plot_index = {}\n}\n\n/**\n * Handle update_display_data messages\n */\nfunction handle_update_output(event, handle) {\n  handle_clear_output(event, {cell: {output_area: handle.output_area}})\n  handle_add_output(event, handle)\n}\n\nfunction register_renderer(events, OutputArea) {\n  function append_mime(data, metadata, element) {\n    // create a DOM node to render to\n    var toinsert = this.create_output_subarea(\n    metadata,\n    CLASS_NAME,\n    EXEC_MIME_TYPE\n    );\n    this.keyboard_manager.register_events(toinsert);\n    // Render to node\n    var props = {data: data, metadata: metadata[EXEC_MIME_TYPE]};\n    render(props, toinsert[0]);\n    element.append(toinsert);\n    return toinsert\n  }\n\n  events.on('output_added.OutputArea', handle_add_output);\n  events.on('output_updated.OutputArea', handle_update_output);\n  events.on('clear_output.CodeCell', handle_clear_output);\n  events.on('delete.Cell', handle_clear_output);\n  events.on('kernel_ready.Kernel', handle_kernel_cleanup);\n\n  OutputArea.prototype.register_mime_type(EXEC_MIME_TYPE, append_mime, {\n    safe: true,\n    index: 0\n  });\n}\n\nif (window.Jupyter !== undefined) {\n  try {\n    var events = require('base/js/events');\n    var OutputArea = require('notebook/js/outputarea').OutputArea;\n    if (OutputArea.prototype.mime_types().indexOf(EXEC_MIME_TYPE) == -1) {\n      register_renderer(events, OutputArea);\n    }\n  } catch(err) {\n  }\n}\n"
          },
          "metadata": {}
        },
        {
          "output_type": "display_data",
          "data": {
            "text/html": "<style>.bk-root, .bk-root .bk:before, .bk-root .bk:after {\n  font-family: var(--jp-ui-font-size1);\n  font-size: var(--jp-ui-font-size1);\n  color: var(--jp-ui-font-color1);\n}\n</style>"
          },
          "metadata": {}
        },
        {
          "name": "stdout",
          "text": "Dataset information:\nTraining data: (16000, 2)\nValidation data: (2000, 2)\nTest data: (2000, 2)\n",
          "output_type": "stream"
        }
      ]
    },
    {
      "cell_type": "code",
      "source": [
        "show_panel(train)"
      ],
      "metadata": {
        "execution": {
          "iopub.status.busy": "2024-01-11T12:18:50.526964Z",
          "iopub.execute_input": "2024-01-11T12:18:50.527506Z",
          "iopub.status.idle": "2024-01-11T12:18:50.670673Z",
          "shell.execute_reply.started": "2024-01-11T12:18:50.527461Z",
          "shell.execute_reply": "2024-01-11T12:18:50.669765Z"
        },
        "trusted": true,
        "id": "NDsaCWjB-Gb2",
        "outputId": "fc9445b2-e9bc-404e-dad9-1a153fb277a4"
      },
      "execution_count": null,
      "outputs": [
        {
          "output_type": "display_data",
          "data": {},
          "metadata": {}
        },
        {
          "execution_count": 3,
          "output_type": "execute_result",
          "data": {
            "text/html": "<div id='1014'>\n  <div class=\"bk-root\" id=\"a66d5b21-1605-442e-b773-92394c9f420f\" data-root-id=\"1014\"></div>\n</div>\n<script type=\"application/javascript\">(function(root) {\n  function embed_document(root) {\n    var docs_json = {\"a55e8568-166e-42ed-9f32-112180fd46f6\":{\"defs\":[{\"extends\":null,\"module\":null,\"name\":\"ReactiveHTML1\",\"overrides\":[],\"properties\":[]},{\"extends\":null,\"module\":null,\"name\":\"FlexBox1\",\"overrides\":[],\"properties\":[{\"default\":\"flex-start\",\"kind\":null,\"name\":\"align_content\"},{\"default\":\"flex-start\",\"kind\":null,\"name\":\"align_items\"},{\"default\":\"row\",\"kind\":null,\"name\":\"flex_direction\"},{\"default\":\"wrap\",\"kind\":null,\"name\":\"flex_wrap\"},{\"default\":\"flex-start\",\"kind\":null,\"name\":\"justify_content\"}]},{\"extends\":null,\"module\":null,\"name\":\"GridStack1\",\"overrides\":[],\"properties\":[{\"default\":\"warn\",\"kind\":null,\"name\":\"mode\"},{\"default\":null,\"kind\":null,\"name\":\"ncols\"},{\"default\":null,\"kind\":null,\"name\":\"nrows\"},{\"default\":true,\"kind\":null,\"name\":\"allow_resize\"},{\"default\":true,\"kind\":null,\"name\":\"allow_drag\"},{\"default\":[],\"kind\":null,\"name\":\"state\"}]},{\"extends\":null,\"module\":null,\"name\":\"click1\",\"overrides\":[],\"properties\":[{\"default\":\"\",\"kind\":null,\"name\":\"terminal_output\"},{\"default\":\"\",\"kind\":null,\"name\":\"debug_name\"},{\"default\":0,\"kind\":null,\"name\":\"clears\"}]},{\"extends\":null,\"module\":null,\"name\":\"NotificationAreaBase1\",\"overrides\":[],\"properties\":[{\"default\":\"bottom-right\",\"kind\":null,\"name\":\"position\"},{\"default\":0,\"kind\":null,\"name\":\"_clear\"}]},{\"extends\":null,\"module\":null,\"name\":\"NotificationArea1\",\"overrides\":[],\"properties\":[{\"default\":[],\"kind\":null,\"name\":\"notifications\"},{\"default\":\"bottom-right\",\"kind\":null,\"name\":\"position\"},{\"default\":0,\"kind\":null,\"name\":\"_clear\"},{\"default\":[{\"background\":\"#ffc107\",\"icon\":{\"className\":\"fas fa-exclamation-triangle\",\"color\":\"white\",\"tagName\":\"i\"},\"type\":\"warning\"},{\"background\":\"#007bff\",\"icon\":{\"className\":\"fas fa-info-circle\",\"color\":\"white\",\"tagName\":\"i\"},\"type\":\"info\"}],\"kind\":null,\"name\":\"types\"}]},{\"extends\":null,\"module\":null,\"name\":\"Notification\",\"overrides\":[],\"properties\":[{\"default\":null,\"kind\":null,\"name\":\"background\"},{\"default\":3000,\"kind\":null,\"name\":\"duration\"},{\"default\":null,\"kind\":null,\"name\":\"icon\"},{\"default\":\"\",\"kind\":null,\"name\":\"message\"},{\"default\":null,\"kind\":null,\"name\":\"notification_type\"},{\"default\":false,\"kind\":null,\"name\":\"_destroyed\"}]},{\"extends\":null,\"module\":null,\"name\":\"TemplateActions1\",\"overrides\":[],\"properties\":[{\"default\":0,\"kind\":null,\"name\":\"open_modal\"},{\"default\":0,\"kind\":null,\"name\":\"close_modal\"}]},{\"extends\":null,\"module\":null,\"name\":\"MaterialTemplateActions1\",\"overrides\":[],\"properties\":[{\"default\":0,\"kind\":null,\"name\":\"open_modal\"},{\"default\":0,\"kind\":null,\"name\":\"close_modal\"}]}],\"roots\":{\"references\":[{\"attributes\":{\"editor\":{\"id\":\"1010\"},\"field\":\"label\",\"formatter\":{\"id\":\"1009\"},\"title\":\"label\",\"width\":0},\"id\":\"1011\",\"type\":\"TableColumn\"},{\"attributes\":{\"editor\":{\"id\":\"1005\"},\"field\":\"text\",\"formatter\":{\"id\":\"1004\"},\"title\":\"text\",\"width\":0},\"id\":\"1006\",\"type\":\"TableColumn\"},{\"attributes\":{\"text_align\":\"right\"},\"id\":\"1009\",\"type\":\"NumberFormatter\"},{\"attributes\":{},\"id\":\"1004\",\"type\":\"StringFormatter\"},{\"attributes\":{},\"id\":\"1016\",\"type\":\"UnionRenderers\"},{\"attributes\":{\"client_comm_id\":\"1e57ef8b4519447fbd0e0093626eb0d9\",\"comm_id\":\"adcee0de95b142e79c9aea73c5664ff9\",\"plot_id\":\"1014\"},\"id\":\"1022\",\"type\":\"panel.models.comm_manager.CommManager\"},{\"attributes\":{\"data\":{\"label\":[0,0,3,2,3,0,5,4,1,2,0,1,3,0,1,1,0,0,0,4],\"text\":[\"i didnt feel humiliated\",\"i can go from feeling so hopeless to so damned hopeful just from being around someone who cares and is awake\",\"im grabbing a minute to post i feel greedy wrong\",\"i am ever feeling nostalgic about the fireplace i will know that it is still on the property\",\"i am feeling grouchy\",\"ive been feeling a little burdened lately wasnt sure why that was\",\"ive been taking or milligrams or times recommended amount and ive fallen asleep a lot faster but i also feel like so funny\",\"i feel as confused about life as a teenager or as jaded as a year old man\",\"i have been with petronas for years i feel that petronas has performed well and made a huge profit\",\"i feel romantic too\",\"i feel like i have to make the suffering i m seeing mean something\",\"i do feel that running is a divine experience and that i can expect to have some type of spiritual encounter\",\"i think it s the easiest time of year to feel dissatisfied\",\"i feel low energy i m just thirsty\",\"i have immense sympathy with the general point but as a possible proto writer trying to find time to write in the corners of life and with no sign of an agent let alone a publishing contract this feels a little precious\",\"i do not feel reassured anxiety is on each side\",\"i didnt really feel that embarrassed\",\"i feel pretty pathetic most of the time\",\"i started feeling sentimental about dolls i had as a child and so began a collection of vintage barbie dolls from the sixties\",\"i now feel compromised and skeptical of the value of every unit of work i put in\"]},\"selected\":{\"id\":\"1003\"},\"selection_policy\":{\"id\":\"1016\"}},\"id\":\"1002\",\"type\":\"ColumnDataSource\"},{\"attributes\":{\"indices\":[]},\"id\":\"1003\",\"type\":\"Selection\"},{\"attributes\":{\"reload\":false},\"id\":\"1029\",\"type\":\"panel.models.location.Location\"},{\"attributes\":{},\"id\":\"1010\",\"type\":\"IntEditor\"},{\"attributes\":{\"columns\":[{\"id\":\"1006\"},{\"id\":\"1011\"}],\"configuration\":{\"columns\":[{\"field\":\"text\"},{\"field\":\"label\"}],\"dataTree\":false,\"selectable\":true},\"layout\":\"fit_data_table\",\"margin\":[5,10,5,10],\"max_page\":2,\"name\":\"\",\"page\":1,\"page_size\":10,\"pagination\":\"local\",\"select_mode\":true,\"selectable_rows\":null,\"source\":{\"id\":\"1002\"},\"styles\":{\"data\":{},\"id\":\"5f406c95456d4ac09147f5aa242bcd67\"},\"subscribed_events\":[\"cell-click\",\"table-edit\"],\"theme\":\"bootstrap\"},\"id\":\"1014\",\"type\":\"panel.models.tabulator.DataTabulator\"},{\"attributes\":{},\"id\":\"1005\",\"type\":\"StringEditor\"}],\"root_ids\":[\"1014\",\"1022\",\"1029\"]},\"title\":\"Bokeh Application\",\"version\":\"2.4.3\"}};\n    var render_items = [{\"docid\":\"a55e8568-166e-42ed-9f32-112180fd46f6\",\"root_ids\":[\"1014\"],\"roots\":{\"1014\":\"a66d5b21-1605-442e-b773-92394c9f420f\"}}];\n    root.Bokeh.embed.embed_items_notebook(docs_json, render_items);\n    for (const render_item of render_items) {\n      for (const root_id of render_item.root_ids) {\n\tconst id_el = document.getElementById(root_id)\n\tif (id_el.children.length && (id_el.children[0].className === 'bk-root')) {\n\t  const root_el = id_el.children[0]\n\t  root_el.id = root_el.id + '-rendered'\n\t}\n      }\n    }\n  }\n  if (root.Bokeh !== undefined && root.Bokeh.Panel !== undefined && ( root['Tabulator'] !== undefined)) {\n    embed_document(root);\n  } else {\n    var attempts = 0;\n    var timer = setInterval(function(root) {\n      if (root.Bokeh !== undefined && root.Bokeh.Panel !== undefined && (root['Tabulator'] !== undefined)) {\n        clearInterval(timer);\n        embed_document(root);\n      } else if (document.readyState == \"complete\") {\n        attempts++;\n        if (attempts > 200) {\n          clearInterval(timer);\n          console.log(\"Bokeh: ERROR: Unable to run BokehJS code because BokehJS library is missing\");\n        }\n      }\n    }, 25, root)\n  }\n})(window);</script>",
            "application/vnd.holoviews_exec.v0+json": "",
            "text/plain": "Tabulator(page_size=10, pagination='local', show_index=False, value=              ...)"
          },
          "metadata": {
            "application/vnd.holoviews_exec.v0+json": {
              "id": "1014"
            }
          }
        }
      ]
    },
    {
      "cell_type": "markdown",
      "source": [
        "### <b><span style='color:#F1A424'>Combine DataFrames into Dataset</span></b>\n",
        "- It can be more intuitive to utilise **<mark style=\"background-color:#FFC300;color:white;border-radius:5px;opacity:0.7\">HuggingFace</mark>**'s Dataset  "
      ],
      "metadata": {
        "id": "2BcEX-iJ-Gb3"
      }
    },
    {
      "cell_type": "code",
      "source": [
        "from datasets import Dataset,DatasetDict,Features,Value,ClassLabel\n",
        "\n",
        "# Don't forget the class label data\n",
        "class_names = ['sadness', 'joy', 'love', 'anger', 'fear', 'surprise']\n",
        "ft = Features({'text': Value('string'), 'label': ClassLabel(names=class_names)})\n",
        "\n",
        "# Combine Multiple Datasets\n",
        "emotions = DatasetDict({\n",
        "    \"train\": Dataset.from_pandas(train,features=ft),\n",
        "    \"test\": Dataset.from_pandas(test,features=ft),\n",
        "    \"validation\": Dataset.from_pandas(validation,features=ft)\n",
        "    })\n",
        "\n",
        "# Convert a single DataFrame to a Dataset\n",
        "# emotions = Dataset.from_pandas(train,features=ft)\n",
        "\n",
        "emotions"
      ],
      "metadata": {
        "execution": {
          "iopub.status.busy": "2024-01-11T12:20:19.074774Z",
          "iopub.execute_input": "2024-01-11T12:20:19.075252Z",
          "iopub.status.idle": "2024-01-11T12:20:20.016491Z",
          "shell.execute_reply.started": "2024-01-11T12:20:19.075216Z",
          "shell.execute_reply": "2024-01-11T12:20:20.015480Z"
        },
        "trusted": true,
        "id": "8DqEKTAO-Gb3",
        "outputId": "008f4380-d699-4328-adb8-1cc51b34feb4"
      },
      "execution_count": null,
      "outputs": [
        {
          "execution_count": 4,
          "output_type": "execute_result",
          "data": {
            "text/plain": "DatasetDict({\n    train: Dataset({\n        features: ['text', 'label'],\n        num_rows: 16000\n    })\n    test: Dataset({\n        features: ['text', 'label'],\n        num_rows: 2000\n    })\n    validation: Dataset({\n        features: ['text', 'label'],\n        num_rows: 2000\n    })\n})"
          },
          "metadata": {}
        }
      ]
    },
    {
      "cell_type": "markdown",
      "source": [
        "### <b><span style='color:#F1A424'>Selecting a Subset</span></b>\n",
        "- We'll be working with the **training and validation dataset** in this problem\n",
        "- Lets just show some useful fearures of the **<mark style=\"background-color:#FFC300;color:white;border-radius:5px;opacity:0.7\">Dataset</mark>** class"
      ],
      "metadata": {
        "id": "8Ln1aDyJ-Gb4"
      }
    },
    {
      "cell_type": "code",
      "source": [
        "# Training Data\n",
        "train_ds = emotions[\"train\"]\n",
        "train_ds"
      ],
      "metadata": {
        "execution": {
          "iopub.status.busy": "2024-01-11T12:26:05.415003Z",
          "iopub.execute_input": "2024-01-11T12:26:05.415503Z",
          "iopub.status.idle": "2024-01-11T12:26:05.423656Z",
          "shell.execute_reply.started": "2024-01-11T12:26:05.415470Z",
          "shell.execute_reply": "2024-01-11T12:26:05.422278Z"
        },
        "trusted": true,
        "id": "dlAl-1br-Gb5",
        "outputId": "3156584b-2f55-4d15-fa3a-0aed28ff9efc"
      },
      "execution_count": null,
      "outputs": [
        {
          "execution_count": 6,
          "output_type": "execute_result",
          "data": {
            "text/plain": "Dataset({\n    features: ['text', 'label'],\n    num_rows: 16000\n})"
          },
          "metadata": {}
        }
      ]
    },
    {
      "cell_type": "code",
      "source": [
        "# Get First 5 Entries in Dictionary Format (Group them)\n",
        "train_ds[:5]"
      ],
      "metadata": {
        "execution": {
          "iopub.status.busy": "2024-01-11T12:26:06.171397Z",
          "iopub.execute_input": "2024-01-11T12:26:06.171825Z",
          "iopub.status.idle": "2024-01-11T12:26:06.186905Z",
          "shell.execute_reply.started": "2024-01-11T12:26:06.171793Z",
          "shell.execute_reply": "2024-01-11T12:26:06.185349Z"
        },
        "trusted": true,
        "id": "VfpsbmuK-Gb6",
        "outputId": "03bcf451-ccde-4ac5-9853-3314a2b33a5c"
      },
      "execution_count": null,
      "outputs": [
        {
          "execution_count": 7,
          "output_type": "execute_result",
          "data": {
            "text/plain": "{'text': ['i didnt feel humiliated',\n  'i can go from feeling so hopeless to so damned hopeful just from being around someone who cares and is awake',\n  'im grabbing a minute to post i feel greedy wrong',\n  'i am ever feeling nostalgic about the fireplace i will know that it is still on the property',\n  'i am feeling grouchy'],\n 'label': [0, 0, 3, 2, 3]}"
          },
          "metadata": {}
        }
      ]
    },
    {
      "cell_type": "markdown",
      "source": [
        "### <b><span style='color:#F1A424'>Dataset to DataFrame Convertion</span></b>\n",
        "- Whenever we need a pandas `DataFrame`, eg. for visualisations, we can utlise the `Dataset`'' method `.set_format`"
      ],
      "metadata": {
        "id": "qIHlae_d-Gb7"
      }
    },
    {
      "cell_type": "code",
      "source": [
        "# Convert Dataset to DataFrame (don't forget to reset)\n",
        "emotions.set_format(type=\"pandas\")\n",
        "df = emotions[\"train\"][:]\n",
        "show_panel(df)"
      ],
      "metadata": {
        "execution": {
          "iopub.status.busy": "2024-01-11T13:01:48.094519Z",
          "iopub.execute_input": "2024-01-11T13:01:48.094989Z",
          "iopub.status.idle": "2024-01-11T13:01:48.158354Z",
          "shell.execute_reply.started": "2024-01-11T13:01:48.094941Z",
          "shell.execute_reply": "2024-01-11T13:01:48.157160Z"
        },
        "trusted": true,
        "id": "mojRhzcL-Gb7",
        "outputId": "1c8f3d93-1c4d-49b2-92d5-cf7419433ae1"
      },
      "execution_count": null,
      "outputs": [
        {
          "output_type": "display_data",
          "data": {},
          "metadata": {}
        },
        {
          "execution_count": 10,
          "output_type": "execute_result",
          "data": {
            "text/html": "<div id='1110'>\n  <div class=\"bk-root\" id=\"a5af4946-8479-450f-b80f-b47506d0a691\" data-root-id=\"1110\"></div>\n</div>\n<script type=\"application/javascript\">(function(root) {\n  function embed_document(root) {\n    var docs_json = {\"4598b769-bfea-4d1a-b25b-ea9d0d11e408\":{\"defs\":[{\"extends\":null,\"module\":null,\"name\":\"ReactiveHTML1\",\"overrides\":[],\"properties\":[]},{\"extends\":null,\"module\":null,\"name\":\"FlexBox1\",\"overrides\":[],\"properties\":[{\"default\":\"flex-start\",\"kind\":null,\"name\":\"align_content\"},{\"default\":\"flex-start\",\"kind\":null,\"name\":\"align_items\"},{\"default\":\"row\",\"kind\":null,\"name\":\"flex_direction\"},{\"default\":\"wrap\",\"kind\":null,\"name\":\"flex_wrap\"},{\"default\":\"flex-start\",\"kind\":null,\"name\":\"justify_content\"}]},{\"extends\":null,\"module\":null,\"name\":\"GridStack1\",\"overrides\":[],\"properties\":[{\"default\":\"warn\",\"kind\":null,\"name\":\"mode\"},{\"default\":null,\"kind\":null,\"name\":\"ncols\"},{\"default\":null,\"kind\":null,\"name\":\"nrows\"},{\"default\":true,\"kind\":null,\"name\":\"allow_resize\"},{\"default\":true,\"kind\":null,\"name\":\"allow_drag\"},{\"default\":[],\"kind\":null,\"name\":\"state\"}]},{\"extends\":null,\"module\":null,\"name\":\"click1\",\"overrides\":[],\"properties\":[{\"default\":\"\",\"kind\":null,\"name\":\"terminal_output\"},{\"default\":\"\",\"kind\":null,\"name\":\"debug_name\"},{\"default\":0,\"kind\":null,\"name\":\"clears\"}]},{\"extends\":null,\"module\":null,\"name\":\"NotificationAreaBase1\",\"overrides\":[],\"properties\":[{\"default\":\"bottom-right\",\"kind\":null,\"name\":\"position\"},{\"default\":0,\"kind\":null,\"name\":\"_clear\"}]},{\"extends\":null,\"module\":null,\"name\":\"NotificationArea1\",\"overrides\":[],\"properties\":[{\"default\":[],\"kind\":null,\"name\":\"notifications\"},{\"default\":\"bottom-right\",\"kind\":null,\"name\":\"position\"},{\"default\":0,\"kind\":null,\"name\":\"_clear\"},{\"default\":[{\"background\":\"#ffc107\",\"icon\":{\"className\":\"fas fa-exclamation-triangle\",\"color\":\"white\",\"tagName\":\"i\"},\"type\":\"warning\"},{\"background\":\"#007bff\",\"icon\":{\"className\":\"fas fa-info-circle\",\"color\":\"white\",\"tagName\":\"i\"},\"type\":\"info\"}],\"kind\":null,\"name\":\"types\"}]},{\"extends\":null,\"module\":null,\"name\":\"Notification\",\"overrides\":[],\"properties\":[{\"default\":null,\"kind\":null,\"name\":\"background\"},{\"default\":3000,\"kind\":null,\"name\":\"duration\"},{\"default\":null,\"kind\":null,\"name\":\"icon\"},{\"default\":\"\",\"kind\":null,\"name\":\"message\"},{\"default\":null,\"kind\":null,\"name\":\"notification_type\"},{\"default\":false,\"kind\":null,\"name\":\"_destroyed\"}]},{\"extends\":null,\"module\":null,\"name\":\"TemplateActions1\",\"overrides\":[],\"properties\":[{\"default\":0,\"kind\":null,\"name\":\"open_modal\"},{\"default\":0,\"kind\":null,\"name\":\"close_modal\"}]},{\"extends\":null,\"module\":null,\"name\":\"MaterialTemplateActions1\",\"overrides\":[],\"properties\":[{\"default\":0,\"kind\":null,\"name\":\"open_modal\"},{\"default\":0,\"kind\":null,\"name\":\"close_modal\"}]}],\"roots\":{\"references\":[{\"attributes\":{\"indices\":[]},\"id\":\"1099\",\"type\":\"Selection\"},{\"attributes\":{},\"id\":\"1101\",\"type\":\"StringEditor\"},{\"attributes\":{},\"id\":\"1100\",\"type\":\"StringFormatter\"},{\"attributes\":{},\"id\":\"1106\",\"type\":\"IntEditor\"},{\"attributes\":{\"columns\":[{\"id\":\"1102\"},{\"id\":\"1107\"}],\"configuration\":{\"columns\":[{\"field\":\"text\"},{\"field\":\"label\"}],\"dataTree\":false,\"selectable\":true},\"layout\":\"fit_data_table\",\"margin\":[5,10,5,10],\"max_page\":2,\"name\":\"\",\"page\":1,\"page_size\":10,\"pagination\":\"local\",\"select_mode\":true,\"selectable_rows\":null,\"source\":{\"id\":\"1098\"},\"styles\":{\"data\":{},\"id\":\"6963102ecf7145d192def33c45030e9a\"},\"subscribed_events\":[\"cell-click\",\"table-edit\"],\"theme\":\"bootstrap\"},\"id\":\"1110\",\"type\":\"panel.models.tabulator.DataTabulator\"},{\"attributes\":{\"data\":{\"label\":[0,0,3,2,3,0,5,4,1,2,0,1,3,0,1,1,0,0,0,4],\"text\":[\"i didnt feel humiliated\",\"i can go from feeling so hopeless to so damned hopeful just from being around someone who cares and is awake\",\"im grabbing a minute to post i feel greedy wrong\",\"i am ever feeling nostalgic about the fireplace i will know that it is still on the property\",\"i am feeling grouchy\",\"ive been feeling a little burdened lately wasnt sure why that was\",\"ive been taking or milligrams or times recommended amount and ive fallen asleep a lot faster but i also feel like so funny\",\"i feel as confused about life as a teenager or as jaded as a year old man\",\"i have been with petronas for years i feel that petronas has performed well and made a huge profit\",\"i feel romantic too\",\"i feel like i have to make the suffering i m seeing mean something\",\"i do feel that running is a divine experience and that i can expect to have some type of spiritual encounter\",\"i think it s the easiest time of year to feel dissatisfied\",\"i feel low energy i m just thirsty\",\"i have immense sympathy with the general point but as a possible proto writer trying to find time to write in the corners of life and with no sign of an agent let alone a publishing contract this feels a little precious\",\"i do not feel reassured anxiety is on each side\",\"i didnt really feel that embarrassed\",\"i feel pretty pathetic most of the time\",\"i started feeling sentimental about dolls i had as a child and so began a collection of vintage barbie dolls from the sixties\",\"i now feel compromised and skeptical of the value of every unit of work i put in\"]},\"selected\":{\"id\":\"1099\"},\"selection_policy\":{\"id\":\"1112\"}},\"id\":\"1098\",\"type\":\"ColumnDataSource\"},{\"attributes\":{\"editor\":{\"id\":\"1101\"},\"field\":\"text\",\"formatter\":{\"id\":\"1100\"},\"title\":\"text\",\"width\":0},\"id\":\"1102\",\"type\":\"TableColumn\"},{\"attributes\":{},\"id\":\"1112\",\"type\":\"UnionRenderers\"},{\"attributes\":{\"client_comm_id\":\"9864096fd695498caa21090da6e3a879\",\"comm_id\":\"eb3299f556ad4315b1397d0b472de212\",\"plot_id\":\"1110\"},\"id\":\"1118\",\"type\":\"panel.models.comm_manager.CommManager\"},{\"attributes\":{\"editor\":{\"id\":\"1106\"},\"field\":\"label\",\"formatter\":{\"id\":\"1105\"},\"title\":\"label\",\"width\":0},\"id\":\"1107\",\"type\":\"TableColumn\"},{\"attributes\":{\"text_align\":\"right\"},\"id\":\"1105\",\"type\":\"NumberFormatter\"}],\"root_ids\":[\"1110\",\"1118\"]},\"title\":\"Bokeh Application\",\"version\":\"2.4.3\"}};\n    var render_items = [{\"docid\":\"4598b769-bfea-4d1a-b25b-ea9d0d11e408\",\"root_ids\":[\"1110\"],\"roots\":{\"1110\":\"a5af4946-8479-450f-b80f-b47506d0a691\"}}];\n    root.Bokeh.embed.embed_items_notebook(docs_json, render_items);\n    for (const render_item of render_items) {\n      for (const root_id of render_item.root_ids) {\n\tconst id_el = document.getElementById(root_id)\n\tif (id_el.children.length && (id_el.children[0].className === 'bk-root')) {\n\t  const root_el = id_el.children[0]\n\t  root_el.id = root_el.id + '-rendered'\n\t}\n      }\n    }\n  }\n  if (root.Bokeh !== undefined && root.Bokeh.Panel !== undefined && ( root['Tabulator'] !== undefined)) {\n    embed_document(root);\n  } else {\n    var attempts = 0;\n    var timer = setInterval(function(root) {\n      if (root.Bokeh !== undefined && root.Bokeh.Panel !== undefined && (root['Tabulator'] !== undefined)) {\n        clearInterval(timer);\n        embed_document(root);\n      } else if (document.readyState == \"complete\") {\n        attempts++;\n        if (attempts > 200) {\n          clearInterval(timer);\n          console.log(\"Bokeh: ERROR: Unable to run BokehJS code because BokehJS library is missing\");\n        }\n      }\n    }, 25, root)\n  }\n})(window);</script>",
            "application/vnd.holoviews_exec.v0+json": "",
            "text/plain": "Tabulator(page_size=10, pagination='local', show_index=False, value=              ...)"
          },
          "metadata": {
            "application/vnd.holoviews_exec.v0+json": {
              "id": "1110"
            }
          }
        }
      ]
    },
    {
      "cell_type": "markdown",
      "source": [
        "### <b><span style='color:#F1A424'>Adding Label Data</span></b>\n",
        "- We made sure to not forget the `label_names` when converting from `DataFrame` to `Dataset`\n",
        "- We can convert **numeric** values to **string** values by using method `int2str`"
      ],
      "metadata": {
        "id": "igOdCX99-Gb8"
      }
    },
    {
      "cell_type": "code",
      "source": [
        "# Add label data to dataframe\n",
        "def label_int2str(row):\n",
        "    return emotions[\"train\"].features[\"label\"].int2str(row)\n",
        "\n",
        "df[\"label_name\"] = df[\"label\"].apply(label_int2str)\n",
        "show_panel(df)"
      ],
      "metadata": {
        "execution": {
          "iopub.status.busy": "2024-01-11T13:10:52.208376Z",
          "iopub.execute_input": "2024-01-11T13:10:52.209295Z",
          "iopub.status.idle": "2024-01-11T13:10:52.329146Z",
          "shell.execute_reply.started": "2024-01-11T13:10:52.209247Z",
          "shell.execute_reply": "2024-01-11T13:10:52.327851Z"
        },
        "trusted": true,
        "id": "aJUOmTXq-Gb8",
        "outputId": "4b404dc1-c1aa-4164-9c31-8281dd3badd3"
      },
      "execution_count": null,
      "outputs": [
        {
          "output_type": "display_data",
          "data": {},
          "metadata": {}
        },
        {
          "execution_count": 11,
          "output_type": "execute_result",
          "data": {
            "text/html": "<div id='1146'>\n  <div class=\"bk-root\" id=\"6c1c3c9a-f326-4008-9130-c02e0d15f198\" data-root-id=\"1146\"></div>\n</div>\n<script type=\"application/javascript\">(function(root) {\n  function embed_document(root) {\n    var docs_json = {\"a1397c14-73ee-4fc8-8c03-63379daf4cad\":{\"defs\":[{\"extends\":null,\"module\":null,\"name\":\"ReactiveHTML1\",\"overrides\":[],\"properties\":[]},{\"extends\":null,\"module\":null,\"name\":\"FlexBox1\",\"overrides\":[],\"properties\":[{\"default\":\"flex-start\",\"kind\":null,\"name\":\"align_content\"},{\"default\":\"flex-start\",\"kind\":null,\"name\":\"align_items\"},{\"default\":\"row\",\"kind\":null,\"name\":\"flex_direction\"},{\"default\":\"wrap\",\"kind\":null,\"name\":\"flex_wrap\"},{\"default\":\"flex-start\",\"kind\":null,\"name\":\"justify_content\"}]},{\"extends\":null,\"module\":null,\"name\":\"GridStack1\",\"overrides\":[],\"properties\":[{\"default\":\"warn\",\"kind\":null,\"name\":\"mode\"},{\"default\":null,\"kind\":null,\"name\":\"ncols\"},{\"default\":null,\"kind\":null,\"name\":\"nrows\"},{\"default\":true,\"kind\":null,\"name\":\"allow_resize\"},{\"default\":true,\"kind\":null,\"name\":\"allow_drag\"},{\"default\":[],\"kind\":null,\"name\":\"state\"}]},{\"extends\":null,\"module\":null,\"name\":\"click1\",\"overrides\":[],\"properties\":[{\"default\":\"\",\"kind\":null,\"name\":\"terminal_output\"},{\"default\":\"\",\"kind\":null,\"name\":\"debug_name\"},{\"default\":0,\"kind\":null,\"name\":\"clears\"}]},{\"extends\":null,\"module\":null,\"name\":\"NotificationAreaBase1\",\"overrides\":[],\"properties\":[{\"default\":\"bottom-right\",\"kind\":null,\"name\":\"position\"},{\"default\":0,\"kind\":null,\"name\":\"_clear\"}]},{\"extends\":null,\"module\":null,\"name\":\"NotificationArea1\",\"overrides\":[],\"properties\":[{\"default\":[],\"kind\":null,\"name\":\"notifications\"},{\"default\":\"bottom-right\",\"kind\":null,\"name\":\"position\"},{\"default\":0,\"kind\":null,\"name\":\"_clear\"},{\"default\":[{\"background\":\"#ffc107\",\"icon\":{\"className\":\"fas fa-exclamation-triangle\",\"color\":\"white\",\"tagName\":\"i\"},\"type\":\"warning\"},{\"background\":\"#007bff\",\"icon\":{\"className\":\"fas fa-info-circle\",\"color\":\"white\",\"tagName\":\"i\"},\"type\":\"info\"}],\"kind\":null,\"name\":\"types\"}]},{\"extends\":null,\"module\":null,\"name\":\"Notification\",\"overrides\":[],\"properties\":[{\"default\":null,\"kind\":null,\"name\":\"background\"},{\"default\":3000,\"kind\":null,\"name\":\"duration\"},{\"default\":null,\"kind\":null,\"name\":\"icon\"},{\"default\":\"\",\"kind\":null,\"name\":\"message\"},{\"default\":null,\"kind\":null,\"name\":\"notification_type\"},{\"default\":false,\"kind\":null,\"name\":\"_destroyed\"}]},{\"extends\":null,\"module\":null,\"name\":\"TemplateActions1\",\"overrides\":[],\"properties\":[{\"default\":0,\"kind\":null,\"name\":\"open_modal\"},{\"default\":0,\"kind\":null,\"name\":\"close_modal\"}]},{\"extends\":null,\"module\":null,\"name\":\"MaterialTemplateActions1\",\"overrides\":[],\"properties\":[{\"default\":0,\"kind\":null,\"name\":\"open_modal\"},{\"default\":0,\"kind\":null,\"name\":\"close_modal\"}]}],\"roots\":{\"references\":[{\"attributes\":{\"editor\":{\"id\":\"1132\"},\"field\":\"text\",\"formatter\":{\"id\":\"1131\"},\"title\":\"text\",\"width\":0},\"id\":\"1133\",\"type\":\"TableColumn\"},{\"attributes\":{},\"id\":\"1148\",\"type\":\"UnionRenderers\"},{\"attributes\":{\"columns\":[{\"id\":\"1133\"},{\"id\":\"1138\"},{\"id\":\"1143\"}],\"configuration\":{\"columns\":[{\"field\":\"text\"},{\"field\":\"label\"},{\"field\":\"label_name\"}],\"dataTree\":false,\"selectable\":true},\"layout\":\"fit_data_table\",\"margin\":[5,10,5,10],\"max_page\":2,\"name\":\"\",\"page\":1,\"page_size\":10,\"pagination\":\"local\",\"select_mode\":true,\"selectable_rows\":null,\"source\":{\"id\":\"1129\"},\"styles\":{\"data\":{},\"id\":\"157d300d33794eb39c151ab1987b7945\"},\"subscribed_events\":[\"cell-click\",\"table-edit\"],\"theme\":\"bootstrap\"},\"id\":\"1146\",\"type\":\"panel.models.tabulator.DataTabulator\"},{\"attributes\":{},\"id\":\"1142\",\"type\":\"StringEditor\"},{\"attributes\":{\"client_comm_id\":\"96ac83e5b6694453b36cc30b67285cf4\",\"comm_id\":\"e8ff650bd6bc4c82a5654bdfddfec876\",\"plot_id\":\"1146\"},\"id\":\"1154\",\"type\":\"panel.models.comm_manager.CommManager\"},{\"attributes\":{\"editor\":{\"id\":\"1137\"},\"field\":\"label\",\"formatter\":{\"id\":\"1136\"},\"title\":\"label\",\"width\":0},\"id\":\"1138\",\"type\":\"TableColumn\"},{\"attributes\":{\"data\":{\"label\":[0,0,3,2,3,0,5,4,1,2,0,1,3,0,1,1,0,0,0,4],\"label_name\":[\"sadness\",\"sadness\",\"anger\",\"love\",\"anger\",\"sadness\",\"surprise\",\"fear\",\"joy\",\"love\",\"sadness\",\"joy\",\"anger\",\"sadness\",\"joy\",\"joy\",\"sadness\",\"sadness\",\"sadness\",\"fear\"],\"text\":[\"i didnt feel humiliated\",\"i can go from feeling so hopeless to so damned hopeful just from being around someone who cares and is awake\",\"im grabbing a minute to post i feel greedy wrong\",\"i am ever feeling nostalgic about the fireplace i will know that it is still on the property\",\"i am feeling grouchy\",\"ive been feeling a little burdened lately wasnt sure why that was\",\"ive been taking or milligrams or times recommended amount and ive fallen asleep a lot faster but i also feel like so funny\",\"i feel as confused about life as a teenager or as jaded as a year old man\",\"i have been with petronas for years i feel that petronas has performed well and made a huge profit\",\"i feel romantic too\",\"i feel like i have to make the suffering i m seeing mean something\",\"i do feel that running is a divine experience and that i can expect to have some type of spiritual encounter\",\"i think it s the easiest time of year to feel dissatisfied\",\"i feel low energy i m just thirsty\",\"i have immense sympathy with the general point but as a possible proto writer trying to find time to write in the corners of life and with no sign of an agent let alone a publishing contract this feels a little precious\",\"i do not feel reassured anxiety is on each side\",\"i didnt really feel that embarrassed\",\"i feel pretty pathetic most of the time\",\"i started feeling sentimental about dolls i had as a child and so began a collection of vintage barbie dolls from the sixties\",\"i now feel compromised and skeptical of the value of every unit of work i put in\"]},\"selected\":{\"id\":\"1130\"},\"selection_policy\":{\"id\":\"1148\"}},\"id\":\"1129\",\"type\":\"ColumnDataSource\"},{\"attributes\":{},\"id\":\"1131\",\"type\":\"StringFormatter\"},{\"attributes\":{},\"id\":\"1141\",\"type\":\"StringFormatter\"},{\"attributes\":{},\"id\":\"1137\",\"type\":\"IntEditor\"},{\"attributes\":{\"indices\":[]},\"id\":\"1130\",\"type\":\"Selection\"},{\"attributes\":{},\"id\":\"1132\",\"type\":\"StringEditor\"},{\"attributes\":{\"text_align\":\"right\"},\"id\":\"1136\",\"type\":\"NumberFormatter\"},{\"attributes\":{\"editor\":{\"id\":\"1142\"},\"field\":\"label_name\",\"formatter\":{\"id\":\"1141\"},\"title\":\"label_name\",\"width\":0},\"id\":\"1143\",\"type\":\"TableColumn\"}],\"root_ids\":[\"1146\",\"1154\"]},\"title\":\"Bokeh Application\",\"version\":\"2.4.3\"}};\n    var render_items = [{\"docid\":\"a1397c14-73ee-4fc8-8c03-63379daf4cad\",\"root_ids\":[\"1146\"],\"roots\":{\"1146\":\"6c1c3c9a-f326-4008-9130-c02e0d15f198\"}}];\n    root.Bokeh.embed.embed_items_notebook(docs_json, render_items);\n    for (const render_item of render_items) {\n      for (const root_id of render_item.root_ids) {\n\tconst id_el = document.getElementById(root_id)\n\tif (id_el.children.length && (id_el.children[0].className === 'bk-root')) {\n\t  const root_el = id_el.children[0]\n\t  root_el.id = root_el.id + '-rendered'\n\t}\n      }\n    }\n  }\n  if (root.Bokeh !== undefined && root.Bokeh.Panel !== undefined && ( root['Tabulator'] !== undefined)) {\n    embed_document(root);\n  } else {\n    var attempts = 0;\n    var timer = setInterval(function(root) {\n      if (root.Bokeh !== undefined && root.Bokeh.Panel !== undefined && (root['Tabulator'] !== undefined)) {\n        clearInterval(timer);\n        embed_document(root);\n      } else if (document.readyState == \"complete\") {\n        attempts++;\n        if (attempts > 200) {\n          clearInterval(timer);\n          console.log(\"Bokeh: ERROR: Unable to run BokehJS code because BokehJS library is missing\");\n        }\n      }\n    }, 25, root)\n  }\n})(window);</script>",
            "application/vnd.holoviews_exec.v0+json": "",
            "text/plain": "Tabulator(page_size=10, pagination='local', show_index=False, value=              ...)"
          },
          "metadata": {
            "application/vnd.holoviews_exec.v0+json": {
              "id": "1146"
            }
          }
        }
      ]
    },
    {
      "cell_type": "markdown",
      "source": [
        "# <div style=\"padding: 30px;color:white;margin:10;font-size:60%;text-align:left;display:fill;border-radius:10px;overflow:hidden;background-color:#3b3745\"><b><span style='color:#F1A424'>2 |</span></b> <b>CLASS DISTRIBUTION</b></div>\n",
        "\n",
        "- Our dataset has 6 classes `joy`, `sadness`, `anger`, `fear`, `love` and `surprise`; multiclass problem"
      ],
      "metadata": {
        "id": "PRufzNXo-Gb8"
      }
    },
    {
      "cell_type": "code",
      "source": [
        "import plotly.express as px\n",
        "\n",
        "px.bar(df['label_name'].value_counts(ascending=True),template='plotly_white')"
      ],
      "metadata": {
        "execution": {
          "iopub.status.busy": "2024-01-10T15:46:21.945062Z",
          "iopub.execute_input": "2024-01-10T15:46:21.945511Z",
          "iopub.status.idle": "2024-01-10T15:46:24.424584Z",
          "shell.execute_reply.started": "2024-01-10T15:46:21.945477Z",
          "shell.execute_reply": "2024-01-10T15:46:24.423041Z"
        },
        "trusted": true,
        "id": "Ct6BpNYK-Gb9",
        "outputId": "f76bf2fe-8775-47e2-9d52-1e908b9f531b"
      },
      "execution_count": null,
      "outputs": [
        {
          "output_type": "display_data",
          "data": {
            "text/html": "        <script type=\"text/javascript\">\n        window.PlotlyConfig = {MathJaxConfig: 'local'};\n        if (window.MathJax && window.MathJax.Hub && window.MathJax.Hub.Config) {window.MathJax.Hub.Config({SVG: {font: \"STIX-Web\"}});}\n        if (typeof require !== 'undefined') {\n        require.undef(\"plotly\");\n        requirejs.config({\n            paths: {\n                'plotly': ['https://cdn.plot.ly/plotly-2.14.0.min']\n            }\n        });\n        require(['plotly'], function(Plotly) {\n            window._Plotly = Plotly;\n        });\n        }\n        </script>\n        "
          },
          "metadata": {}
        },
        {
          "output_type": "display_data",
          "data": {
            "text/html": "<div>                            <div id=\"97c167ec-3381-4c39-8390-8ea5e5414fcb\" class=\"plotly-graph-div\" style=\"height:525px; width:100%;\"></div>            <script type=\"text/javascript\">                require([\"plotly\"], function(Plotly) {                    window.PLOTLYENV=window.PLOTLYENV || {};                                    if (document.getElementById(\"97c167ec-3381-4c39-8390-8ea5e5414fcb\")) {                    Plotly.newPlot(                        \"97c167ec-3381-4c39-8390-8ea5e5414fcb\",                        [{\"alignmentgroup\":\"True\",\"hovertemplate\":\"variable=label_name<br>index=%{x}<br>value=%{y}<extra></extra>\",\"legendgroup\":\"label_name\",\"marker\":{\"color\":\"#636efa\",\"pattern\":{\"shape\":\"\"}},\"name\":\"label_name\",\"offsetgroup\":\"label_name\",\"orientation\":\"v\",\"showlegend\":true,\"textposition\":\"auto\",\"x\":[\"surprise\",\"love\",\"fear\",\"anger\",\"sadness\",\"joy\"],\"xaxis\":\"x\",\"y\":[572,1304,1937,2159,4666,5362],\"yaxis\":\"y\",\"type\":\"bar\"}],                        {\"template\":{\"data\":{\"barpolar\":[{\"marker\":{\"line\":{\"color\":\"white\",\"width\":0.5},\"pattern\":{\"fillmode\":\"overlay\",\"size\":10,\"solidity\":0.2}},\"type\":\"barpolar\"}],\"bar\":[{\"error_x\":{\"color\":\"#2a3f5f\"},\"error_y\":{\"color\":\"#2a3f5f\"},\"marker\":{\"line\":{\"color\":\"white\",\"width\":0.5},\"pattern\":{\"fillmode\":\"overlay\",\"size\":10,\"solidity\":0.2}},\"type\":\"bar\"}],\"carpet\":[{\"aaxis\":{\"endlinecolor\":\"#2a3f5f\",\"gridcolor\":\"#C8D4E3\",\"linecolor\":\"#C8D4E3\",\"minorgridcolor\":\"#C8D4E3\",\"startlinecolor\":\"#2a3f5f\"},\"baxis\":{\"endlinecolor\":\"#2a3f5f\",\"gridcolor\":\"#C8D4E3\",\"linecolor\":\"#C8D4E3\",\"minorgridcolor\":\"#C8D4E3\",\"startlinecolor\":\"#2a3f5f\"},\"type\":\"carpet\"}],\"choropleth\":[{\"colorbar\":{\"outlinewidth\":0,\"ticks\":\"\"},\"type\":\"choropleth\"}],\"contourcarpet\":[{\"colorbar\":{\"outlinewidth\":0,\"ticks\":\"\"},\"type\":\"contourcarpet\"}],\"contour\":[{\"colorbar\":{\"outlinewidth\":0,\"ticks\":\"\"},\"colorscale\":[[0.0,\"#0d0887\"],[0.1111111111111111,\"#46039f\"],[0.2222222222222222,\"#7201a8\"],[0.3333333333333333,\"#9c179e\"],[0.4444444444444444,\"#bd3786\"],[0.5555555555555556,\"#d8576b\"],[0.6666666666666666,\"#ed7953\"],[0.7777777777777778,\"#fb9f3a\"],[0.8888888888888888,\"#fdca26\"],[1.0,\"#f0f921\"]],\"type\":\"contour\"}],\"heatmapgl\":[{\"colorbar\":{\"outlinewidth\":0,\"ticks\":\"\"},\"colorscale\":[[0.0,\"#0d0887\"],[0.1111111111111111,\"#46039f\"],[0.2222222222222222,\"#7201a8\"],[0.3333333333333333,\"#9c179e\"],[0.4444444444444444,\"#bd3786\"],[0.5555555555555556,\"#d8576b\"],[0.6666666666666666,\"#ed7953\"],[0.7777777777777778,\"#fb9f3a\"],[0.8888888888888888,\"#fdca26\"],[1.0,\"#f0f921\"]],\"type\":\"heatmapgl\"}],\"heatmap\":[{\"colorbar\":{\"outlinewidth\":0,\"ticks\":\"\"},\"colorscale\":[[0.0,\"#0d0887\"],[0.1111111111111111,\"#46039f\"],[0.2222222222222222,\"#7201a8\"],[0.3333333333333333,\"#9c179e\"],[0.4444444444444444,\"#bd3786\"],[0.5555555555555556,\"#d8576b\"],[0.6666666666666666,\"#ed7953\"],[0.7777777777777778,\"#fb9f3a\"],[0.8888888888888888,\"#fdca26\"],[1.0,\"#f0f921\"]],\"type\":\"heatmap\"}],\"histogram2dcontour\":[{\"colorbar\":{\"outlinewidth\":0,\"ticks\":\"\"},\"colorscale\":[[0.0,\"#0d0887\"],[0.1111111111111111,\"#46039f\"],[0.2222222222222222,\"#7201a8\"],[0.3333333333333333,\"#9c179e\"],[0.4444444444444444,\"#bd3786\"],[0.5555555555555556,\"#d8576b\"],[0.6666666666666666,\"#ed7953\"],[0.7777777777777778,\"#fb9f3a\"],[0.8888888888888888,\"#fdca26\"],[1.0,\"#f0f921\"]],\"type\":\"histogram2dcontour\"}],\"histogram2d\":[{\"colorbar\":{\"outlinewidth\":0,\"ticks\":\"\"},\"colorscale\":[[0.0,\"#0d0887\"],[0.1111111111111111,\"#46039f\"],[0.2222222222222222,\"#7201a8\"],[0.3333333333333333,\"#9c179e\"],[0.4444444444444444,\"#bd3786\"],[0.5555555555555556,\"#d8576b\"],[0.6666666666666666,\"#ed7953\"],[0.7777777777777778,\"#fb9f3a\"],[0.8888888888888888,\"#fdca26\"],[1.0,\"#f0f921\"]],\"type\":\"histogram2d\"}],\"histogram\":[{\"marker\":{\"pattern\":{\"fillmode\":\"overlay\",\"size\":10,\"solidity\":0.2}},\"type\":\"histogram\"}],\"mesh3d\":[{\"colorbar\":{\"outlinewidth\":0,\"ticks\":\"\"},\"type\":\"mesh3d\"}],\"parcoords\":[{\"line\":{\"colorbar\":{\"outlinewidth\":0,\"ticks\":\"\"}},\"type\":\"parcoords\"}],\"pie\":[{\"automargin\":true,\"type\":\"pie\"}],\"scatter3d\":[{\"line\":{\"colorbar\":{\"outlinewidth\":0,\"ticks\":\"\"}},\"marker\":{\"colorbar\":{\"outlinewidth\":0,\"ticks\":\"\"}},\"type\":\"scatter3d\"}],\"scattercarpet\":[{\"marker\":{\"colorbar\":{\"outlinewidth\":0,\"ticks\":\"\"}},\"type\":\"scattercarpet\"}],\"scattergeo\":[{\"marker\":{\"colorbar\":{\"outlinewidth\":0,\"ticks\":\"\"}},\"type\":\"scattergeo\"}],\"scattergl\":[{\"marker\":{\"colorbar\":{\"outlinewidth\":0,\"ticks\":\"\"}},\"type\":\"scattergl\"}],\"scattermapbox\":[{\"marker\":{\"colorbar\":{\"outlinewidth\":0,\"ticks\":\"\"}},\"type\":\"scattermapbox\"}],\"scatterpolargl\":[{\"marker\":{\"colorbar\":{\"outlinewidth\":0,\"ticks\":\"\"}},\"type\":\"scatterpolargl\"}],\"scatterpolar\":[{\"marker\":{\"colorbar\":{\"outlinewidth\":0,\"ticks\":\"\"}},\"type\":\"scatterpolar\"}],\"scatter\":[{\"fillpattern\":{\"fillmode\":\"overlay\",\"size\":10,\"solidity\":0.2},\"type\":\"scatter\"}],\"scatterternary\":[{\"marker\":{\"colorbar\":{\"outlinewidth\":0,\"ticks\":\"\"}},\"type\":\"scatterternary\"}],\"surface\":[{\"colorbar\":{\"outlinewidth\":0,\"ticks\":\"\"},\"colorscale\":[[0.0,\"#0d0887\"],[0.1111111111111111,\"#46039f\"],[0.2222222222222222,\"#7201a8\"],[0.3333333333333333,\"#9c179e\"],[0.4444444444444444,\"#bd3786\"],[0.5555555555555556,\"#d8576b\"],[0.6666666666666666,\"#ed7953\"],[0.7777777777777778,\"#fb9f3a\"],[0.8888888888888888,\"#fdca26\"],[1.0,\"#f0f921\"]],\"type\":\"surface\"}],\"table\":[{\"cells\":{\"fill\":{\"color\":\"#EBF0F8\"},\"line\":{\"color\":\"white\"}},\"header\":{\"fill\":{\"color\":\"#C8D4E3\"},\"line\":{\"color\":\"white\"}},\"type\":\"table\"}]},\"layout\":{\"annotationdefaults\":{\"arrowcolor\":\"#2a3f5f\",\"arrowhead\":0,\"arrowwidth\":1},\"autotypenumbers\":\"strict\",\"coloraxis\":{\"colorbar\":{\"outlinewidth\":0,\"ticks\":\"\"}},\"colorscale\":{\"diverging\":[[0,\"#8e0152\"],[0.1,\"#c51b7d\"],[0.2,\"#de77ae\"],[0.3,\"#f1b6da\"],[0.4,\"#fde0ef\"],[0.5,\"#f7f7f7\"],[0.6,\"#e6f5d0\"],[0.7,\"#b8e186\"],[0.8,\"#7fbc41\"],[0.9,\"#4d9221\"],[1,\"#276419\"]],\"sequential\":[[0.0,\"#0d0887\"],[0.1111111111111111,\"#46039f\"],[0.2222222222222222,\"#7201a8\"],[0.3333333333333333,\"#9c179e\"],[0.4444444444444444,\"#bd3786\"],[0.5555555555555556,\"#d8576b\"],[0.6666666666666666,\"#ed7953\"],[0.7777777777777778,\"#fb9f3a\"],[0.8888888888888888,\"#fdca26\"],[1.0,\"#f0f921\"]],\"sequentialminus\":[[0.0,\"#0d0887\"],[0.1111111111111111,\"#46039f\"],[0.2222222222222222,\"#7201a8\"],[0.3333333333333333,\"#9c179e\"],[0.4444444444444444,\"#bd3786\"],[0.5555555555555556,\"#d8576b\"],[0.6666666666666666,\"#ed7953\"],[0.7777777777777778,\"#fb9f3a\"],[0.8888888888888888,\"#fdca26\"],[1.0,\"#f0f921\"]]},\"colorway\":[\"#636efa\",\"#EF553B\",\"#00cc96\",\"#ab63fa\",\"#FFA15A\",\"#19d3f3\",\"#FF6692\",\"#B6E880\",\"#FF97FF\",\"#FECB52\"],\"font\":{\"color\":\"#2a3f5f\"},\"geo\":{\"bgcolor\":\"white\",\"lakecolor\":\"white\",\"landcolor\":\"white\",\"showlakes\":true,\"showland\":true,\"subunitcolor\":\"#C8D4E3\"},\"hoverlabel\":{\"align\":\"left\"},\"hovermode\":\"closest\",\"mapbox\":{\"style\":\"light\"},\"paper_bgcolor\":\"white\",\"plot_bgcolor\":\"white\",\"polar\":{\"angularaxis\":{\"gridcolor\":\"#EBF0F8\",\"linecolor\":\"#EBF0F8\",\"ticks\":\"\"},\"bgcolor\":\"white\",\"radialaxis\":{\"gridcolor\":\"#EBF0F8\",\"linecolor\":\"#EBF0F8\",\"ticks\":\"\"}},\"scene\":{\"xaxis\":{\"backgroundcolor\":\"white\",\"gridcolor\":\"#DFE8F3\",\"gridwidth\":2,\"linecolor\":\"#EBF0F8\",\"showbackground\":true,\"ticks\":\"\",\"zerolinecolor\":\"#EBF0F8\"},\"yaxis\":{\"backgroundcolor\":\"white\",\"gridcolor\":\"#DFE8F3\",\"gridwidth\":2,\"linecolor\":\"#EBF0F8\",\"showbackground\":true,\"ticks\":\"\",\"zerolinecolor\":\"#EBF0F8\"},\"zaxis\":{\"backgroundcolor\":\"white\",\"gridcolor\":\"#DFE8F3\",\"gridwidth\":2,\"linecolor\":\"#EBF0F8\",\"showbackground\":true,\"ticks\":\"\",\"zerolinecolor\":\"#EBF0F8\"}},\"shapedefaults\":{\"line\":{\"color\":\"#2a3f5f\"}},\"ternary\":{\"aaxis\":{\"gridcolor\":\"#DFE8F3\",\"linecolor\":\"#A2B1C6\",\"ticks\":\"\"},\"baxis\":{\"gridcolor\":\"#DFE8F3\",\"linecolor\":\"#A2B1C6\",\"ticks\":\"\"},\"bgcolor\":\"white\",\"caxis\":{\"gridcolor\":\"#DFE8F3\",\"linecolor\":\"#A2B1C6\",\"ticks\":\"\"}},\"title\":{\"x\":0.05},\"xaxis\":{\"automargin\":true,\"gridcolor\":\"#EBF0F8\",\"linecolor\":\"#EBF0F8\",\"ticks\":\"\",\"title\":{\"standoff\":15},\"zerolinecolor\":\"#EBF0F8\",\"zerolinewidth\":2},\"yaxis\":{\"automargin\":true,\"gridcolor\":\"#EBF0F8\",\"linecolor\":\"#EBF0F8\",\"ticks\":\"\",\"title\":{\"standoff\":15},\"zerolinecolor\":\"#EBF0F8\",\"zerolinewidth\":2}}},\"xaxis\":{\"anchor\":\"y\",\"domain\":[0.0,1.0],\"title\":{\"text\":\"index\"}},\"yaxis\":{\"anchor\":\"x\",\"domain\":[0.0,1.0],\"title\":{\"text\":\"value\"}},\"legend\":{\"title\":{\"text\":\"variable\"},\"tracegroupgap\":0},\"margin\":{\"t\":60},\"barmode\":\"relative\"},                        {\"responsive\": true}                    ).then(function(){\n                            \nvar gd = document.getElementById('97c167ec-3381-4c39-8390-8ea5e5414fcb');\nvar x = new MutationObserver(function (mutations, observer) {{\n        var display = window.getComputedStyle(gd).display;\n        if (!display || display === 'none') {{\n            console.log([gd, 'removed!']);\n            Plotly.purge(gd);\n            observer.disconnect();\n        }}\n}});\n\n// Listen for the removal of the full notebook cells\nvar notebookContainer = gd.closest('#notebook-container');\nif (notebookContainer) {{\n    x.observe(notebookContainer, {childList: true});\n}}\n\n// Listen for the clearing of the current output cell\nvar outputEl = gd.closest('.output');\nif (outputEl) {{\n    x.observe(outputEl, {childList: true});\n}}\n\n                        })                };                });            </script>        </div>"
          },
          "metadata": {}
        }
      ]
    },
    {
      "cell_type": "markdown",
      "source": [
        "# <div style=\"padding: 30px;color:white;margin:10;font-size:60%;text-align:left;display:fill;border-radius:10px;overflow:hidden;background-color:#3b3745\"><b><span style='color:#F1A424'>3 |</span></b> <b>LENGTH OF EACH TWEET</b></div>\n",
        "\n",
        "- For applications using **DistilBERT**, the maximum context size is **512 tokens**\n",
        "- Most tweets are around **10-20 words** long, which falls well within this limit"
      ],
      "metadata": {
        "id": "2E0Ygr6K-Gb9"
      }
    },
    {
      "cell_type": "code",
      "source": [
        "df[\"Words Per Tweet\"] = df[\"text\"].str.split().apply(len)\n",
        "\n",
        "px.box(df,y='Words Per Tweet',\n",
        "       color='label_name',\n",
        "       template='plotly_white')"
      ],
      "metadata": {
        "execution": {
          "iopub.status.busy": "2024-01-10T15:46:24.429940Z",
          "iopub.execute_input": "2024-01-10T15:46:24.430407Z",
          "iopub.status.idle": "2024-01-10T15:46:24.643993Z",
          "shell.execute_reply.started": "2024-01-10T15:46:24.430360Z",
          "shell.execute_reply": "2024-01-10T15:46:24.642523Z"
        },
        "trusted": true,
        "id": "e-yrpw8Y-Gb-",
        "outputId": "c481044d-0226-4556-d8f9-9bb8f620b811"
      },
      "execution_count": null,
      "outputs": [
        {
          "output_type": "display_data",
          "data": {
            "text/html": "<div>                            <div id=\"71f3912c-cfac-4f2c-b25d-86fa7c6736a5\" class=\"plotly-graph-div\" style=\"height:525px; width:100%;\"></div>            <script type=\"text/javascript\">                require([\"plotly\"], function(Plotly) {                    window.PLOTLYENV=window.PLOTLYENV || {};                                    if (document.getElementById(\"71f3912c-cfac-4f2c-b25d-86fa7c6736a5\")) {                    Plotly.newPlot(                        \"71f3912c-cfac-4f2c-b25d-86fa7c6736a5\",                        [{\"alignmentgroup\":\"True\",\"hovertemplate\":\"label_name=sadness<br>Words Per Tweet=%{y}<extra></extra>\",\"legendgroup\":\"sadness\",\"marker\":{\"color\":\"#636efa\"},\"name\":\"sadness\",\"notched\":false,\"offsetgroup\":\"sadness\",\"orientation\":\"v\",\"showlegend\":true,\"x0\":\" \",\"xaxis\":\"x\",\"y\":[4,21,12,14,8,6,8,23,54,15,6,30,12,9,14,45,18,14,20,15,19,33,8,12,31,11,17,33,31,49,11,39,19,17,14,18,43,14,52,6,17,28,18,23,20,13,27,17,14,28,14,25,10,45,24,4,10,32,17,10,29,10,15,50,32,11,19,30,47,12,14,26,22,5,30,26,8,9,20,21,29,12,4,25,4,17,8,9,6,24,6,41,18,10,16,12,14,20,31,7,34,8,12,42,19,9,31,21,41,19,33,38,47,29,35,51,22,10,6,23,20,12,28,6,7,19,20,15,18,21,21,14,21,5,12,5,6,32,19,33,17,5,11,35,18,24,22,21,20,35,4,5,12,5,4,17,14,13,23,18,6,22,17,25,9,19,26,11,12,43,8,7,6,29,10,42,12,5,7,58,37,10,36,20,28,23,18,32,5,6,5,23,16,7,34,45,11,37,11,13,5,32,15,23,7,15,22,33,22,14,31,15,5,16,8,9,22,39,32,22,17,11,18,35,16,4,16,17,24,21,14,5,16,8,15,16,11,11,25,8,6,12,33,17,42,8,6,25,7,8,22,30,22,7,26,25,20,24,26,12,13,30,23,9,10,13,51,23,20,35,10,31,38,24,8,37,10,15,23,6,27,27,51,10,25,8,23,45,14,13,4,16,36,43,8,13,36,18,12,4,38,13,14,31,15,7,21,10,5,6,10,30,45,5,8,24,20,9,13,39,6,29,11,6,8,8,41,21,15,36,11,36,6,13,4,18,24,25,50,29,38,28,39,11,15,19,30,7,16,26,18,13,4,21,4,20,5,49,11,7,19,34,14,5,26,41,23,21,8,15,21,10,20,12,12,7,23,8,21,9,17,16,7,20,7,25,12,38,25,4,41,5,25,14,11,11,14,42,6,11,8,9,12,5,18,11,15,17,23,34,12,23,7,11,16,10,17,18,10,32,16,26,23,7,29,11,37,35,31,40,43,20,11,5,44,38,11,18,21,13,14,17,27,29,15,10,5,9,41,13,23,16,28,7,31,17,24,38,52,5,22,12,13,24,4,14,33,15,19,58,6,13,35,6,12,5,10,8,11,10,20,13,10,46,6,55,12,35,10,5,21,13,42,48,26,7,16,4,18,10,10,25,12,12,28,10,15,13,10,7,6,42,33,17,17,24,18,28,18,9,9,16,9,15,28,21,23,20,4,12,12,24,28,20,8,12,35,4,28,27,21,9,24,16,26,23,15,12,28,9,24,15,27,24,27,28,12,11,19,24,29,4,45,8,22,14,7,9,28,19,19,9,5,22,23,12,22,4,5,29,8,17,7,24,21,5,24,8,15,36,22,7,19,11,6,25,14,15,18,18,8,21,20,13,18,14,19,21,29,11,17,12,8,24,4,29,16,33,14,10,16,29,29,17,41,6,54,9,18,12,49,13,20,45,5,16,7,30,13,4,4,7,17,24,10,7,28,7,8,9,13,30,6,6,18,5,10,26,26,31,34,34,8,13,28,30,15,36,20,19,13,23,34,5,22,31,46,56,19,11,25,16,33,20,16,14,22,12,15,10,5,38,7,6,11,4,11,6,9,24,23,24,4,23,38,42,19,7,14,13,21,33,13,7,28,15,11,7,21,18,34,55,8,28,8,13,11,14,29,37,12,25,6,9,15,9,4,51,45,22,9,31,19,31,33,9,19,17,26,18,12,17,21,9,8,13,8,24,12,23,15,5,16,18,24,23,30,17,17,13,18,32,41,15,18,33,9,3,9,33,8,30,18,14,19,26,14,29,20,53,35,6,8,19,14,11,35,30,17,8,20,14,22,7,4,18,15,18,17,26,4,36,17,42,9,5,19,20,13,19,42,16,16,25,14,19,6,14,19,46,22,8,10,10,5,18,12,41,5,4,38,15,3,13,8,18,21,9,16,20,4,22,24,18,25,8,5,13,29,45,18,11,12,41,5,19,24,10,16,9,18,15,16,9,33,7,6,13,45,56,21,13,24,17,10,22,10,38,7,41,11,32,14,31,15,9,5,17,3,23,33,11,13,10,11,5,8,19,29,5,19,9,10,25,7,8,43,55,9,28,4,17,21,21,14,8,10,8,21,11,9,32,19,26,21,23,20,15,18,24,11,9,29,15,17,31,46,12,46,15,9,7,33,50,31,32,31,25,14,28,44,14,31,11,7,16,14,6,9,11,8,9,23,15,28,7,24,24,6,18,5,15,27,16,15,17,8,12,42,13,7,11,6,17,42,10,51,9,9,6,24,21,11,11,27,14,13,13,13,20,39,33,37,9,40,13,20,22,32,12,16,37,16,23,18,17,8,16,5,18,32,17,9,8,4,23,17,27,13,8,12,6,6,47,14,9,5,8,26,8,6,7,15,27,21,21,31,25,28,31,12,6,21,17,20,16,22,30,26,23,22,33,27,11,14,48,14,18,42,5,6,12,11,36,13,24,46,14,17,11,13,20,25,23,14,12,39,5,10,52,30,8,29,11,22,6,6,6,11,31,55,18,13,24,20,29,22,19,34,21,26,13,19,14,23,9,30,12,44,28,7,10,31,10,24,13,12,30,4,7,6,18,21,6,13,21,19,9,5,14,5,7,33,13,32,5,7,13,11,37,30,10,21,14,16,7,27,12,14,5,22,16,20,10,6,9,4,4,30,7,24,47,11,4,15,18,15,10,42,22,5,12,5,6,48,6,38,11,5,6,14,14,5,12,18,29,9,54,7,18,10,35,5,34,39,5,15,13,9,10,18,24,22,12,6,25,11,7,7,29,7,23,24,10,34,17,33,8,27,14,38,30,7,25,13,23,16,4,30,40,8,10,4,8,6,17,12,22,16,16,9,34,7,24,37,20,6,36,12,8,13,21,40,27,16,22,44,29,19,14,13,19,21,29,9,28,6,23,24,30,28,33,50,25,27,19,20,12,23,14,31,7,18,7,6,10,19,9,31,27,8,9,11,17,7,20,10,28,14,22,20,23,11,7,21,6,6,11,7,54,10,17,26,20,15,8,23,19,8,5,18,11,11,6,16,20,12,11,5,14,26,18,9,23,8,36,28,8,10,14,21,14,21,27,5,27,13,20,24,7,22,11,27,14,10,19,42,17,29,11,14,24,45,15,27,31,28,8,15,36,8,15,12,5,38,34,19,6,17,13,10,21,8,16,8,17,18,4,23,7,12,4,14,9,6,20,16,11,16,47,37,13,11,28,42,5,13,41,28,21,7,22,27,21,7,24,25,8,18,11,52,6,32,18,34,24,17,22,44,26,13,10,40,24,8,29,20,42,36,21,20,41,13,7,15,6,13,20,23,7,11,5,21,23,25,28,49,5,46,11,11,9,24,15,6,37,13,42,36,4,13,28,8,20,15,13,7,15,17,35,12,4,16,15,5,15,11,11,29,5,20,11,17,12,8,21,24,22,35,24,14,38,33,12,17,13,20,20,14,14,7,13,23,32,23,11,10,7,8,7,23,16,23,36,13,36,8,21,47,7,17,26,34,8,28,11,8,6,22,27,6,12,29,46,7,8,24,8,22,43,5,20,9,37,10,16,8,40,5,7,12,9,46,9,22,14,13,6,19,34,7,15,15,25,12,15,33,22,6,7,61,15,16,33,6,14,10,7,16,43,16,14,17,16,8,4,6,25,20,19,21,32,8,6,37,14,11,13,50,41,8,17,6,12,19,20,21,16,21,17,10,5,12,19,24,20,10,16,4,12,7,5,19,15,8,18,27,21,13,19,11,12,13,8,16,12,5,45,27,23,15,34,33,7,9,29,27,9,18,36,12,34,19,13,27,13,28,15,30,15,28,9,43,9,16,28,13,19,15,21,12,36,13,42,12,17,8,11,27,29,21,19,8,7,14,14,18,25,17,34,26,10,16,34,24,16,19,21,7,10,18,27,27,11,39,18,13,13,13,25,13,7,16,17,24,9,18,17,15,17,20,20,20,10,20,20,11,19,10,18,8,10,16,23,18,4,22,7,29,6,18,11,6,21,12,8,27,5,5,18,12,5,46,38,8,17,28,25,6,41,5,6,22,13,9,18,9,25,24,10,9,24,19,20,35,8,8,23,23,15,10,25,24,21,26,25,46,15,4,66,49,32,13,18,11,30,30,21,16,6,8,25,21,24,11,9,24,29,11,12,13,23,14,16,9,16,16,20,13,11,24,22,17,16,7,17,9,17,14,27,14,29,15,10,29,17,20,13,24,11,20,31,26,6,23,10,16,13,13,7,11,7,29,15,22,12,15,29,22,12,9,19,3,11,42,4,21,44,24,40,15,46,16,12,5,23,35,47,39,11,20,11,10,21,36,12,6,32,5,7,26,14,17,17,4,5,22,17,10,27,21,10,16,15,16,26,13,14,9,25,16,26,11,22,30,6,39,40,18,8,8,13,40,14,16,11,10,21,16,42,5,26,31,22,9,19,27,14,9,31,29,18,21,8,7,15,14,19,12,10,11,19,7,39,6,10,56,5,14,25,24,7,15,9,43,20,13,5,8,23,4,17,15,10,8,14,8,7,22,13,22,11,20,11,12,21,30,16,11,20,34,8,7,17,5,40,7,38,13,17,11,20,19,14,11,8,14,4,17,15,17,27,36,5,11,10,28,7,21,6,10,32,15,16,21,10,37,11,36,9,7,28,8,13,11,15,19,8,28,29,13,36,13,7,23,11,30,26,16,6,9,11,18,21,33,8,33,15,26,5,19,15,13,14,12,14,37,19,5,17,13,35,17,16,29,46,21,26,4,19,15,4,20,20,8,23,11,8,21,40,6,6,17,28,29,30,33,21,6,6,27,13,16,11,14,28,11,13,5,9,5,52,19,23,14,13,12,18,8,28,18,22,40,21,6,40,25,5,24,12,23,7,20,14,13,24,12,22,15,14,10,28,7,16,5,4,14,4,49,38,16,18,4,21,13,38,12,30,14,5,45,18,26,7,32,7,17,34,43,25,5,15,31,6,24,20,12,57,28,6,22,19,9,6,8,13,46,11,40,15,29,3,39,7,3,30,23,23,7,41,6,17,12,15,25,6,6,6,12,17,23,6,13,7,15,16,17,15,18,25,8,36,16,14,22,13,15,13,37,28,5,22,6,24,14,7,32,6,8,16,22,10,32,3,8,10,8,33,22,6,4,27,24,46,13,7,7,14,37,22,3,21,10,23,13,6,32,10,15,36,6,15,21,11,13,7,13,25,20,18,17,6,6,20,4,35,34,12,21,48,12,7,21,35,7,11,15,16,15,22,12,32,7,28,13,19,6,27,8,18,18,12,13,6,24,12,12,23,8,16,8,5,5,7,26,11,21,23,13,7,22,9,26,16,27,29,9,14,7,18,7,35,21,5,21,37,9,34,25,40,25,17,6,14,21,9,9,4,25,24,9,19,16,17,24,6,11,20,9,18,24,14,22,27,15,48,13,11,19,11,17,21,5,18,17,6,10,3,22,11,7,30,8,12,42,15,16,13,35,29,13,22,13,20,5,32,13,17,16,25,7,24,40,30,21,39,13,7,13,34,39,9,27,23,26,4,21,43,52,8,8,12,12,26,14,16,12,9,14,27,44,16,15,7,16,23,46,6,17,7,15,12,16,9,10,24,11,16,17,16,8,38,22,16,15,16,29,22,15,44,38,13,10,5,24,40,21,15,24,20,6,15,17,56,7,16,13,24,9,14,60,11,17,21,12,12,53,17,14,15,13,18,25,33,12,14,6,8,27,48,21,22,11,21,4,10,8,16,23,42,9,8,36,13,5,28,7,20,32,25,24,15,19,11,9,24,23,42,9,12,9,7,7,11,19,37,9,37,7,15,30,48,4,38,7,4,30,18,36,8,14,15,12,6,11,24,29,12,34,20,14,14,14,29,24,15,11,32,8,15,6,22,8,31,33,34,8,17,15,24,27,13,17,31,30,7,20,13,49,9,11,17,23,9,26,27,4,11,22,18,17,31,37,4,10,20,14,6,19,7,7,29,42,11,22,18,5,10,14,15,27,5,23,6,12,11,8,23,25,14,19,32,26,45,27,8,33,11,17,48,16,7,5,9,16,10,15,26,5,25,24,38,23,3,8,6,12,10,26,4,31,6,35,14,21,13,18,25,11,32,5,40,11,25,54,8,16,18,17,16,21,16,6,27,15,14,12,11,15,4,15,10,3,35,28,27,16,7,20,10,21,5,17,31,27,15,31,18,16,8,8,56,19,17,17,22,15,16,15,36,23,10,24,13,20,35,16,7,38,5,5,10,35,36,15,26,31,26,39,19,22,34,22,15,5,4,8,10,38,16,64,26,7,29,9,7,47,33,23,23,15,9,24,10,7,54,22,36,27,26,17,14,23,25,8,24,9,32,10,25,20,23,14,30,17,17,10,11,25,15,24,43,15,15,12,16,9,9,29,28,21,38,10,29,25,24,14,13,29,15,15,26,12,11,27,27,21,13,17,20,32,25,9,21,38,18,6,29,14,4,47,8,25,5,11,56,10,11,34,21,18,21,6,7,9,29,7,5,20,21,9,6,52,12,28,16,18,8,17,20,16,7,28,25,27,9,32,10,29,29,7,13,5,19,14,17,6,5,4,22,16,7,13,16,26,19,28,16,9,20,5,21,8,9,13,7,12,14,10,31,16,8,13,13,11,11,14,15,9,7,25,12,21,22,22,4,4,26,9,25,6,28,21,35,11,6,8,15,10,18,6,7,12,33,45,7,25,6,7,18,11,5,16,10,17,23,30,22,17,20,21,28,10,6,7,12,48,54,12,6,14,5,11,14,28,17,5,17,17,4,23,16,30,18,5,12,6,31,19,23,25,22,10,9,19,15,16,14,26,6,61,26,25,5,44,23,13,12,57,14,25,7,39,16,18,16,18,53,33,21,22,19,18,10,9,7,18,23,12,10,9,15,21,23,10,17,33,5,18,7,16,12,8,20,21,10,4,46,37,26,7,21,10,6,27,53,21,6,48,24,24,17,21,4,10,28,37,10,10,14,9,10,17,31,53,10,6,11,18,30,10,26,13,27,11,29,9,9,10,5,7,6,31,20,8,10,4,15,11,13,18,28,9,18,14,5,8,17,5,12,6,30,13,11,28,5,12,31,13,8,31,14,15,26,15,15,29,42,43,8,41,10,18,23,23,11,8,11,18,24,29,19,4,6,13,52,31,4,7,16,14,21,16,22,17,8,10,33,17,7,14,11,27,36,11,20,47,5,6,14,5,11,35,35,54,11,17,9,29,14,52,32,27,37,23,16,4,21,15,17,8,14,6,20,40,15,7,8,8,23,17,11,7,9,10,5,15,23,22,50,9,6,14,51,7,53,6,20,26,24,6,15,11,14,42,4,10,25,14,49,18,23,10,14,21,4,7,15,8,12,21,40,15,18,16,6,8,12,55,21,38,16,22,13,55,21,34,10,9,9,31,17,24,14,12,15,32,9,17,11,37,30,11,9,7,37,10,17,26,9,9,46,9,23,15,15,7,25,19,6,23,7,7,9,12,15,15,11,44,18,12,8,38,10,16,7,14,26,37,15,24,14,43,15,30,11,34,32,21,41,21,12,19,38,16,29,7,16,17,9,18,12,17,24,4,10,15,6,11,7,7,31,18,25,7,45,13,11,6,4,16,37,16,25,24,18,11,27,29,36,23,42,9,20,13,5,9,19,21,9,17,42,5,11,15,10,7,4,8,15,8,52,10,39,17,8,7,37,23,39,21,27,25,12,8,9,12,24,25,9,4,8,25,16,10,27,31,28,16,18,13,19,19,23,10,18,39,7,39,9,19,9,11,6,22,37,18,9,18,17,15,33,22,18,47,28,24,14,42,10,12,12,19,30,10,6,21,33,19,32,15,26,7,14,28,12,12,5,24,5,19,8,18,28,33,6,22,16,8,16,6,51,12,18,18,9,34,20,12,17,9,15,46,26,13,12,6,9,15,7,6,8,22,33,6,13,13,28,23,21,17,10,9,6,11,20,21,33,22,14,10,27,15,12,28,16,15,13,11,12,5,5,13,24,15,4,29,11,28,14,7,19,13,29,15,40,13,27,13,23,16,25,14,5,17,12,24,5,13,42,28,6,15,6,21,19,7,22,6,19,16,14,27,3,29,12,5,20,10,20,32,36,16,21,6,7,19,22,16,5,6,4,11,29,6,8,19,11,12,13,7,19,16,40,21,10,8,8,9,28,18,55,17,19,39,30,5,18,24,23,12,18,16,4,25,17,19,14,12,11,10,13,30,11,12,22,28,7,30,9,9,8,14,13,10,28,22,7,26,17,25,15,9,17,8,11,23,15,11,22,13,20,52,27,18,18,43,26,7,37,42,11,5,4,18,8,16,11,31,10,11,14,7,4,15,47,33,2,13,28,28,7,6,43,13,48,6,45,10,38,5,24,15,9,12,19,44,5,18,19,10,17,9,4,14,11,42,12,27,14,30,29,10,5,12,7,5,11,12,12,7,9,11,7,13,42,24,19,26,29,15,22,8,21,17,13,17,24,52,12,30,47,17,5,24,4,17,40,14,26,20,7,15,14,20,46,20,14,40,10,7,46,37,18,26,16,10,24,9,10,15,7,43,14,21,38,28,15,19,4,6,7,10,11,18,41,6,6,12,12,25,39,9,11,18,10,5,14,20,11,32,19,35,7,35,51,10,31,8,12,18,13,25,21,21,11,10,20,43,12,7,19,17,13,18,7,16,15,18,9,6,17,15,4,19,11,27,9,31,25,12,28,23,20,22,22,20,18,27,7,22,18,15,16,5,12,11,9,15,7,29,20,11,32,28,6,29,21,23,26,32,19,10,25,5,5,44,6,25,21,15,21,15,27,9,6,17,14,9,37,7,28,21,10,12,36,7,18,39,10,20,6,14,9,17,10,6,14,6,23,30,8,13,20,15,19,19,5,13,18,9,46,15,8,31,27,13,13,13,26,39,5,25,25,13,25,51,10,8,16,28,33,18,32,46,12,37,46,30,18,26,8,21,7,6,11,5,20,14,10,14,34,10,16,16,10,27,13,4,29,7,8,17,29,9,22,25,4,17,26,9,35,19,13,8,24,9,14,12,38,13,8,9,24,24,17,29,16,9,33,7,5,39,9,24,25,23,9,9,11,15,23,32,29,30,25,10,7,8,24,44,34,11,10,10,7,13,28,31,25,21,25,4,22,5,10,9,18,22,16,15,26,18,17,5,16,5,11,16,33,5,4,27,39,16,7,4,50,10,26,21,15,22,18,26,27,26,8,23,21,11,26,19,12,18,33,33,22,20,38,15,14,28,18,13,12,18,23,10,9,13,18,15,15,5,11,13,10,32,29,44,23,16,6,32,42,5,17,13,12,13,10,25,8,18,55,14,5,18,8,27,29,9,4,9,29,22,8,9,28,14,32,17,17,13,27,12,19,13,5,38,19,5,28,12,27,5,52,13,8,21,21,15,12,56,9,6,10,8,8,27,11,12,8,19,22,19,5,12,4,22,8,13,19,14,13,15,14,9,8,30,4,24,19,6,6,21,15,12,52,8,18,5,15,10,16,24,13,17,29,9,15,16,33,7,20,15,18,6,14,32,25,5,13,22,18,35,4,18,11,5,16,4,29,7,23,7,21,8,7,29,37,10,17,8,14,10,30,12,16,37,14,6,7,9,42,13,39,6,11,38,20,4,17,4,28,21,24,7,11,26,6,53,7,11,9,15,7,12,25,7,6,28,4,9,24,20,5,16,17,16,23,26,32,27,38,11,26,28,16,21,14,11,4,20,19,12,12,26,24,23,10,8,32,23,7,11,4,7,14,10,23,9,9,18,22,25,10,8,48,10,15,9,25,27,19,10,11,14,6,8,10,6,23,10,9,36,10,8,4,7,7,25,40,8,28,33,43,24,18,17,20,18,15,19,8,13,5,9,12,23,20,29,10,30,7,12,35,34,14,13,6,16,8,24,13,9,34,9,18,12,9,47,6,17,28,34,29,13,13,26,16,22,22,14,51,12,27,19,16,18,12,24,16,17,24,17,5,10,34,12,21,23,5,40,8,41,28,46,9,9,12,5,11,11,14,21,20,20,9,8,12,10,16,29,18,18,16,15,6,16,4,19,19,11,16,16,41,8,15,17,31,21,29,11,15,25,44,14,10,27,8,10,25,30,9,23,17,26,24,16,19,10,31,20,45,7,20,19,26,11,5,38,16,5,17,11,14,16,31,23,20,9,23,20,10,10,25,19,16,9,26,19,18,5,25,34,18,29,12,10,23,8,10,8,12,32,17,32,22,14,23,19,20,45,29,18,27,15,8,7,33,49,40,3,4,10,9,13,30,24,14,11,38,27,30,6,13,19,15,24,12,12,27,13,42,12,5,14,6,32,35,4,17,21,23,11,28,6,33,7,20,33,9,24,25,5,20,11,29,22,42,22,11,9,9,6,4,4,27,16,19,11,41,16,7,10,15,16,17,30,24,28,47,22,13,11,21,8,28,26,8,17,6,11,23,12,6,10,6,5,13,20,57,18,29,6,12,11,21,4,7,28,24,20,15],\"y0\":\" \",\"yaxis\":\"y\",\"type\":\"box\"},{\"alignmentgroup\":\"True\",\"hovertemplate\":\"label_name=anger<br>Words Per Tweet=%{y}<extra></extra>\",\"legendgroup\":\"anger\",\"marker\":{\"color\":\"#EF553B\"},\"name\":\"anger\",\"notched\":false,\"offsetgroup\":\"anger\",\"orientation\":\"v\",\"showlegend\":true,\"x0\":\" \",\"xaxis\":\"x\",\"y\":[10,4,12,12,18,21,34,29,8,5,39,12,5,22,23,9,17,17,41,31,24,23,7,15,10,38,32,28,10,15,35,22,16,6,9,28,29,3,28,8,16,23,18,5,11,14,28,10,13,22,5,20,6,26,9,27,11,19,23,21,25,13,8,46,37,18,8,11,12,19,35,11,15,13,10,11,20,27,7,9,11,13,25,12,13,30,16,15,17,20,8,10,17,9,36,13,11,19,5,17,12,41,16,5,9,19,11,27,13,46,10,16,10,32,14,12,19,9,11,52,6,33,18,14,22,20,40,23,26,34,14,28,16,39,7,31,3,4,32,6,8,10,37,33,7,8,15,26,7,11,14,4,8,21,44,35,22,32,15,25,4,19,10,5,22,6,31,6,34,30,11,50,5,21,17,12,25,6,6,8,24,12,31,14,49,11,34,5,14,11,13,33,50,15,17,18,21,12,13,24,53,34,14,29,6,29,7,5,25,18,11,8,29,19,5,13,29,7,16,12,8,13,9,23,38,12,12,27,4,5,14,19,26,10,20,40,27,40,24,23,22,17,27,13,15,54,18,20,53,14,31,24,15,14,18,11,6,25,6,38,12,9,17,15,20,29,9,9,7,20,7,15,35,9,16,13,5,10,19,10,5,9,32,9,10,10,11,6,22,6,35,13,5,20,6,8,29,8,44,14,10,12,19,6,22,43,35,10,35,28,54,25,18,8,12,24,19,19,36,23,17,21,17,8,6,11,10,26,16,32,6,28,12,23,19,21,46,30,12,40,15,7,22,9,17,23,15,25,19,31,14,8,5,29,21,20,28,18,7,25,34,28,15,15,35,4,30,36,4,16,4,6,26,15,12,31,20,21,12,48,23,21,14,59,7,27,6,14,25,6,8,14,53,31,19,18,22,11,38,17,17,21,6,15,7,14,7,17,56,12,21,9,9,24,9,56,11,18,18,4,17,32,7,4,44,12,18,17,3,49,21,16,8,6,37,12,13,6,8,8,22,36,12,11,27,18,5,21,12,14,17,32,22,15,32,10,5,15,13,8,28,6,35,10,6,9,14,22,10,26,23,20,19,35,45,40,26,38,35,40,34,22,26,13,15,41,28,26,5,13,37,10,25,27,44,21,23,46,14,18,46,26,45,34,21,12,24,36,22,10,7,37,23,25,23,9,20,18,6,6,3,25,19,26,17,6,21,21,16,5,22,19,7,20,40,6,49,40,15,30,57,11,27,30,28,29,15,16,14,40,29,8,22,48,9,36,23,21,30,7,8,15,21,19,6,5,22,32,29,14,13,21,6,4,25,38,23,7,16,17,16,11,7,5,20,17,11,23,11,41,18,28,11,16,49,18,17,21,16,8,18,6,12,8,20,25,28,23,8,17,21,8,16,9,37,26,18,22,22,16,23,26,11,18,5,40,7,4,37,21,22,43,26,41,13,10,14,25,12,9,28,19,13,18,11,18,6,10,18,20,16,7,16,9,11,26,47,7,32,40,16,20,8,14,12,39,23,15,22,33,25,15,36,11,16,32,24,32,32,13,7,22,15,29,32,9,7,20,19,22,14,20,14,17,15,13,20,29,52,22,17,11,18,19,16,8,33,50,31,7,27,40,9,62,18,51,13,14,8,30,16,28,17,33,7,12,19,38,50,17,32,8,18,35,9,17,7,45,17,23,4,4,22,15,21,16,18,22,17,35,6,17,23,16,17,43,6,11,23,22,20,6,9,15,12,36,7,24,9,7,18,18,48,8,9,8,27,28,24,8,25,36,22,27,21,24,21,25,12,26,59,14,13,21,10,37,8,5,28,39,16,51,8,20,16,25,5,9,27,25,11,31,19,31,40,7,8,34,8,34,29,17,23,29,20,37,26,8,23,6,7,14,20,10,16,5,27,19,27,43,29,7,31,6,5,17,16,20,21,10,8,43,6,26,5,9,6,14,18,24,37,6,27,20,5,12,5,8,36,54,23,20,19,13,46,54,19,21,6,25,3,10,21,5,30,7,7,15,10,18,16,18,39,8,21,21,40,25,49,28,22,40,14,20,7,23,17,9,26,18,15,11,20,17,7,8,20,28,17,5,13,9,25,52,5,7,45,9,12,4,45,32,11,10,45,20,37,15,4,15,5,25,4,7,9,14,6,27,21,21,12,23,28,12,12,17,19,6,6,19,14,32,29,9,25,17,28,17,11,16,57,5,5,31,21,11,18,23,6,4,18,10,13,6,15,25,17,32,37,17,9,17,15,37,24,7,5,15,10,14,25,16,7,18,28,46,28,6,35,32,25,16,14,34,7,20,31,23,36,28,38,4,22,10,15,43,7,29,22,43,11,6,9,36,15,10,45,5,12,19,23,17,13,11,23,14,23,19,54,44,23,9,57,17,29,32,46,4,7,11,24,16,5,9,31,13,41,7,15,14,13,43,37,39,14,6,13,3,35,15,7,9,24,41,21,18,16,45,5,6,21,43,33,12,8,17,31,17,15,19,41,11,9,12,10,14,17,48,17,28,7,11,31,6,21,17,18,25,36,40,10,6,19,8,6,30,24,8,28,10,9,22,46,20,19,6,5,8,35,14,8,24,32,14,31,17,15,12,35,24,30,12,18,12,18,7,15,4,26,7,24,11,38,29,15,16,18,8,25,12,17,12,5,11,8,9,15,28,15,7,6,11,43,22,5,36,15,19,19,17,25,7,20,22,14,22,22,8,33,20,4,14,18,33,14,26,15,10,6,32,10,21,11,34,7,7,31,13,14,18,22,19,6,10,22,20,11,35,19,27,43,11,18,20,12,32,28,6,17,39,54,16,21,16,20,31,20,17,13,9,6,11,25,29,12,16,2,41,6,40,17,12,15,12,11,7,9,17,20,33,16,40,10,22,15,24,7,9,13,19,17,19,17,11,33,8,47,13,14,15,30,4,20,26,7,30,8,17,9,35,12,14,20,18,15,8,9,25,9,13,16,58,10,22,4,6,12,7,21,20,29,42,8,13,18,50,16,10,40,21,17,28,25,17,13,29,8,20,26,4,32,15,12,8,30,24,36,14,8,28,16,16,14,7,13,10,11,32,10,21,11,7,24,5,24,24,15,15,17,17,49,11,8,16,9,9,14,15,19,39,9,11,20,15,39,19,29,10,26,40,14,13,39,10,8,8,31,25,6,7,21,24,12,29,16,33,18,13,14,18,28,12,15,16,19,8,4,19,24,6,14,9,23,26,9,27,27,14,10,24,20,18,22,25,14,23,30,12,36,18,6,17,17,15,10,32,8,4,20,17,18,4,29,10,9,16,41,27,8,25,28,4,21,13,14,12,11,5,4,28,13,18,10,26,7,18,34,13,14,27,11,5,9,35,15,14,14,6,7,45,22,27,29,15,13,22,12,39,21,21,13,5,36,15,11,34,36,17,33,18,8,10,12,15,14,14,8,25,30,21,5,18,4,19,45,26,11,4,21,18,22,5,7,24,26,6,23,16,26,20,28,17,42,11,21,19,40,23,19,8,37,45,35,15,51,14,7,16,23,17,12,26,40,9,4,5,17,7,3,30,36,11,24,30,12,38,8,16,17,4,29,7,20,6,34,10,10,32,31,26,10,23,32,36,19,9,5,8,26,4,21,15,21,4,9,34,8,17,16,4,11,12,10,19,38,5,19,21,20,11,12,8,6,13,11,7,57,21,8,19,22,16,7,14,14,20,43,5,22,19,14,11,13,5,16,26,8,8,10,11,23,5,4,23,11,8,25,10,6,9,8,33,25,18,7,35,15,13,5,14,17,10,4,19,11,10,10,14,20,26,2,44,19,27,42,28,27,20,22,11,20,27,27,21,35,29,12,16,23,40,10,24,42,10,13,13,24,23,7,22,16,16,7,36,27,17,34,19,24,16,37,13,13,17,31,26,14,22,6,14,6,7,19,21,16,21,13,30,39,20,36,19,10,25,9,15,42,32,13,41,7,16,14,41,18,20,11,28,19,9,18,20,7,33,21,24,4,12,16,30,21,31,24,7,24,33,6,22,8,11,24,17,31,37,11,8,25,13,22,15,17,29,6,6,19,35,22,9,13,2,16,12,27,41,41,15,10,6,13,12,7,29,14,29,47,9,26,12,34,17,10,29,20,7,6,19,18,10,12,9,11,22,25,21,32,8,8,11,56,33,17,33,23,12,18,6,23,7,29,8,30,5,10,12,29,26,15,16,5,29,4,27,30,21,6,13,4,39,15,17,17,5,19,13,24,19,43,12,5,31,13,35,24,43,19,6,34,5,13,26,21,10,6,33,14,5,34,19,11,25,9,23,8,9,33,10,28,42,5,24,37,24,29,14,6,21,5,10,26,13,56,7,25,8,16,20,5,27,15,6,4,22,14,7,15,56,35,12,17,13,15,28,9,9,57,15,8,22,30,11,34,21,31,26,6,17,12,12,13,21,8,12,49,12,28,33,23,5,5,21,16,6,9,34,13,19,10,25,21,6,9,14,21,16,14,11,39,46,4,11,13,10,21,38,16,12,8,34,25,9,35,10,34,9,43,31,8,7,10,14,26,35,16,15,6,17,27,14,17,4,4,7,37,11,53,26,35,5,18,40,33,6,18,19,17,17,7,11,22,26,38,16,6,15,41,18,35,52,26,37,4,27,14,30,56,7,7,23,17,17,59,31,13,31,30,39,14,25,28,10,17,9,3,28,26,11,4,19,31,5,6,6,23,7,54,22,4,20,24,9,13,22,13,25,17,8,16,18,8,7,9,5,21,22,12,13,21,8,54,31,7,16,14,28,18,6,17,7,26,18,29,54,5,22,30,14,9,14,36,31,18,26,8,32,21,13,22,4,17,16,33,10,23,28,24,40,27,13,10,11,18,24,28,31,9,29,29,19,14],\"y0\":\" \",\"yaxis\":\"y\",\"type\":\"box\"},{\"alignmentgroup\":\"True\",\"hovertemplate\":\"label_name=love<br>Words Per Tweet=%{y}<extra></extra>\",\"legendgroup\":\"love\",\"marker\":{\"color\":\"#00cc96\"},\"name\":\"love\",\"notched\":false,\"offsetgroup\":\"love\",\"orientation\":\"v\",\"showlegend\":true,\"x0\":\" \",\"xaxis\":\"x\",\"y\":[18,4,22,23,28,17,28,33,24,47,12,28,16,51,36,9,33,39,13,14,13,36,12,5,12,26,8,22,19,39,11,20,19,28,12,17,15,16,20,8,16,30,45,7,26,29,44,25,19,29,27,11,35,39,37,18,29,23,17,25,5,29,40,8,25,14,10,25,20,38,20,33,24,20,6,20,22,20,41,13,16,53,20,9,11,15,15,7,13,21,36,4,22,16,32,14,11,20,27,18,21,24,17,11,9,18,18,27,28,22,16,11,30,20,16,14,16,16,12,8,9,16,10,8,9,38,49,3,9,26,10,28,7,15,25,23,33,18,15,20,15,29,24,37,21,14,8,25,12,30,18,14,21,11,10,24,33,50,15,14,23,46,18,10,18,29,36,22,26,7,5,34,9,50,14,10,18,4,34,18,10,32,18,43,14,20,18,39,33,15,23,13,18,33,8,17,8,10,18,17,10,28,7,26,25,18,14,15,13,13,6,39,25,27,18,12,35,45,17,39,14,53,19,10,48,17,15,28,26,20,16,26,55,18,8,33,24,11,40,28,7,37,12,30,5,31,19,21,20,38,35,19,17,31,17,35,17,33,20,35,20,22,23,33,20,20,14,26,28,6,9,12,10,23,29,23,29,15,30,7,46,21,17,6,18,51,24,14,12,4,12,27,19,27,22,18,12,28,6,12,30,22,29,7,20,24,31,9,15,7,40,31,11,12,9,13,13,20,12,20,11,38,10,29,18,33,29,9,8,33,11,23,13,44,14,14,23,26,17,25,11,18,28,21,21,41,40,11,18,10,5,31,21,18,5,17,27,56,7,19,34,14,21,9,25,39,7,7,11,10,22,24,32,16,36,22,6,44,8,25,16,22,12,28,31,5,22,19,5,17,26,28,21,19,37,27,28,18,31,15,31,9,20,21,24,19,4,5,18,13,14,16,16,23,27,16,21,29,41,22,34,11,8,18,25,11,14,20,24,5,11,22,5,11,34,14,19,10,22,50,20,32,45,16,20,50,19,14,21,8,11,16,8,39,8,14,22,10,30,38,19,28,22,27,12,28,13,16,21,15,20,12,18,40,11,27,8,18,18,25,37,17,13,32,15,6,14,15,17,19,10,4,12,30,17,9,26,23,42,8,8,9,36,19,18,28,27,18,19,15,27,47,21,21,24,27,27,17,28,5,16,28,15,18,15,14,40,6,7,29,9,11,12,26,35,25,23,6,15,10,10,17,19,4,7,13,27,22,13,9,19,18,9,20,28,24,13,7,23,34,29,6,31,28,28,24,31,8,21,6,18,11,14,19,18,24,23,16,8,18,8,22,23,20,22,28,25,25,29,4,14,35,8,28,11,50,20,17,5,17,17,20,39,14,11,21,34,19,22,47,24,42,13,14,19,23,32,16,39,32,16,10,45,20,31,18,5,51,41,9,23,34,44,5,29,9,19,7,12,10,15,19,11,4,30,11,36,19,17,10,43,10,26,14,21,34,13,15,31,28,7,20,21,16,4,35,14,9,8,11,28,32,29,32,13,16,14,48,42,5,14,21,41,17,17,23,34,17,6,40,15,42,29,34,34,15,28,24,22,34,14,19,7,16,22,32,13,22,18,16,15,10,10,18,23,16,21,21,15,48,35,40,40,7,19,29,12,14,26,14,21,16,9,7,9,28,15,17,24,10,40,7,26,30,33,15,13,18,19,8,9,29,31,10,21,11,30,26,5,35,11,12,23,19,24,25,27,22,18,16,27,28,11,38,17,26,30,37,10,24,45,8,10,27,17,29,10,5,4,25,20,25,47,29,7,18,21,23,15,15,5,7,14,9,18,21,12,19,25,32,14,20,11,17,40,11,19,37,18,20,20,18,28,23,17,37,20,26,13,11,22,9,26,6,22,25,24,19,32,17,13,39,29,12,8,45,24,18,12,13,28,29,13,13,30,13,17,18,20,15,42,49,15,22,11,5,17,15,15,21,7,25,14,17,31,11,23,11,34,18,23,14,10,18,11,16,10,26,17,19,5,25,14,22,14,11,19,24,15,7,34,17,18,19,33,36,16,12,31,18,34,19,22,16,8,23,9,16,14,50,15,13,37,41,18,30,28,5,12,20,63,16,22,25,11,10,20,23,19,48,7,7,31,16,18,8,24,14,31,15,11,23,27,25,11,18,27,56,12,16,12,28,26,9,19,18,10,23,12,19,9,29,49,35,6,16,42,6,29,17,26,14,12,12,17,11,16,32,24,9,51,13,8,19,12,12,8,26,22,19,21,40,27,21,44,34,17,26,15,10,32,7,11,23,13,9,21,20,34,29,30,18,18,39,15,5,10,9,23,17,24,9,15,50,11,8,25,31,32,11,48,26,18,14,33,34,28,18,16,12,15,23,17,9,4,21,11,16,38,9,18,17,21,14,18,9,26,14,9,12,37,30,14,18,20,32,16,15,28,40,11,37,22,14,55,11,18,49,13,18,19,27,20,53,12,22,36,7,12,11,37,22,28,11,13,40,19,32,53,11,26,10,19,20,41,33,9,16,25,20,8,15,16,21,8,18,16,6,27,27,39,12,8,19,29,12,9,30,5,10,14,29,47,10,58,25,27,17,25,8,10,20,12,5,14,13,27,5,34,25,62,12,12,26,32,6,15,11,23,10,11,7,23,5,47,6,41,41,17,9,27,9,9,56,18,30,33,13,7,28,11,15,28,23,30,33,3,23,15,44,11,29,12,20,29,27,6,19,51,14,35,13,15,28,21,30,30,14,10,11,16,12,15,26,15,20,35,18,35,23,30,7,16,35,7,23,14,24,9,9,35,12,21,17,9,25,6,16,19,37,12,24,14,18,39,24,12,15,8,22,22,16,26,8,12,29,30,14,18,8,34,28,7,5,9,17,7,23,11,43,16,9,21,31,11,6,30,7,29,31,19,35,21,12,38,28,27,22,32,14,23,32,19,7],\"y0\":\" \",\"yaxis\":\"y\",\"type\":\"box\"},{\"alignmentgroup\":\"True\",\"hovertemplate\":\"label_name=surprise<br>Words Per Tweet=%{y}<extra></extra>\",\"legendgroup\":\"surprise\",\"marker\":{\"color\":\"#ab63fa\"},\"name\":\"surprise\",\"notched\":false,\"offsetgroup\":\"surprise\",\"orientation\":\"v\",\"showlegend\":true,\"x0\":\" \",\"xaxis\":\"x\",\"y\":[23,23,15,12,30,14,40,17,12,21,18,8,26,14,10,17,6,24,26,26,43,9,20,21,24,19,8,17,9,39,24,4,5,11,34,34,22,18,29,16,29,24,17,20,16,7,24,18,9,8,49,21,27,21,13,42,20,14,9,7,19,24,49,34,15,25,6,23,14,28,8,12,30,26,22,10,30,8,34,17,25,26,14,4,49,19,16,10,16,37,22,24,14,18,12,4,10,33,6,19,48,8,12,12,10,21,35,11,14,9,16,19,7,33,40,20,14,15,12,9,7,19,10,32,12,17,26,18,37,33,19,7,42,8,21,17,23,16,49,42,5,22,23,36,4,14,29,13,18,13,24,34,39,37,6,19,35,9,3,16,27,13,17,13,19,5,17,22,27,16,49,15,16,44,44,17,28,10,28,21,34,10,12,21,13,8,29,19,15,16,24,15,7,17,12,17,24,13,36,15,11,8,6,11,13,26,26,16,6,19,28,10,42,16,13,8,16,25,51,18,8,10,21,17,12,20,29,23,27,13,30,16,8,22,15,6,24,29,13,23,11,35,29,38,9,12,7,4,17,60,16,12,13,12,9,20,14,7,22,48,11,17,36,13,23,33,36,30,32,15,18,31,18,11,19,4,7,9,16,14,57,29,24,25,11,5,18,41,22,29,22,17,32,10,15,32,30,27,24,15,25,34,10,18,13,15,10,40,3,13,13,9,26,39,46,33,6,26,15,26,18,18,8,33,23,32,15,44,11,7,28,7,16,12,21,12,49,15,9,26,21,14,34,4,23,44,12,33,28,12,8,20,17,12,38,23,5,10,10,13,24,11,30,26,17,30,4,9,19,7,28,21,18,25,19,36,7,25,19,5,23,14,19,16,15,19,16,12,7,26,14,16,38,8,21,20,29,25,24,11,7,8,12,8,27,13,49,17,4,11,27,28,24,9,29,13,21,31,27,21,27,20,34,42,52,9,13,9,22,9,9,25,21,23,6,16,20,33,13,14,13,24,19,10,6,16,7,8,9,12,21,8,29,40,23,9,26,6,17,32,34,27,25,37,32,20,27,13,14,27,17,38,25,21,27,31,23,17,21,11,56,33,17,20,5,29,15,28,16,9,18,7,23,32,18,4,14,9,6,25,7,24,43,19,15,6,18,25,19,17,5,24,24,14,4,35,13,47,9,9,25,10,22,10,7,25,13,18,7,4,5,18,43,25,23,25,11,42,21,10,16,10,11,26,18,13,36,18,6,10,41,12,45,10,16,19,11,8,46,43,15,20,8,23,20,29,31,17,11,8,37,54],\"y0\":\" \",\"yaxis\":\"y\",\"type\":\"box\"},{\"alignmentgroup\":\"True\",\"hovertemplate\":\"label_name=fear<br>Words Per Tweet=%{y}<extra></extra>\",\"legendgroup\":\"fear\",\"marker\":{\"color\":\"#FFA15A\"},\"name\":\"fear\",\"notched\":false,\"offsetgroup\":\"fear\",\"orientation\":\"v\",\"showlegend\":true,\"x0\":\" \",\"xaxis\":\"x\",\"y\":[17,17,44,9,20,23,20,21,17,16,26,42,37,19,41,12,17,24,25,19,5,8,13,32,29,10,14,20,24,17,3,21,13,29,5,14,40,5,31,6,5,7,42,16,7,5,12,17,23,30,14,11,32,30,20,7,7,28,42,12,40,10,23,34,17,12,7,31,10,20,21,19,20,15,17,8,26,20,14,17,18,5,18,10,10,10,11,27,32,16,8,16,13,20,22,14,20,12,12,8,7,7,38,7,7,10,20,18,16,37,10,10,36,4,34,7,20,15,30,8,11,8,29,6,18,11,39,27,20,12,16,19,9,28,42,15,10,26,10,46,13,26,17,8,20,47,16,10,8,18,40,32,8,11,20,39,8,5,18,10,17,29,20,19,14,8,14,8,33,31,16,22,32,24,16,41,26,23,29,35,18,12,14,20,13,10,21,20,40,12,17,39,7,13,31,13,26,20,46,16,49,5,12,12,15,31,22,8,5,24,16,13,13,7,31,17,8,26,14,6,17,18,24,16,22,13,8,14,16,11,9,40,17,5,26,29,28,23,14,12,52,4,9,14,5,13,34,22,16,23,19,16,30,16,21,15,12,23,13,16,25,20,13,23,29,25,8,8,21,14,9,10,13,9,26,14,7,14,12,37,25,13,7,13,20,6,14,24,17,5,18,11,25,29,54,8,7,6,10,19,14,41,48,13,15,6,4,15,10,9,49,5,8,22,14,22,15,13,15,18,31,35,53,15,20,18,46,12,6,9,27,8,31,15,13,9,10,10,7,33,17,10,16,7,11,34,24,10,14,42,29,39,7,28,18,39,9,33,15,8,29,37,12,8,6,6,7,25,9,17,25,17,30,21,13,24,7,22,19,13,8,24,38,19,30,16,22,20,22,9,14,39,3,8,25,28,19,5,22,7,17,15,29,21,14,14,16,11,9,18,14,20,16,5,59,17,5,15,17,8,16,13,13,8,14,18,29,8,14,13,35,12,40,30,7,20,39,20,25,6,21,14,13,15,17,3,30,20,6,8,12,9,41,13,37,27,23,24,16,18,41,31,24,22,41,6,13,17,14,5,37,11,9,47,31,20,15,35,18,17,6,21,35,6,17,14,28,27,20,16,2,16,22,12,41,35,21,20,15,26,37,19,22,28,23,6,19,4,32,7,23,21,9,7,26,18,23,4,5,27,20,33,5,18,19,30,51,17,4,28,24,10,5,24,15,16,19,27,37,28,18,24,12,12,42,14,22,14,14,14,23,4,40,7,19,29,9,5,29,16,7,19,18,7,36,7,10,18,19,16,24,30,20,15,12,19,8,26,9,9,8,8,16,10,7,10,29,26,13,19,7,11,22,26,14,38,7,6,15,15,56,5,14,21,20,16,30,10,11,8,17,10,5,5,30,10,7,12,7,12,15,14,23,15,12,11,11,16,32,22,15,16,10,10,20,20,16,16,20,26,27,9,22,26,18,50,15,24,22,11,18,31,17,15,21,26,8,37,19,15,22,5,17,20,22,8,4,13,21,13,12,6,13,21,8,14,16,7,20,18,23,23,5,23,16,34,13,12,10,4,16,7,13,38,12,34,23,4,5,8,30,6,28,28,10,11,10,40,44,23,15,33,22,25,28,13,37,25,8,9,7,24,7,13,13,32,27,8,18,34,28,15,19,4,21,19,16,28,9,10,19,11,16,15,17,22,9,30,37,7,7,16,12,32,27,6,29,37,14,28,22,6,16,10,7,33,10,33,26,21,36,29,12,8,40,9,7,25,30,21,32,13,17,7,6,12,31,24,20,55,33,22,10,9,24,15,11,10,33,31,37,16,28,31,10,5,18,7,18,12,8,23,3,8,33,24,19,22,6,33,7,5,6,7,33,11,15,22,5,46,7,30,20,26,3,7,8,19,29,12,13,20,20,5,25,13,6,22,17,22,6,17,29,17,10,13,13,8,36,10,7,15,11,9,4,9,9,18,15,30,12,16,22,41,24,5,12,32,17,29,6,6,16,45,40,15,20,12,13,59,13,13,24,56,31,4,7,23,27,6,8,5,19,53,4,4,28,24,6,5,8,20,16,17,5,12,10,54,11,16,20,17,6,32,10,26,25,20,13,28,7,32,40,27,30,16,11,5,17,8,23,29,26,17,19,16,11,12,43,26,24,6,51,27,13,8,32,8,28,5,11,29,14,16,14,28,16,53,52,10,23,4,19,9,5,34,15,25,18,12,40,8,24,7,9,7,16,20,19,9,7,11,31,15,20,23,15,13,16,5,14,22,9,13,17,9,22,8,11,55,43,41,16,16,32,5,13,39,35,12,22,18,12,28,37,23,2,15,17,15,10,21,8,7,11,21,19,27,58,10,5,14,12,14,22,32,11,27,25,14,25,30,9,8,12,17,8,29,37,36,8,22,19,29,15,32,7,28,15,31,29,21,9,25,17,24,23,34,26,25,10,14,8,4,29,12,20,33,13,22,12,6,24,16,44,29,17,14,10,27,7,23,10,16,27,11,28,49,6,14,25,25,23,15,16,13,19,33,4,47,28,15,18,7,23,25,19,47,12,17,7,14,25,7,13,15,28,20,7,17,10,5,18,11,30,22,12,12,26,18,24,5,23,22,49,48,39,18,18,21,18,19,16,6,5,18,10,22,22,8,24,22,26,13,11,17,8,8,20,15,16,12,33,20,21,43,45,9,33,8,45,9,28,22,15,21,9,52,18,18,8,24,25,18,20,14,23,10,20,21,30,6,25,19,26,11,23,29,21,6,4,12,22,47,15,29,26,18,9,24,35,12,8,34,18,36,31,14,8,11,19,16,7,7,27,47,33,6,45,12,29,17,18,27,7,8,28,7,12,15,5,27,33,21,6,5,12,18,22,12,49,7,16,4,21,25,9,33,28,26,8,44,28,5,16,27,42,10,18,17,13,6,37,12,22,8,26,30,18,12,12,21,25,13,19,15,4,12,10,11,5,7,7,21,46,36,11,7,14,8,25,18,16,22,16,17,26,23,34,19,18,26,31,9,11,28,27,13,20,15,5,4,23,29,13,17,38,16,25,58,27,7,14,12,11,12,16,17,17,12,33,13,10,26,22,13,20,11,6,24,9,35,10,4,5,10,14,13,15,22,9,18,15,18,17,12,33,4,6,7,21,16,16,43,9,27,11,39,38,12,19,7,15,24,21,28,14,10,6,6,6,28,20,36,29,36,12,29,6,10,26,12,12,29,13,23,12,26,28,13,20,16,12,24,16,9,36,6,18,46,19,6,23,15,31,17,28,13,35,27,49,23,44,11,9,34,38,21,20,20,8,6,11,7,25,8,4,6,10,16,35,8,28,14,4,30,7,7,14,6,12,17,36,8,31,11,40,9,8,8,9,15,42,17,31,30,10,15,31,33,19,13,13,16,17,6,21,7,14,45,9,24,17,9,28,25,20,9,9,26,35,6,19,14,15,44,8,16,19,19,6,12,24,10,18,21,13,11,5,6,25,34,29,6,16,7,40,12,22,52,9,31,17,11,9,13,23,26,51,43,3,33,11,19,5,10,36,44,21,7,14,21,10,5,22,20,42,24,22,6,7,28,13,23,3,13,8,33,19,18,15,10,6,24,19,16,25,5,7,7,4,5,11,8,18,37,39,17,35,16,15,13,43,16,12,20,22,16,28,22,28,14,31,25,16,14,8,13,5,19,50,34,17,41,7,16,7,12,13,29,9,25,29,4,14,16,18,11,39,16,7,14,7,25,36,31,14,26,13,13,44,8,8,7,12,7,23,22,15,22,28,12,8,11,12,32,8,15,10,43,20,12,18,16,19,22,32,18,10,34,8,8,11,17,12,14,21,6,10,6,25,19,32,12,8,15,35,20,12,20,9,7,13,26,34,13,24,60,16,9,22,26,17,42,7,15,17,32,20,15,13,11,20,7,25,27,17,38,10,15,16,23,12,9,7,11,21,10,29,29,5,23,20,14,27,16,15,40,3,15,7,14,8,24,21,19,15,25,20,14,19,12,13,13,15,23,9,55,20,33,14,30,8,11,29,16,25,25,9,7,7,12,41,5,26,11,10,30,37,22,4,18,15,5,20,19,27,30,16,45,5,23,29,15,45,5,14,5,16,9,12,14,43,18,47,15,7,14,24,27,18,37,43,14,21,9,21,16,5,43,15,10,29,23,23,31,8,16,20,20,32,8,11,24,4,31,37,36,18,30,11,16,6,15,21,14,10,19,35,25,25,13,8,14,20,9,8,21,54,10,17,12,46,12,11,17,14,5,21,13,21,7,6,18,28,45,13,19,14,19,9,13,38,8,24,38,29,6,3,46,31,9,6,49,32,40,28,24,21,14,28,45,31,25,26,9,18,20,9,24,22,19,9,14,20,44,11],\"y0\":\" \",\"yaxis\":\"y\",\"type\":\"box\"},{\"alignmentgroup\":\"True\",\"hovertemplate\":\"label_name=joy<br>Words Per Tweet=%{y}<extra></extra>\",\"legendgroup\":\"joy\",\"marker\":{\"color\":\"#19d3f3\"},\"name\":\"joy\",\"notched\":false,\"offsetgroup\":\"joy\",\"orientation\":\"v\",\"showlegend\":true,\"x0\":\" \",\"xaxis\":\"x\",\"y\":[19,21,42,10,9,27,9,12,45,12,9,25,27,23,27,27,18,64,6,12,33,30,19,23,16,25,38,13,17,12,26,22,16,17,15,9,20,23,21,44,36,9,30,5,6,10,17,15,13,17,23,37,5,36,11,17,28,20,14,56,22,15,29,12,16,28,18,9,14,28,6,25,5,15,14,24,19,30,15,9,20,32,13,8,15,12,26,17,27,40,17,6,21,11,20,16,18,48,41,21,13,14,23,18,61,43,39,47,53,11,5,4,11,41,30,4,23,31,20,7,27,39,14,18,13,21,17,17,27,24,9,10,19,8,43,18,13,10,22,12,26,10,12,13,11,13,10,19,28,14,19,21,26,14,27,5,28,18,15,15,42,7,19,14,39,17,19,21,33,22,16,32,18,20,4,24,21,15,13,22,28,12,25,10,20,24,25,15,5,19,33,55,31,24,29,17,9,22,10,11,26,35,18,13,25,15,14,17,9,30,14,9,14,17,25,37,43,20,18,38,10,21,8,11,5,28,18,31,19,27,25,15,8,22,14,19,26,25,9,9,29,25,10,27,23,14,29,13,33,9,12,18,35,25,3,6,33,9,6,13,30,49,46,22,22,28,34,9,40,38,22,28,20,38,26,19,13,28,44,24,20,23,13,15,10,14,37,12,6,25,15,11,12,18,11,24,4,22,20,9,26,26,13,11,19,44,15,14,14,26,14,11,27,28,13,26,9,9,20,38,4,10,17,9,19,17,11,35,30,46,20,14,3,11,37,27,8,22,23,12,4,38,16,20,27,33,11,25,19,6,58,39,17,15,35,10,5,27,9,10,26,57,35,13,12,54,20,37,10,21,22,43,24,8,20,24,7,38,7,13,23,8,10,9,22,4,47,10,13,20,11,20,20,20,40,19,16,35,12,29,33,7,50,8,42,34,16,18,20,11,9,13,22,52,12,25,32,8,19,15,33,23,32,13,24,11,19,5,26,17,22,27,10,13,24,47,28,5,15,21,14,30,57,19,6,4,10,19,26,15,7,32,14,9,16,12,27,6,21,9,15,28,5,11,16,32,19,6,15,13,20,30,12,21,23,17,29,7,12,25,44,34,31,22,3,30,34,38,20,30,33,26,38,32,40,11,11,20,20,15,11,12,41,22,17,26,23,22,15,10,28,21,20,10,8,8,19,18,14,11,41,37,36,39,23,11,25,19,26,17,23,19,21,40,8,14,32,12,40,7,3,10,30,4,62,26,25,52,10,16,30,26,29,28,10,24,26,18,4,20,45,10,7,19,9,15,18,10,4,10,9,38,6,6,6,37,16,14,20,23,12,10,11,19,13,13,4,17,7,6,24,17,32,17,34,19,15,7,7,10,18,20,9,15,46,13,4,55,9,26,15,10,30,36,17,5,38,7,14,18,4,39,24,12,15,33,17,23,29,12,21,6,39,25,19,5,5,26,31,11,18,6,13,22,9,10,22,13,38,15,28,11,15,39,28,5,29,14,16,22,25,29,5,16,15,22,6,9,28,16,26,20,27,19,5,18,28,20,22,23,12,11,6,19,21,22,23,6,17,19,22,9,28,14,25,21,13,30,8,9,16,35,31,19,5,18,9,21,24,22,25,31,12,7,55,13,36,15,16,30,12,18,16,5,31,8,28,10,6,16,22,11,24,35,27,30,16,14,16,11,13,29,7,20,12,13,9,22,13,18,31,10,8,7,19,27,11,9,21,10,11,7,6,16,37,37,32,21,36,15,14,5,13,13,21,19,16,30,19,16,30,12,23,13,26,21,26,4,21,13,43,19,16,34,5,35,23,19,16,33,36,26,48,24,15,11,14,15,12,26,7,13,10,20,36,25,22,20,36,8,14,5,12,7,8,17,23,15,24,29,19,12,11,6,24,6,16,13,8,21,15,16,12,28,17,9,28,17,7,49,6,33,11,9,19,28,10,47,18,19,10,14,18,21,21,9,19,17,27,29,6,8,24,4,12,9,10,32,17,32,17,17,18,29,13,30,27,19,13,15,19,5,34,22,27,13,39,43,22,4,21,42,17,32,17,15,23,19,23,49,30,33,23,8,23,7,42,5,24,10,26,30,18,49,8,18,8,26,28,25,16,9,14,21,23,24,42,27,26,29,16,16,30,14,19,17,6,16,15,25,8,28,17,20,9,8,6,28,4,5,14,9,14,17,20,19,12,22,35,31,7,4,12,24,8,19,18,14,25,9,24,8,19,11,29,7,22,7,6,25,29,26,42,9,22,13,5,34,27,22,27,25,45,29,18,13,7,16,6,7,8,12,35,9,45,17,27,7,47,29,8,42,21,23,13,19,19,38,5,10,6,34,26,26,7,24,15,23,6,38,44,20,13,7,12,25,46,19,44,11,22,36,20,7,29,17,16,24,10,11,51,33,50,46,6,4,42,13,33,7,29,9,31,18,13,15,6,39,11,23,10,10,7,44,12,28,23,6,9,8,15,16,11,11,6,30,35,39,15,4,15,23,25,24,20,18,4,26,24,25,8,13,26,19,18,12,19,12,29,12,19,13,8,25,12,7,13,19,9,26,5,43,17,47,16,59,11,33,25,13,6,31,29,20,38,18,13,27,45,18,28,4,36,13,35,29,16,15,12,8,13,7,14,20,31,11,16,14,5,13,11,16,28,14,28,18,15,12,9,16,29,10,12,10,28,24,7,47,22,22,14,31,46,45,19,11,23,25,8,6,11,14,29,7,6,27,4,15,18,42,36,22,5,24,20,12,20,14,15,22,24,14,19,24,13,24,13,15,14,14,16,40,27,12,15,20,6,24,25,8,20,15,19,36,21,5,30,4,24,26,17,12,15,11,21,27,19,24,21,10,7,6,23,22,11,22,17,11,9,40,13,31,13,22,33,32,44,17,5,21,28,19,17,22,5,6,14,13,8,14,18,46,21,18,25,20,13,15,7,24,44,25,32,17,18,11,15,36,35,33,18,24,8,5,6,13,16,31,21,4,34,8,10,5,9,21,35,8,25,11,17,8,11,14,37,8,9,13,6,44,9,11,21,10,8,15,56,30,14,7,6,5,24,18,17,31,7,36,20,8,19,14,21,12,49,42,27,24,18,10,33,19,31,34,21,43,11,23,25,10,28,12,10,37,11,10,41,15,18,7,20,10,16,16,40,13,46,21,21,21,27,9,38,32,26,9,20,22,37,23,19,10,13,31,15,20,25,28,20,28,7,23,25,21,17,13,11,17,15,12,18,27,21,13,4,12,28,33,20,10,6,27,12,21,10,14,13,19,53,39,26,5,16,6,8,38,10,44,23,31,27,19,35,20,16,21,12,4,30,14,11,9,14,22,28,10,10,8,14,5,7,5,20,13,38,12,17,25,18,7,4,27,14,7,25,19,22,8,30,6,4,16,14,24,6,46,13,18,14,4,17,21,15,20,42,37,22,19,38,11,45,10,20,28,10,5,22,15,4,14,40,6,5,18,43,35,25,8,25,20,22,7,22,19,29,12,22,40,40,12,29,8,14,15,17,18,6,6,7,20,36,8,28,24,15,16,15,20,11,28,24,29,42,12,15,10,8,27,7,30,28,9,5,17,9,4,13,22,39,20,6,21,10,7,25,6,8,5,47,8,29,32,13,14,8,24,13,18,5,27,12,33,23,14,23,29,12,10,4,13,19,13,11,10,10,13,11,17,29,26,13,50,26,5,11,21,28,5,22,24,9,38,23,12,5,8,6,17,13,34,8,12,12,22,17,43,8,14,16,13,59,19,24,28,8,10,25,10,21,7,47,10,15,11,39,9,21,17,28,25,15,6,8,27,29,18,14,36,4,23,15,10,25,35,13,12,20,20,15,17,34,16,2,13,25,34,37,18,17,4,19,27,39,13,29,26,24,5,20,11,14,29,17,24,4,6,13,19,25,23,19,30,26,22,11,21,34,21,17,21,14,45,18,21,33,26,19,16,10,19,16,10,14,23,29,16,25,26,50,26,23,12,35,12,18,13,20,19,21,18,28,28,6,21,26,27,15,10,5,25,24,21,7,8,8,9,7,40,24,9,34,30,15,22,15,32,5,12,23,8,7,24,44,7,8,10,4,13,36,8,30,20,9,28,26,34,21,9,43,35,49,9,8,36,18,17,30,27,19,39,13,20,15,16,13,25,24,41,4,10,24,14,13,21,23,27,20,5,10,12,19,25,8,13,16,15,4,34,19,18,16,20,13,32,30,23,8,7,39,14,21,18,8,8,20,42,21,11,12,27,29,14,7,25,31,28,6,19,36,5,16,18,22,7,8,25,10,21,28,25,9,13,33,36,29,15,21,28,26,21,5,53,16,22,42,15,11,22,18,16,22,22,14,13,25,10,14,48,16,32,47,37,50,26,21,12,13,4,15,7,7,14,10,13,10,33,21,21,28,16,31,51,21,18,22,20,6,27,4,20,21,17,29,25,54,13,15,17,15,11,22,7,24,29,27,42,10,23,10,29,30,15,20,9,52,27,31,19,9,8,12,6,11,13,13,21,14,22,17,20,51,15,27,20,17,38,12,12,33,14,8,18,59,27,13,20,25,22,5,8,17,10,29,41,37,19,11,22,15,10,7,6,34,6,29,13,12,32,8,35,8,10,46,5,18,22,6,14,40,11,11,20,11,6,13,13,23,39,5,18,53,8,31,13,36,24,22,5,4,14,37,25,23,5,11,9,37,9,6,38,24,10,21,15,21,12,13,10,30,47,9,19,14,23,13,26,27,17,23,12,23,29,19,31,12,13,27,46,11,35,41,19,26,11,15,13,17,27,19,12,13,17,4,14,15,12,20,4,8,18,14,16,12,15,19,16,30,19,18,34,15,10,20,10,18,19,30,16,8,13,18,19,27,20,5,12,24,17,35,15,15,9,26,28,26,39,11,33,14,30,7,29,8,18,7,7,13,21,14,27,5,16,41,36,9,19,9,29,29,17,14,36,13,12,14,16,13,13,18,28,34,43,18,11,11,15,26,7,13,27,30,21,5,19,24,27,9,21,19,26,28,20,11,27,11,15,9,23,19,15,15,27,4,13,31,8,33,24,37,24,14,16,24,55,6,39,13,10,11,11,20,27,5,26,7,11,18,8,27,35,19,16,30,29,17,6,18,22,15,14,32,16,20,27,13,11,30,10,6,12,11,6,25,30,14,13,17,18,7,20,8,12,35,19,28,13,21,11,21,9,17,25,17,20,4,7,18,24,11,24,9,12,34,23,31,39,26,13,37,23,9,25,32,16,17,19,10,22,25,24,20,9,29,32,9,23,26,8,16,24,9,17,20,12,16,32,60,17,34,8,20,22,19,14,8,14,21,7,33,18,24,14,17,6,22,11,27,33,17,8,36,23,18,6,11,32,31,27,7,25,27,33,17,13,25,7,12,14,12,27,26,14,12,7,21,27,14,20,22,9,57,21,36,19,27,21,20,6,21,14,20,9,7,12,8,15,37,14,13,11,54,17,7,9,37,64,33,34,21,35,4,10,12,16,31,20,13,21,22,6,54,7,29,12,12,26,39,28,11,19,9,5,27,18,14,16,30,6,28,20,21,15,27,21,27,15,21,22,19,20,31,18,56,16,18,22,13,22,16,11,24,25,13,8,4,17,14,21,8,12,5,21,33,51,39,26,28,32,28,13,15,37,17,28,8,21,7,9,42,9,14,17,27,14,17,16,30,34,4,17,33,25,11,21,25,23,17,24,5,6,16,14,24,12,12,7,6,10,13,10,22,21,20,15,27,12,28,5,26,13,19,21,16,9,38,4,37,4,10,27,8,12,26,25,25,30,12,26,12,25,21,30,4,29,58,23,33,9,13,6,23,16,5,24,22,21,13,11,7,5,13,21,18,27,11,13,25,22,7,33,19,9,20,23,45,16,11,18,6,10,27,13,20,20,23,20,7,7,20,13,37,32,7,7,6,54,14,24,16,25,29,7,31,21,6,34,38,31,41,39,17,5,17,16,26,11,14,22,5,6,12,37,16,23,16,14,21,10,13,25,23,17,20,21,22,16,13,21,5,11,16,11,20,9,24,16,27,12,15,15,14,14,38,10,9,9,37,41,24,19,9,43,46,20,29,44,20,11,25,21,8,10,38,13,13,9,21,15,10,12,9,22,9,22,51,15,19,47,9,26,19,36,26,16,17,17,13,32,20,5,20,26,31,44,31,9,27,15,12,16,30,23,45,19,24,18,34,25,18,25,13,8,14,7,12,31,12,19,55,9,18,10,11,7,28,6,12,12,20,12,6,18,15,36,26,6,7,9,12,16,10,6,19,23,19,34,16,24,13,13,13,12,27,24,28,27,43,22,22,38,52,25,40,10,4,8,29,25,22,17,10,25,17,23,22,35,9,21,9,27,14,22,34,45,29,15,34,32,22,22,20,9,15,8,19,30,38,13,9,23,20,5,16,9,37,11,8,19,19,12,22,30,25,21,13,14,5,31,13,22,12,36,9,18,29,13,5,30,5,36,6,12,16,37,22,10,18,21,23,18,8,6,40,25,6,14,21,16,24,42,27,12,18,11,9,34,5,36,5,12,18,9,14,33,8,48,4,7,38,4,22,23,8,15,26,17,20,12,27,24,8,11,34,35,21,14,22,16,9,9,18,25,8,30,15,36,20,18,33,23,19,30,8,11,27,9,11,36,9,10,16,31,8,18,34,23,16,20,20,31,47,24,25,9,9,10,5,23,31,16,14,10,29,11,22,22,23,24,17,18,18,17,9,11,31,11,21,13,4,37,26,23,17,10,9,17,15,17,54,31,14,11,55,10,16,22,21,14,20,5,20,25,11,16,20,11,7,7,11,6,4,11,25,15,24,16,27,15,38,28,26,28,14,11,13,11,5,16,6,14,29,29,33,30,8,19,8,25,22,6,15,12,5,17,24,19,14,37,19,19,38,12,10,16,17,14,18,7,8,20,17,16,6,17,36,16,14,10,14,37,27,30,12,10,21,16,20,15,30,11,11,8,34,23,36,4,30,23,31,16,14,6,10,19,21,21,9,38,42,25,21,5,20,16,19,21,16,27,29,9,7,6,25,19,24,12,19,12,40,14,28,19,15,19,42,7,16,11,16,19,26,25,15,5,21,12,23,27,8,33,28,55,5,10,26,12,22,24,17,21,17,24,41,30,9,22,9,13,33,27,17,14,12,23,8,12,8,15,11,18,25,31,13,12,29,12,21,7,33,15,24,14,41,17,28,9,28,32,30,27,10,47,25,4,20,9,7,15,17,8,14,21,19,19,31,46,13,11,19,23,17,15,6,27,19,21,48,21,22,10,8,18,64,41,18,17,8,9,20,15,30,26,19,38,7,17,4,18,14,18,20,35,20,13,15,11,32,26,22,15,12,10,4,37,21,12,15,18,9,25,37,20,7,25,19,8,12,9,10,29,28,22,6,33,34,11,19,22,23,39,9,19,8,8,23,31,13,17,59,6,37,9,6,10,8,23,17,8,22,24,33,24,20,6,29,18,9,14,11,33,9,23,28,41,19,27,4,16,16,20,13,16,22,41,13,9,10,22,30,23,12,45,15,22,10,16,10,8,11,12,32,33,6,8,6,13,20,20,32,51,16,15,14,21,18,35,25,11,8,53,9,37,13,39,8,21,19,14,8,12,10,16,13,10,9,13,9,10,22,12,7,13,44,22,42,26,24,26,27,10,10,18,10,9,20,6,22,26,14,21,45,52,32,14,13,38,24,32,17,16,42,20,24,15,8,12,17,12,15,17,17,18,18,17,12,35,5,16,8,10,17,16,15,26,35,26,16,14,20,11,4,8,18,29,34,4,6,13,13,24,5,8,16,12,16,28,23,19,7,28,5,5,27,19,18,16,5,30,9,28,19,34,35,9,16,11,21,15,12,16,12,46,20,51,20,27,10,31,26,28,25,61,26,29,15,15,23,13,22,39,14,11,62,12,16,9,17,3,11,18,14,20,14,24,13,23,25,36,18,43,11,5,23,19,26,40,33,10,25,19,40,8,17,7,10,32,32,32,6,7,11,21,7,20,9,20,12,8,25,12,11,15,34,17,23,8,12,9,45,31,23,18,15,17,5,19,13,6,24,8,19,25,28,13,5,12,30,25,8,6,37,7,25,8,31,5,40,27,21,19,9,29,18,23,24,4,19,9,10,4,9,44,31,10,5,19,27,6,7,13,23,12,15,16,5,29,9,13,13,12,7,18,34,21,14,12,12,19,29,5,12,17,13,15,20,14,24,3,41,19,37,39,37,16,15,16,11,5,21,17,40,23,7,14,39,8,26,39,15,20,19,13,11,21,21,18,28,10,39,15,39,35,20,15,26,13,16,12,22,9,50,17,13,15,33,8,14,23,20,18,10,16,25,16,14,7,19,9,40,8,7,28,15,12,5,35,12,14,40,45,8,17,22,16,10,31,6,14,23,18,9,18,29,19,18,19,19,44,18,6,17,8,15,23,12,17,4,23,12,20,10,17,31,17,40,19,7,8,15,23,34,20,21,10,16,48,5,10,15,35,34,5,13,6,25,19,12,28,5,9,20,36,16,13,18,8,27,20,5,12,40,4,33,30,16,56,39,27,25,19,8,17,30,29,20,48,18,32,22,14,24,23,15,41,7,39,11,14,18,5,19,13,41,17,7,16,20,23,37,25,6,28,22,17,6,18,41,34,20,49,6,8,46,10,7,19,22,32,19,10,18,9,37,19,23,17,57,35,14,5,17,44,6,21,7,46,13,11,22,17,13,12,9,23,11,15,15,6,7,6,32,27,6,19,42,31,13,38,24,37,16,11,15,23,18,17,10,7,45,27,10,14,25,27,22,46,11,4,4,19,10,15,54,25,50,14,4,26,14,12,19,16,30,10,30,7,15,32,35,9,19,25,7,15,7,11,11,41,30,6,25,21,13,17,8,16,14,30,11,15,27,12,22,7,43,13,30,12,36,17,24,4,12,13,11,31,5,18,9,6,10,36,27,42,16,40,11,8,7,24,15,15,17,39,10,10,26,7,17,28,20,18,8,39,19,14,16,13,9,28,35,19,30,34,6,23,17,23,23,26,4,21,15,26,6,6,19,45,27,17,6,26,8,8,7,34,28,30,6,14,43,36,19,23,11,20,4,14,11,14,19,15,21,20,22,21,15,36,21,15,24,48,16,31,9,14,30,9,16,10,20,53,7,20,16,21,42,22,30,52,9,5,17,14,15,22,15,21,23,6,7,15,25,19,29,48,41,13,14,29,21,19,27,40,23,22,14,13,22,8,10,24,21,2,7,11,19,20,35,8,40,32,10,21,18,7,7,21,29,21,13,35,19,33,30,17,20,18,13,38,35,29,17,13,19,28,15,37,13,7,5,16,6,11,19,15,8,6,37,33,25,19,11,16,12,17,20,25,12,17,31,3,20,37,11,16,46,17,19,9,5,22,13,19,9,26,11,20,50,11,13,25,23,23,26,28,9,21,12,7,20,35,18,20,38,5,26,22,6,12,15,24,18,11,14,10,5,28,13,10,18,28,23,10,7,8,14,18,18,26,37,25,21,8,28,15,14,7,33,31,42,35,29,26,6,27,21,15,25,16,27,27,19,9,22,28,12,28,16,40,41,34,20,19,30,18,9,17,16,13,11,31,9,18,19,8,25,14,5,35,16,12,4,8,15,3,21,16,16,10,17,12,17,27,11,7,22,18,6,41,32,25,11,15,16,26,7,12,9,11,11,13,47,15,16,8,20,31,20,10,23,15,25,13,20,4,12,33,14,11,12,14,21,36,9,13,26,6,8,8,10,19,21,53,20,19,30,17,51,9,28,5,24,23,30,33,14,21,22,26,28,25,52,8,23,21,22,4,24,4,21,21,20,9,25,7,15,20,16,33,7,15,5,19,15,11,7,6,6,17,16,22,13,15,8,17,6,31,14,32,6,12,35,11,39,8,59,11,33,27,22,27,33,11,14,9,11,27,9,16,11,23,36,10,29,11,5,13,6,13,10,20,18,22,23,21,51,19,24,21,13,13,11,47,16,48,30,7,6,22,23,11,9,15,7,16,9,9,31,19,23,25,17,18,29,14,45,14,33,27,22,12,22,25,13,15,7,15,31,10,36,18,11,13,11,31,16,10,29,23,27,27,53,39,32,30,12,10,30,14,17,27,20,5,16,42,6,5,10,7,7,20,29,31,11,34,12,3,16,7,10,10,30,49,27,16,48,7,16,9,24,38,8,39,20,19,10,27,21,26,16,35,13,15,5,8,18,14,17,25,9,32,22,29,10,13,14,8,51,25,20,18,14,15,9,23,29,11,21,10,6,16,6,15,25,25,5,18,13,43,12,18,20,7,9,17,29,7,17,10,21,28,5,17,13,10,19,14,10,11,11,3,7,12,16,18,9,43,20,36,21,4,11,17,13,8,13,18,23,24,33,30,25,23,16,22,6,9,7,12,15,30,32,12,17,16,8,47,14,13,30,23,32,19,36,16,12,11,14,47,22,11,23,23,12,23,11,27,16,14,14,41,26,5,15,11,48,7,12,15,10,25,18,19,38,19,27,22,16,21,12,9,14,32,20,19,7,14,13,41,8,20,13,22,18,11,35,12,12,7,9,5,11,11,16,20,23,32,39,23,18,44,23,34,26,4,24,11,15,27,16,26,35,22,5,20,12,23,6,7,20,16,4,39,17,13,24,33,13,7,18,5,12,13,36,32,13,44,11,19,44,23,15,5,41,11,44,4,11,10,19,29,39,44,23,10,19,19,11,17,30,9,20,11,11,26,5,15,24,27,24,18,9,26,22,10,14,5,13,36,17,11,5,17,7,12,12,10,50,18,20,20,12,22,15,21,9,29,24,12,19,33,18,28,18,15,18,9,7,28,19,17,18,22,18,22,13,20,23,22,21,38,14,15,12,12,35,9,17,15,12,20,23,7,8,9,17,31,17,14,23,22,8,21,7,17,47,17,36,12,23,34,5,10,25,8,54,33,25,18,15,9,21,21,29,18,16,12,9,9,44,12,30,11,21,40,15,16,19,7,20,8,7,17,7,18,17,13,23,26,17,5,9,45,26,7,9,8,21,16,20,5,41,15,21,11,17,22,34,15,13,17,4,9,25,9,10,9,29,5,10,13,35,29,8,39,36,20,43,8,14,9,24,5,10,8,16,8,17,28,19,36,9,12,33,21,12,23,19,30,16,11,34,9,14,43,4,19,21,20,19,27,14,12,14,27,58,24,33,9,4,13,32,7,28,34,17,9,11,17,12,25,11,7,23,22,9,10,52,27,13,26,23,14,9,15,45,39,18,7,32,32,34,38,19,9,25,21,8,34,10,13,5,20,27,7,30,10,17,12,10,7,22,9,20,12,8,7,11,40,16,29,25,9,5,11,19,21,19,4,5,33,13,28,28,6,10,15,22,14,27,33,8,11,34,22,57,38,32,8,11,19,21,11,26,13,15,30,18,32,17,11,37,20,21,13,30,14,15,42,7,12,42,12,38,22,23,10,6,25,13,13,10,32,17,12,38,12,25,6,29,13,11,15,22,19,16,27,12,33,4,4,11,12,9,31,9,18,17,36,15,5,22,42,25,29,21,8,12,32,20,9,38,11,9,37,20,24,10,23,24,49,32,30,9,18,15,8,32,19,18,11,11,7,27,20,6,15,10,13,36,29,16,44,29,29,20,16,29,33,14,10,33,24,17,11,35,39,42,27,26,12,28,11,17,20,23,20,14,16,6,34,9,12,15,17,34,12,8,28,11,37,14,24,29,23,18,13,22,5,13,17,19,26,7,6,26,12,12,11,20,11,18,19,13,3,14,23,21,28,35,5,16,20,27,10,10,38,12,35,35,16,14,29,15,18,10,23,18,13,20,8,11,21,11,18,28,12,6,39,17,7,12,12,9,33,27,11,12,23,7,27,30,14,22,47,15,13,37,13,28,10,15,28,34,23,27,19,25,35,29,15,22,11,12,54,10,20,17,44,6,14,19,25,4,20,13,4,6,33,17,20,35,10,12,10,5,25,5,13,16,25,8,32,33,4,19,22,18,17,8,6,15,31,22,13,9,17,29,8,24,36,36,32,20,15,11,20,5,10,27,22,9,17,32,6,5,41,14,20,18,6],\"y0\":\" \",\"yaxis\":\"y\",\"type\":\"box\"}],                        {\"template\":{\"data\":{\"barpolar\":[{\"marker\":{\"line\":{\"color\":\"white\",\"width\":0.5},\"pattern\":{\"fillmode\":\"overlay\",\"size\":10,\"solidity\":0.2}},\"type\":\"barpolar\"}],\"bar\":[{\"error_x\":{\"color\":\"#2a3f5f\"},\"error_y\":{\"color\":\"#2a3f5f\"},\"marker\":{\"line\":{\"color\":\"white\",\"width\":0.5},\"pattern\":{\"fillmode\":\"overlay\",\"size\":10,\"solidity\":0.2}},\"type\":\"bar\"}],\"carpet\":[{\"aaxis\":{\"endlinecolor\":\"#2a3f5f\",\"gridcolor\":\"#C8D4E3\",\"linecolor\":\"#C8D4E3\",\"minorgridcolor\":\"#C8D4E3\",\"startlinecolor\":\"#2a3f5f\"},\"baxis\":{\"endlinecolor\":\"#2a3f5f\",\"gridcolor\":\"#C8D4E3\",\"linecolor\":\"#C8D4E3\",\"minorgridcolor\":\"#C8D4E3\",\"startlinecolor\":\"#2a3f5f\"},\"type\":\"carpet\"}],\"choropleth\":[{\"colorbar\":{\"outlinewidth\":0,\"ticks\":\"\"},\"type\":\"choropleth\"}],\"contourcarpet\":[{\"colorbar\":{\"outlinewidth\":0,\"ticks\":\"\"},\"type\":\"contourcarpet\"}],\"contour\":[{\"colorbar\":{\"outlinewidth\":0,\"ticks\":\"\"},\"colorscale\":[[0.0,\"#0d0887\"],[0.1111111111111111,\"#46039f\"],[0.2222222222222222,\"#7201a8\"],[0.3333333333333333,\"#9c179e\"],[0.4444444444444444,\"#bd3786\"],[0.5555555555555556,\"#d8576b\"],[0.6666666666666666,\"#ed7953\"],[0.7777777777777778,\"#fb9f3a\"],[0.8888888888888888,\"#fdca26\"],[1.0,\"#f0f921\"]],\"type\":\"contour\"}],\"heatmapgl\":[{\"colorbar\":{\"outlinewidth\":0,\"ticks\":\"\"},\"colorscale\":[[0.0,\"#0d0887\"],[0.1111111111111111,\"#46039f\"],[0.2222222222222222,\"#7201a8\"],[0.3333333333333333,\"#9c179e\"],[0.4444444444444444,\"#bd3786\"],[0.5555555555555556,\"#d8576b\"],[0.6666666666666666,\"#ed7953\"],[0.7777777777777778,\"#fb9f3a\"],[0.8888888888888888,\"#fdca26\"],[1.0,\"#f0f921\"]],\"type\":\"heatmapgl\"}],\"heatmap\":[{\"colorbar\":{\"outlinewidth\":0,\"ticks\":\"\"},\"colorscale\":[[0.0,\"#0d0887\"],[0.1111111111111111,\"#46039f\"],[0.2222222222222222,\"#7201a8\"],[0.3333333333333333,\"#9c179e\"],[0.4444444444444444,\"#bd3786\"],[0.5555555555555556,\"#d8576b\"],[0.6666666666666666,\"#ed7953\"],[0.7777777777777778,\"#fb9f3a\"],[0.8888888888888888,\"#fdca26\"],[1.0,\"#f0f921\"]],\"type\":\"heatmap\"}],\"histogram2dcontour\":[{\"colorbar\":{\"outlinewidth\":0,\"ticks\":\"\"},\"colorscale\":[[0.0,\"#0d0887\"],[0.1111111111111111,\"#46039f\"],[0.2222222222222222,\"#7201a8\"],[0.3333333333333333,\"#9c179e\"],[0.4444444444444444,\"#bd3786\"],[0.5555555555555556,\"#d8576b\"],[0.6666666666666666,\"#ed7953\"],[0.7777777777777778,\"#fb9f3a\"],[0.8888888888888888,\"#fdca26\"],[1.0,\"#f0f921\"]],\"type\":\"histogram2dcontour\"}],\"histogram2d\":[{\"colorbar\":{\"outlinewidth\":0,\"ticks\":\"\"},\"colorscale\":[[0.0,\"#0d0887\"],[0.1111111111111111,\"#46039f\"],[0.2222222222222222,\"#7201a8\"],[0.3333333333333333,\"#9c179e\"],[0.4444444444444444,\"#bd3786\"],[0.5555555555555556,\"#d8576b\"],[0.6666666666666666,\"#ed7953\"],[0.7777777777777778,\"#fb9f3a\"],[0.8888888888888888,\"#fdca26\"],[1.0,\"#f0f921\"]],\"type\":\"histogram2d\"}],\"histogram\":[{\"marker\":{\"pattern\":{\"fillmode\":\"overlay\",\"size\":10,\"solidity\":0.2}},\"type\":\"histogram\"}],\"mesh3d\":[{\"colorbar\":{\"outlinewidth\":0,\"ticks\":\"\"},\"type\":\"mesh3d\"}],\"parcoords\":[{\"line\":{\"colorbar\":{\"outlinewidth\":0,\"ticks\":\"\"}},\"type\":\"parcoords\"}],\"pie\":[{\"automargin\":true,\"type\":\"pie\"}],\"scatter3d\":[{\"line\":{\"colorbar\":{\"outlinewidth\":0,\"ticks\":\"\"}},\"marker\":{\"colorbar\":{\"outlinewidth\":0,\"ticks\":\"\"}},\"type\":\"scatter3d\"}],\"scattercarpet\":[{\"marker\":{\"colorbar\":{\"outlinewidth\":0,\"ticks\":\"\"}},\"type\":\"scattercarpet\"}],\"scattergeo\":[{\"marker\":{\"colorbar\":{\"outlinewidth\":0,\"ticks\":\"\"}},\"type\":\"scattergeo\"}],\"scattergl\":[{\"marker\":{\"colorbar\":{\"outlinewidth\":0,\"ticks\":\"\"}},\"type\":\"scattergl\"}],\"scattermapbox\":[{\"marker\":{\"colorbar\":{\"outlinewidth\":0,\"ticks\":\"\"}},\"type\":\"scattermapbox\"}],\"scatterpolargl\":[{\"marker\":{\"colorbar\":{\"outlinewidth\":0,\"ticks\":\"\"}},\"type\":\"scatterpolargl\"}],\"scatterpolar\":[{\"marker\":{\"colorbar\":{\"outlinewidth\":0,\"ticks\":\"\"}},\"type\":\"scatterpolar\"}],\"scatter\":[{\"fillpattern\":{\"fillmode\":\"overlay\",\"size\":10,\"solidity\":0.2},\"type\":\"scatter\"}],\"scatterternary\":[{\"marker\":{\"colorbar\":{\"outlinewidth\":0,\"ticks\":\"\"}},\"type\":\"scatterternary\"}],\"surface\":[{\"colorbar\":{\"outlinewidth\":0,\"ticks\":\"\"},\"colorscale\":[[0.0,\"#0d0887\"],[0.1111111111111111,\"#46039f\"],[0.2222222222222222,\"#7201a8\"],[0.3333333333333333,\"#9c179e\"],[0.4444444444444444,\"#bd3786\"],[0.5555555555555556,\"#d8576b\"],[0.6666666666666666,\"#ed7953\"],[0.7777777777777778,\"#fb9f3a\"],[0.8888888888888888,\"#fdca26\"],[1.0,\"#f0f921\"]],\"type\":\"surface\"}],\"table\":[{\"cells\":{\"fill\":{\"color\":\"#EBF0F8\"},\"line\":{\"color\":\"white\"}},\"header\":{\"fill\":{\"color\":\"#C8D4E3\"},\"line\":{\"color\":\"white\"}},\"type\":\"table\"}]},\"layout\":{\"annotationdefaults\":{\"arrowcolor\":\"#2a3f5f\",\"arrowhead\":0,\"arrowwidth\":1},\"autotypenumbers\":\"strict\",\"coloraxis\":{\"colorbar\":{\"outlinewidth\":0,\"ticks\":\"\"}},\"colorscale\":{\"diverging\":[[0,\"#8e0152\"],[0.1,\"#c51b7d\"],[0.2,\"#de77ae\"],[0.3,\"#f1b6da\"],[0.4,\"#fde0ef\"],[0.5,\"#f7f7f7\"],[0.6,\"#e6f5d0\"],[0.7,\"#b8e186\"],[0.8,\"#7fbc41\"],[0.9,\"#4d9221\"],[1,\"#276419\"]],\"sequential\":[[0.0,\"#0d0887\"],[0.1111111111111111,\"#46039f\"],[0.2222222222222222,\"#7201a8\"],[0.3333333333333333,\"#9c179e\"],[0.4444444444444444,\"#bd3786\"],[0.5555555555555556,\"#d8576b\"],[0.6666666666666666,\"#ed7953\"],[0.7777777777777778,\"#fb9f3a\"],[0.8888888888888888,\"#fdca26\"],[1.0,\"#f0f921\"]],\"sequentialminus\":[[0.0,\"#0d0887\"],[0.1111111111111111,\"#46039f\"],[0.2222222222222222,\"#7201a8\"],[0.3333333333333333,\"#9c179e\"],[0.4444444444444444,\"#bd3786\"],[0.5555555555555556,\"#d8576b\"],[0.6666666666666666,\"#ed7953\"],[0.7777777777777778,\"#fb9f3a\"],[0.8888888888888888,\"#fdca26\"],[1.0,\"#f0f921\"]]},\"colorway\":[\"#636efa\",\"#EF553B\",\"#00cc96\",\"#ab63fa\",\"#FFA15A\",\"#19d3f3\",\"#FF6692\",\"#B6E880\",\"#FF97FF\",\"#FECB52\"],\"font\":{\"color\":\"#2a3f5f\"},\"geo\":{\"bgcolor\":\"white\",\"lakecolor\":\"white\",\"landcolor\":\"white\",\"showlakes\":true,\"showland\":true,\"subunitcolor\":\"#C8D4E3\"},\"hoverlabel\":{\"align\":\"left\"},\"hovermode\":\"closest\",\"mapbox\":{\"style\":\"light\"},\"paper_bgcolor\":\"white\",\"plot_bgcolor\":\"white\",\"polar\":{\"angularaxis\":{\"gridcolor\":\"#EBF0F8\",\"linecolor\":\"#EBF0F8\",\"ticks\":\"\"},\"bgcolor\":\"white\",\"radialaxis\":{\"gridcolor\":\"#EBF0F8\",\"linecolor\":\"#EBF0F8\",\"ticks\":\"\"}},\"scene\":{\"xaxis\":{\"backgroundcolor\":\"white\",\"gridcolor\":\"#DFE8F3\",\"gridwidth\":2,\"linecolor\":\"#EBF0F8\",\"showbackground\":true,\"ticks\":\"\",\"zerolinecolor\":\"#EBF0F8\"},\"yaxis\":{\"backgroundcolor\":\"white\",\"gridcolor\":\"#DFE8F3\",\"gridwidth\":2,\"linecolor\":\"#EBF0F8\",\"showbackground\":true,\"ticks\":\"\",\"zerolinecolor\":\"#EBF0F8\"},\"zaxis\":{\"backgroundcolor\":\"white\",\"gridcolor\":\"#DFE8F3\",\"gridwidth\":2,\"linecolor\":\"#EBF0F8\",\"showbackground\":true,\"ticks\":\"\",\"zerolinecolor\":\"#EBF0F8\"}},\"shapedefaults\":{\"line\":{\"color\":\"#2a3f5f\"}},\"ternary\":{\"aaxis\":{\"gridcolor\":\"#DFE8F3\",\"linecolor\":\"#A2B1C6\",\"ticks\":\"\"},\"baxis\":{\"gridcolor\":\"#DFE8F3\",\"linecolor\":\"#A2B1C6\",\"ticks\":\"\"},\"bgcolor\":\"white\",\"caxis\":{\"gridcolor\":\"#DFE8F3\",\"linecolor\":\"#A2B1C6\",\"ticks\":\"\"}},\"title\":{\"x\":0.05},\"xaxis\":{\"automargin\":true,\"gridcolor\":\"#EBF0F8\",\"linecolor\":\"#EBF0F8\",\"ticks\":\"\",\"title\":{\"standoff\":15},\"zerolinecolor\":\"#EBF0F8\",\"zerolinewidth\":2},\"yaxis\":{\"automargin\":true,\"gridcolor\":\"#EBF0F8\",\"linecolor\":\"#EBF0F8\",\"ticks\":\"\",\"title\":{\"standoff\":15},\"zerolinecolor\":\"#EBF0F8\",\"zerolinewidth\":2}}},\"xaxis\":{\"anchor\":\"y\",\"domain\":[0.0,1.0]},\"yaxis\":{\"anchor\":\"x\",\"domain\":[0.0,1.0],\"title\":{\"text\":\"Words Per Tweet\"}},\"legend\":{\"title\":{\"text\":\"label_name\"},\"tracegroupgap\":0},\"margin\":{\"t\":60},\"boxmode\":\"group\"},                        {\"responsive\": true}                    ).then(function(){\n                            \nvar gd = document.getElementById('71f3912c-cfac-4f2c-b25d-86fa7c6736a5');\nvar x = new MutationObserver(function (mutations, observer) {{\n        var display = window.getComputedStyle(gd).display;\n        if (!display || display === 'none') {{\n            console.log([gd, 'removed!']);\n            Plotly.purge(gd);\n            observer.disconnect();\n        }}\n}});\n\n// Listen for the removal of the full notebook cells\nvar notebookContainer = gd.closest('#notebook-container');\nif (notebookContainer) {{\n    x.observe(notebookContainer, {childList: true});\n}}\n\n// Listen for the clearing of the current output cell\nvar outputEl = gd.closest('.output');\nif (outputEl) {{\n    x.observe(outputEl, {childList: true});\n}}\n\n                        })                };                });            </script>        </div>"
          },
          "metadata": {}
        }
      ]
    },
    {
      "cell_type": "markdown",
      "source": [
        "# <div style=\"padding: 30px;color:white;margin:10;font-size:60%;text-align:left;display:fill;border-radius:10px;overflow:hidden;background-color:#3b3745\"><b><span style='color:#F1A424'>4 |</span></b> <b>TOKENISATION</b></div>\n",
        "\n",
        "- As with other models, **<mark style=\"background-color:#FFC300;color:white;border-radius:5px;opacity:0.7\">DistilBERT</mark>** cannot receive raw python strings as input\n",
        "- Instead we need to break down the strings into subgroups called **tokens** and encode them as **numerical vectors**\n",
        "- Let's consider two types of **tokenisation** approaches: **<span style='color:#FFC300'>character</span>** & **<span style='color:#FFC300'>word</span>** tokenisation"
      ],
      "metadata": {
        "id": "4ZmnIQuA-Gb-"
      }
    },
    {
      "cell_type": "markdown",
      "source": [
        "### <b><span style='color:#F1A424'> 4.1 | </span>Character tokenisation </b>\n",
        "\n",
        "The simplest tokenisation approach is **<mark style=\"background-color:#FFC300;color:white;border-radius:5px;opacity:0.7\">character tokenisation</mark>**, we can use python's inbuilt **<mark style=\"background-color:#FFC300;color:white;border-radius:5px;opacity:0.7\">list</mark>** class"
      ],
      "metadata": {
        "id": "C3Om97hB-Gb-"
      }
    },
    {
      "cell_type": "code",
      "source": [
        "text = 'Tokenisation of text is a core task of NLP.'\n",
        "tokenised_text = list(text)\n",
        "\n",
        "# Character Tokenised list\n",
        "print(f'Number of tokens: {len(tokenised_text)}')\n",
        "print(tokenised_text)"
      ],
      "metadata": {
        "execution": {
          "iopub.status.busy": "2024-01-10T15:46:29.530908Z",
          "iopub.execute_input": "2024-01-10T15:46:29.531406Z",
          "iopub.status.idle": "2024-01-10T15:46:29.539767Z",
          "shell.execute_reply.started": "2024-01-10T15:46:29.531361Z",
          "shell.execute_reply": "2024-01-10T15:46:29.538033Z"
        },
        "trusted": true,
        "id": "9xLWbH8n-Gb_",
        "outputId": "2e47f16a-f6b2-40ae-ba78-ac72b7b787cc"
      },
      "execution_count": null,
      "outputs": [
        {
          "name": "stdout",
          "text": "Number of tokens: 43\n['T', 'o', 'k', 'e', 'n', 'i', 's', 'a', 't', 'i', 'o', 'n', ' ', 'o', 'f', ' ', 't', 'e', 'x', 't', ' ', 'i', 's', ' ', 'a', ' ', 'c', 'o', 'r', 'e', ' ', 't', 'a', 's', 'k', ' ', 'o', 'f', ' ', 'N', 'L', 'P', '.']\n",
          "output_type": "stream"
        }
      ]
    },
    {
      "cell_type": "markdown",
      "source": [
        "- Convert each character into an integer (numericalisation)\n",
        "- `token2idx` gives us a mapping from each character in the **vocabulary** to a unique integer"
      ],
      "metadata": {
        "id": "TqRpjD8K-Gb_"
      }
    },
    {
      "cell_type": "code",
      "source": [
        "# Mapping Vecabulary dictionary\n",
        "token2idx = {ch: idx for idx, ch in enumerate(sorted(set(tokenised_text)))}\n",
        "\n",
        "print(f'Length of vocabulary: {len(token2idx)}')\n",
        "print(token2idx)"
      ],
      "metadata": {
        "execution": {
          "iopub.status.busy": "2024-01-10T15:46:32.106360Z",
          "iopub.execute_input": "2024-01-10T15:46:32.106858Z",
          "iopub.status.idle": "2024-01-10T15:46:32.115978Z",
          "shell.execute_reply.started": "2024-01-10T15:46:32.106821Z",
          "shell.execute_reply": "2024-01-10T15:46:32.114223Z"
        },
        "trusted": true,
        "id": "tGXjC-K--Gb_",
        "outputId": "0d867866-621c-42b3-fb46-d333bfa676c8"
      },
      "execution_count": null,
      "outputs": [
        {
          "name": "stdout",
          "text": "Length of vocabulary: 18\n{' ': 0, '.': 1, 'L': 2, 'N': 3, 'P': 4, 'T': 5, 'a': 6, 'c': 7, 'e': 8, 'f': 9, 'i': 10, 'k': 11, 'n': 12, 'o': 13, 'r': 14, 's': 15, 't': 16, 'x': 17}\n",
          "output_type": "stream"
        }
      ]
    },
    {
      "cell_type": "markdown",
      "source": [
        "### <b><span style='color:#F1A424'>Reconstructing text</span></b>\n",
        "- Once we have a vocabulary dictionary, we can reconstruct the"
      ],
      "metadata": {
        "id": "ip3KftTJ-GcA"
      }
    },
    {
      "cell_type": "code",
      "source": [
        "# Let's represent text in numerical format\n",
        "input_ids = [token2idx[token] for token in tokenised_text]\n",
        "\n",
        "print(f'{len(input_ids)} characters')\n",
        "print(input_ids)"
      ],
      "metadata": {
        "execution": {
          "iopub.status.busy": "2024-01-10T15:46:34.352837Z",
          "iopub.execute_input": "2024-01-10T15:46:34.353255Z",
          "iopub.status.idle": "2024-01-10T15:46:34.360994Z",
          "shell.execute_reply.started": "2024-01-10T15:46:34.353221Z",
          "shell.execute_reply": "2024-01-10T15:46:34.359336Z"
        },
        "trusted": true,
        "id": "4JITFexw-GcC",
        "outputId": "ff541bf4-86c7-4682-ca80-58481201c253"
      },
      "execution_count": null,
      "outputs": [
        {
          "name": "stdout",
          "text": "43 characters\n[5, 13, 11, 8, 12, 10, 15, 6, 16, 10, 13, 12, 0, 13, 9, 0, 16, 8, 17, 16, 0, 10, 15, 0, 6, 0, 7, 13, 14, 8, 0, 16, 6, 15, 11, 0, 13, 9, 0, 3, 2, 4, 1]\n",
          "output_type": "stream"
        }
      ]
    },
    {
      "cell_type": "markdown",
      "source": [
        "### <b><span style='color:#F1A424'>Convert to OHE</span></b>\n",
        "\n",
        "- Last step is to convert `input_ids` to a 2D tensor of one-hot vectors, let's use pytorch below\n",
        "- One-Hot vectors are frequently used in ML applications to encode **categorical data** (either ordinal or nominal)\n",
        "- For each of the 42 input token, we now have a one-hot vector with 18 dimensions (vocab size)"
      ],
      "metadata": {
        "id": "XvqCvm0Y-GcC"
      }
    },
    {
      "cell_type": "code",
      "source": [
        "import torch\n",
        "import torch.nn.functional as F\n",
        "\n",
        "inputs_ids = torch.tensor(input_ids)\n",
        "one_hot_encodings = F.one_hot(inputs_ids,num_classes = len(token2idx))\n",
        "print(f'OHE size: {one_hot_encodings.shape}')"
      ],
      "metadata": {
        "execution": {
          "iopub.status.busy": "2024-01-10T15:46:39.097051Z",
          "iopub.execute_input": "2024-01-10T15:46:39.097500Z",
          "iopub.status.idle": "2024-01-10T15:46:41.040518Z",
          "shell.execute_reply.started": "2024-01-10T15:46:39.097468Z",
          "shell.execute_reply": "2024-01-10T15:46:41.039162Z"
        },
        "trusted": true,
        "id": "lhUDWtar-GcC",
        "outputId": "0e5aeaac-17e1-42fc-dad5-0f97c40a0903"
      },
      "execution_count": null,
      "outputs": [
        {
          "name": "stdout",
          "text": "OHE size: torch.Size([43, 18])\n",
          "output_type": "stream"
        }
      ]
    },
    {
      "cell_type": "markdown",
      "source": [
        "### <b><span style='color:#F1A424'>Drawbacks of Character Tokenisation</span></b>\n",
        "\n",
        "- Character level tokenisation ignores any structure in the text & treats the whole string as a stream of characters\n",
        "- This helps deal with missspellings and rear words, but the main drawback is that linguistic structures need to be learned from the data\n",
        "- **<mark style=\"background-color:#FFC300;color:white;border-radius:5px;opacity:0.7\">Character tokenisation</mark>** is rarely used in practice, instead **some structure of the text is preserved** if we utilise **<mark style=\"background-color:#FFC300;color:white;border-radius:5px;opacity:0.7\">Word Tokenisation</mark>**"
      ],
      "metadata": {
        "id": "9RuB5IrD-GcD"
      }
    },
    {
      "cell_type": "markdown",
      "source": [
        "### <b><span style='color:#F1A424'> 4.2 | </span>Word tokenisation </b>\n",
        "\n",
        "- Instead of splitting the text into characters, we can split **it into words** & **map each word to an integer**\n",
        "- The simplest form of tokenisation is if we utilise python's inbuilt **string** class `split` method\n",
        "- Unlike **<mark style=\"background-color:#FFC300;color:white;border-radius:5px;opacity:0.7\">Character tokenisation</mark>**, if we have declinations, conjugations, misspellings, the size of the **vocabulary dictionary** can grow very rapidly\n",
        "- Larger **vocabularies** are a problem, because it requires the model to have an excess of parameters (which is inefficient)\n",
        "\n",
        "\n",
        "- It's common to select the **<span style='color:#FFC300'>most common 100,000 words</span>** in the **corpus**\n",
        "- words that are not part of the vocabulary are classified as unknown and mapped to a shared **<mark style=\"background-color:#FFC300;color:white;border-radius:5px;opacity:0.7\">UNK</mark>** token\n",
        "- However, can potentially lose some important information during the process of tokenisation, since the model has no information about words associated with **<mark style=\"background-color:#FFC300;color:white;border-radius:5px;opacity:0.7\">UNK</mark>**"
      ],
      "metadata": {
        "id": "A-y7Vyue-GcD"
      }
    },
    {
      "cell_type": "code",
      "source": [
        "tokenised_text = text.split()\n",
        "print(tokenised_text)"
      ],
      "metadata": {
        "execution": {
          "iopub.status.busy": "2022-12-08T10:22:19.048502Z",
          "iopub.execute_input": "2022-12-08T10:22:19.049495Z",
          "iopub.status.idle": "2022-12-08T10:22:19.055127Z",
          "shell.execute_reply.started": "2022-12-08T10:22:19.049456Z",
          "shell.execute_reply": "2022-12-08T10:22:19.054067Z"
        },
        "trusted": true,
        "id": "FFAJcWEe-GcD"
      },
      "execution_count": null,
      "outputs": []
    },
    {
      "cell_type": "markdown",
      "source": [
        "### <b><span style='color:#F1A424'> 4.3 | </span>Subword tokenisation </b>\n",
        "\n",
        "- **<mark style=\"background-color:#FFC300;color:white;border-radius:5px;opacity:0.7\">Subword tokenization</mark>** is to combine the best aspects of **<span style='color:#FFC300'>character</span>** & **<span style='color:#FFC300'>word</span>** tokenisation\n",
        "- The main distinguishing feature of **<mark style=\"background-color:#FFC300;color:white;border-radius:5px;opacity:0.7\">Subword tokenization</mark>** is that it is learned from a **pretraining corpus** using a mix of statistical rules and algorithms\n",
        "\n",
        "\n",
        "- There are several **<mark style=\"background-color:#FFC300;color:white;border-radius:5px;opacity:0.7\">Subword tokenization</mark>** algorithms that are commonly used in NLP\n",
        "    - let’s start with `WordPiece`, which is used by the `BERT` and `DistilBERT` tokenizers\n",
        "    \n",
        "\n",
        "- `AutoTokenizer` class allows us to quickly load te tokeniser associated with a pretrained model\n",
        "- Or we can load the Tokeniser manually from `transformers.DistilBertTokenizer`\n",
        "\n"
      ],
      "metadata": {
        "id": "BEdtW6V6-GcD"
      }
    },
    {
      "cell_type": "code",
      "source": [
        "from transformers import AutoTokenizer\n",
        "\n",
        "text = 'Tokenisation of text is a core task of NLP.'\n",
        "\n",
        "# Load parameters of the tokeniser\n",
        "model_ckpt = \"distilbert-base-uncased\"\n",
        "tokenizer = AutoTokenizer.from_pretrained(model_ckpt)\n",
        "\n",
        "# Show tokeniser information\n",
        "tokenizer\n",
        "\n",
        "# Or we can load the Tokeniser manually `transformers.DistilBertTokenizer`\n",
        "\n",
        "# from transformers import DistilBertTokenizer\n",
        "\n",
        "# model_ckpt = \"distilbert-base-uncased\"\n",
        "# distilbert_tokenizer = DistilBertTokenizer.from_pretrained(model_ckpt)\n",
        "# distilbert_tokenizer"
      ],
      "metadata": {
        "execution": {
          "iopub.status.busy": "2022-12-08T10:22:19.056725Z",
          "iopub.execute_input": "2022-12-08T10:22:19.057642Z",
          "iopub.status.idle": "2022-12-08T10:22:34.711552Z",
          "shell.execute_reply.started": "2022-12-08T10:22:19.057587Z",
          "shell.execute_reply": "2022-12-08T10:22:34.710509Z"
        },
        "trusted": true,
        "id": "rPOdwjlW-GcE"
      },
      "execution_count": null,
      "outputs": []
    },
    {
      "cell_type": "code",
      "source": [
        "print('')\n",
        "print(f'Vocab size: {tokenizer.vocab_size}')\n",
        "print(f'Max length: {tokenizer.model_max_length}')\n",
        "print(f'Tokeniser model input names: {tokenizer.model_input_names}')"
      ],
      "metadata": {
        "execution": {
          "iopub.status.busy": "2022-12-08T10:22:34.713058Z",
          "iopub.execute_input": "2022-12-08T10:22:34.713405Z",
          "iopub.status.idle": "2022-12-08T10:22:34.720253Z",
          "shell.execute_reply.started": "2022-12-08T10:22:34.713368Z",
          "shell.execute_reply": "2022-12-08T10:22:34.719269Z"
        },
        "trusted": true,
        "id": "fixWWFCq-GcE"
      },
      "execution_count": null,
      "outputs": []
    },
    {
      "cell_type": "code",
      "source": [
        "print('Encoded text')\n",
        "encoded_text = tokenizer(text)\n",
        "print(encoded_text,'\\n')\n",
        "\n",
        "print('Tokens')\n",
        "tokens = tokenizer.convert_ids_to_tokens(encoded_text.input_ids)\n",
        "print(tokens,'\\n')\n",
        "\n",
        "print('Convert tokens to string')\n",
        "print(tokenizer.convert_tokens_to_string(tokens),'\\n')"
      ],
      "metadata": {
        "execution": {
          "iopub.status.busy": "2022-12-08T10:22:34.721795Z",
          "iopub.execute_input": "2022-12-08T10:22:34.722771Z",
          "iopub.status.idle": "2022-12-08T10:22:34.736364Z",
          "shell.execute_reply.started": "2022-12-08T10:22:34.722735Z",
          "shell.execute_reply": "2022-12-08T10:22:34.735234Z"
        },
        "trusted": true,
        "id": "xLEb9ZBI-GcF"
      },
      "execution_count": null,
      "outputs": []
    },
    {
      "cell_type": "code",
      "source": [
        "emotions.reset_format()"
      ],
      "metadata": {
        "execution": {
          "iopub.status.busy": "2022-12-08T10:22:34.737582Z",
          "iopub.execute_input": "2022-12-08T10:22:34.738047Z",
          "iopub.status.idle": "2022-12-08T10:22:34.743575Z",
          "shell.execute_reply.started": "2022-12-08T10:22:34.738013Z",
          "shell.execute_reply": "2022-12-08T10:22:34.742657Z"
        },
        "trusted": true,
        "id": "QsycVI6D-GcF"
      },
      "execution_count": null,
      "outputs": []
    },
    {
      "cell_type": "markdown",
      "source": [
        "### <b><span style='color:#F1A424'> 4.4 | </span>Tokenising the entire dataset </b>\n",
        "\n",
        "- When dealing with **text of different size**, the tokeniser will **<span style='color:#FFC300'>pad</span>** sentences of insufficient length if **padding** is selected\n",
        "- The **maximum length** of the tokenised data will be the **length of the longest tweet** (in example, 2nd row)\n",
        "- **<mark style=\"background-color:#FFC300;color:white;border-radius:5px;opacity:0.7\">Attention mask</mark>** helps the model understand which parts of the sentence to ignore"
      ],
      "metadata": {
        "id": "MWATqaS--GcF"
      }
    },
    {
      "cell_type": "code",
      "source": [
        "# Tokenisation function\n",
        "def tokenise(batch):\n",
        "    return tokenizer(batch[\"text\"], padding=True, truncation=True)\n",
        "\n",
        "# Show the tokenised ids\n",
        "ex_tokenised = tokenise(emotions[\"train\"][:2])"
      ],
      "metadata": {
        "execution": {
          "iopub.status.busy": "2022-12-08T10:22:34.745304Z",
          "iopub.execute_input": "2022-12-08T10:22:34.746176Z",
          "iopub.status.idle": "2022-12-08T10:22:34.752625Z",
          "shell.execute_reply.started": "2022-12-08T10:22:34.74614Z",
          "shell.execute_reply": "2022-12-08T10:22:34.751675Z"
        },
        "trusted": true,
        "id": "66Chwq0l-GcF"
      },
      "execution_count": null,
      "outputs": []
    },
    {
      "cell_type": "code",
      "source": [
        "# Show attention mask\n",
        "ex_tokenised['attention_mask']"
      ],
      "metadata": {
        "execution": {
          "iopub.status.busy": "2022-12-08T10:22:34.754148Z",
          "iopub.execute_input": "2022-12-08T10:22:34.754846Z",
          "iopub.status.idle": "2022-12-08T10:22:34.762483Z",
          "shell.execute_reply.started": "2022-12-08T10:22:34.754811Z",
          "shell.execute_reply": "2022-12-08T10:22:34.761559Z"
        },
        "trusted": true,
        "id": "l8uE8G0l-GcF"
      },
      "execution_count": null,
      "outputs": []
    },
    {
      "cell_type": "code",
      "source": [
        "# apply to the entire dataset (train,test and validation dataset)\n",
        "emotions_encoded = emotions.map(tokenise, batched=True, batch_size=None)\n",
        "print(emotions_encoded[\"train\"].column_names)"
      ],
      "metadata": {
        "execution": {
          "iopub.status.busy": "2022-12-08T10:22:34.763772Z",
          "iopub.execute_input": "2022-12-08T10:22:34.764332Z",
          "iopub.status.idle": "2022-12-08T10:22:37.346879Z",
          "shell.execute_reply.started": "2022-12-08T10:22:34.764293Z",
          "shell.execute_reply": "2022-12-08T10:22:37.345969Z"
        },
        "trusted": true,
        "id": "3D4C_lGl-GcG"
      },
      "execution_count": null,
      "outputs": []
    },
    {
      "cell_type": "markdown",
      "source": [
        "# <div style=\"padding: 30px;color:white;margin:10;font-size:60%;text-align:left;display:fill;border-radius:10px;overflow:hidden;background-color:#3b3745\"><b><span style='color:#F1A424'>5 |</span></b> <b>TRAINING A TEXT CLASSIFIER</b></div>\n",
        "\n",
        "- **<mark style=\"background-color:#FFC300;color:white;border-radius:5px;opacity:0.7\">DistilBERT</mark>** are pretrained to **predict masked words in a sentence of text**\n",
        "- We **can't use these language models directly** for text classification, need some slight modification\n",
        "\n",
        "\n",
        "- First the text is tokenised, represented using one-hot vectors called **token encodings**\n",
        "- The size of the tokeniser vocabulary determines the dimension of the next encoding (usually 20-200k)\n",
        "- Next these token encodings are converted to token embeddings (vectors living in a lower dimensional space)\n",
        "- The token embeddings are then passed through the encoder block layers to yield a hidden state for each input token\n",
        "- For the pretrained objective of language modeling, each hidden state is fed to a layer that predicts the masked input tokens\n",
        "- For the the **<span style='color:#FFC300'>classification task</span>**, we replace the **<span style='color:#FFC300'>language modeling layer</span>** with a **<span style='color:#FFC300'>classification layer</span>**\n",
        "\n",
        "We have **<span style='color:#FFC300'>two options</span>** to train such a model on our dataset:\n",
        "- **<mark style=\"background-color:#FFC300;color:white;border-radius:5px;opacity:0.7\">Feature Extraction</mark>** : We use the hidden states as features, and just train the classifier on them, without modifying the pretrained model\n",
        "- **<mark style=\"background-color:#FFC300;color:white;border-radius:5px;opacity:0.7\">Fine Tuning</mark>** : We train the whole model, end-to-end, which subsequently also updates the parameters of the pretrained model\n"
      ],
      "metadata": {
        "id": "UC0Xh72w-GcR"
      }
    },
    {
      "cell_type": "markdown",
      "source": [
        "### <b><span style='color:#F1A424'> 5.1 | </span>Transformers as feature extractors </b>\n",
        "\n",
        "### **<span style='color:#F1A424'>Using Pretrained Models</span>**\n",
        "\n",
        "- We will use another auto class `AutoModel`, similar to `AutoTokenizer`\n",
        "- `AutoModel` has method `from_pretrained` method to load weights of a pretrained model\n",
        "- `AutoModel` class converts the token encodings to embeddings & feeds them through the encoder stack to return the **hidden states**"
      ],
      "metadata": {
        "id": "yCBS6blC-GcS"
      }
    },
    {
      "cell_type": "code",
      "source": [
        "import warnings; warnings.filterwarnings('ignore')\n",
        "from transformers import AutoModel\n",
        "import torch\n",
        "\n",
        "model_ckpt = \"distilbert-base-uncased\"\n",
        "device = torch.device(\"cuda\" if torch.cuda.is_available() else \"cpu\")\n",
        "model = AutoModel.from_pretrained(model_ckpt).to(device)"
      ],
      "metadata": {
        "execution": {
          "iopub.status.busy": "2022-12-08T10:22:37.348191Z",
          "iopub.execute_input": "2022-12-08T10:22:37.352588Z",
          "iopub.status.idle": "2022-12-08T10:23:12.630645Z",
          "shell.execute_reply.started": "2022-12-08T10:22:37.35255Z",
          "shell.execute_reply": "2022-12-08T10:23:12.629591Z"
        },
        "trusted": true,
        "id": "Sn9wIckz-GcS"
      },
      "execution_count": null,
      "outputs": []
    },
    {
      "cell_type": "markdown",
      "source": [
        "### **<span style='color:#F1A424'>Extracting the last hidden state (example)</span>**\n",
        "Let's extract the last **<mark style=\"background-color:#FFC300;color:white;border-radius:5px;opacity:0.7\">hidden state</mark>** for a single string\n",
        "- First things first, let's encode the string and convert the tokens to Pytorch tensors\n",
        "- Resulting tensor has shape **[batch_size,n_tokens]**\n",
        "- Having encodings as tensors, the final step is to place them on the same device as the model & pass the inputs as follows"
      ],
      "metadata": {
        "id": "gaWsNLfl-GcT"
      }
    },
    {
      "cell_type": "code",
      "source": [
        "text = \"this is a test\"\n",
        "inputs = tokenizer(text, return_tensors=\"pt\")\n",
        "print(f\"Input tensor shape: {inputs['input_ids'].size()}\")"
      ],
      "metadata": {
        "execution": {
          "iopub.status.busy": "2022-12-08T10:23:12.632534Z",
          "iopub.execute_input": "2022-12-08T10:23:12.632868Z",
          "iopub.status.idle": "2022-12-08T10:23:12.639303Z",
          "shell.execute_reply.started": "2022-12-08T10:23:12.632838Z",
          "shell.execute_reply": "2022-12-08T10:23:12.638337Z"
        },
        "trusted": true,
        "id": "yvWvpey5-GcT"
      },
      "execution_count": null,
      "outputs": []
    },
    {
      "cell_type": "markdown",
      "source": [
        "- Depending on the model configuration, the model can contain several objects (**<mark style=\"background-color:#FFC300;color:white;border-radius:5px;opacity:0.7\">Hidden states</mark>**, **losses**, **attentions**, ...)\n",
        "- The current model (`distilbert-base-uncased`) returns only one attribute, which is the `last_hidden_state`"
      ],
      "metadata": {
        "id": "wvhRTQ4l-GcT"
      }
    },
    {
      "cell_type": "code",
      "source": [
        "inputs = {k:v.to(device) for k,v in inputs.items()}\n",
        "\n",
        "with torch.no_grad():\n",
        "    outputs = model(**inputs)\n",
        "print(outputs)"
      ],
      "metadata": {
        "execution": {
          "iopub.status.busy": "2022-12-08T10:23:12.64078Z",
          "iopub.execute_input": "2022-12-08T10:23:12.641371Z",
          "iopub.status.idle": "2022-12-08T10:23:14.489982Z",
          "shell.execute_reply.started": "2022-12-08T10:23:12.641332Z",
          "shell.execute_reply": "2022-12-08T10:23:14.488953Z"
        },
        "trusted": true,
        "id": "27iaIdDd-GcT"
      },
      "execution_count": null,
      "outputs": []
    },
    {
      "cell_type": "markdown",
      "source": [
        "- The hidden state tensor (`last_hidden_state`) has the size: **[batch_size,n_tokens,hidden_dim]**\n",
        "- ie. 768 dimensional vector is returned for each of the 6 input tokens\n",
        "\n",
        "\n",
        "- For **<mark style=\"background-color:#FFC300;color:white;border-radius:5px;opacity:0.7\">classification tasks</mark>**\n",
        "    - it is common practice to just use the **hidden state associated with the [CLS] token** as the input feature"
      ],
      "metadata": {
        "id": "1H5tVB-s-GcT"
      }
    },
    {
      "cell_type": "code",
      "source": [
        "print(outputs.last_hidden_state.size())\n",
        "print(outputs.last_hidden_state[:,0].size())"
      ],
      "metadata": {
        "execution": {
          "iopub.status.busy": "2022-12-08T10:23:14.49277Z",
          "iopub.execute_input": "2022-12-08T10:23:14.49309Z",
          "iopub.status.idle": "2022-12-08T10:23:14.498249Z",
          "shell.execute_reply.started": "2022-12-08T10:23:14.493062Z",
          "shell.execute_reply": "2022-12-08T10:23:14.49716Z"
        },
        "trusted": true,
        "id": "WGZS_H5J-GcU"
      },
      "execution_count": null,
      "outputs": []
    },
    {
      "cell_type": "markdown",
      "source": [
        "### **<span style='color:#F1A424'>Extracting the last hidden state for the Dataset</span>**\n",
        "\n",
        "- We know how to get the last hidden state for a single string, let's repeat the process for the entire dataset using `extract_hidden_states`"
      ],
      "metadata": {
        "id": "lRbB0r-I-GcU"
      }
    },
    {
      "cell_type": "code",
      "source": [
        "def extract_hidden_states(batch):\n",
        "\n",
        "    # Place model inputs on the GPU\n",
        "    inputs = {k:v.to(device) for k,v in batch.items()\n",
        "              if k in tokenizer.model_input_names}\n",
        "\n",
        "    # Extract last hidden states\n",
        "    with torch.no_grad():\n",
        "        last_hidden_state = model(**inputs).last_hidden_state\n",
        "\n",
        "    # Return vector for [CLS] token\n",
        "    return {\"hidden_state\": last_hidden_state[:,0].cpu().numpy()}"
      ],
      "metadata": {
        "execution": {
          "iopub.status.busy": "2022-12-08T10:23:14.499875Z",
          "iopub.execute_input": "2022-12-08T10:23:14.500324Z",
          "iopub.status.idle": "2022-12-08T10:23:14.507332Z",
          "shell.execute_reply.started": "2022-12-08T10:23:14.500287Z",
          "shell.execute_reply": "2022-12-08T10:23:14.506194Z"
        },
        "trusted": true,
        "id": "96ONu8ML-GcU"
      },
      "execution_count": null,
      "outputs": []
    },
    {
      "cell_type": "code",
      "source": [
        "emotions_encoded.set_format(\"torch\",\n",
        "                            columns=[\"input_ids\", \"attention_mask\", \"label\"])\n",
        "emotions_encoded"
      ],
      "metadata": {
        "execution": {
          "iopub.status.busy": "2022-12-08T10:23:14.508964Z",
          "iopub.execute_input": "2022-12-08T10:23:14.509587Z",
          "iopub.status.idle": "2022-12-08T10:23:14.521617Z",
          "shell.execute_reply.started": "2022-12-08T10:23:14.509551Z",
          "shell.execute_reply": "2022-12-08T10:23:14.520365Z"
        },
        "trusted": true,
        "id": "89YCL1x7-GcU"
      },
      "execution_count": null,
      "outputs": []
    },
    {
      "cell_type": "code",
      "source": [
        "# Extract last hidden states (faster w/ GPU)\n",
        "emotions_hidden = emotions_encoded.map(extract_hidden_states, batched=True)\n",
        "emotions_hidden[\"train\"].column_names"
      ],
      "metadata": {
        "execution": {
          "iopub.status.busy": "2022-12-08T10:23:14.526917Z",
          "iopub.execute_input": "2022-12-08T10:23:14.527178Z",
          "iopub.status.idle": "2022-12-08T10:23:38.169037Z",
          "shell.execute_reply.started": "2022-12-08T10:23:14.527149Z",
          "shell.execute_reply": "2022-12-08T10:23:38.168173Z"
        },
        "trusted": true,
        "id": "IM1-7C7P-GcU"
      },
      "execution_count": null,
      "outputs": []
    },
    {
      "cell_type": "markdown",
      "source": [
        "### **<span style='color:#F1A424'>Creating the Feature Matrix</span>**\n",
        "\n",
        "- We have **<mark style=\"background-color:#FFC300;color:white;border-radius:5px;opacity:0.7\">hidden states</mark>** assciated with each tweet, now let's train the classifier\n",
        "- To do that we need the feature matrix so we can utilise as input into the machine learning model"
      ],
      "metadata": {
        "id": "lfMi7UbS-GcV"
      }
    },
    {
      "cell_type": "code",
      "source": [
        "X_train = np.array(emotions_hidden[\"train\"][\"hidden_state\"])\n",
        "X_valid = np.array(emotions_hidden[\"validation\"][\"hidden_state\"])\n",
        "y_train = np.array(emotions_hidden[\"train\"][\"label\"])\n",
        "y_valid = np.array(emotions_hidden[\"validation\"][\"label\"])\n",
        "print(f'Training Dataset: {X_train.shape}')\n",
        "print(f'Validation Dataset {X_valid.shape}')"
      ],
      "metadata": {
        "execution": {
          "iopub.status.busy": "2022-12-08T10:23:38.172672Z",
          "iopub.execute_input": "2022-12-08T10:23:38.175019Z",
          "iopub.status.idle": "2022-12-08T10:23:38.376692Z",
          "shell.execute_reply.started": "2022-12-08T10:23:38.174982Z",
          "shell.execute_reply": "2022-12-08T10:23:38.375637Z"
        },
        "trusted": true,
        "id": "Y5gjg_8H-GcV"
      },
      "execution_count": null,
      "outputs": []
    },
    {
      "cell_type": "code",
      "source": [
        "# Let's check our dataset\n",
        "X_train"
      ],
      "metadata": {
        "execution": {
          "iopub.status.busy": "2022-12-08T10:32:07.254199Z",
          "iopub.execute_input": "2022-12-08T10:32:07.254614Z",
          "iopub.status.idle": "2022-12-08T10:32:07.264427Z",
          "shell.execute_reply.started": "2022-12-08T10:32:07.254564Z",
          "shell.execute_reply": "2022-12-08T10:32:07.263214Z"
        },
        "trusted": true,
        "id": "LThWMocr-GcV"
      },
      "execution_count": null,
      "outputs": []
    },
    {
      "cell_type": "markdown",
      "source": [
        "### **<span style='color:#F1A424'>Visualising the Training Data</span>**\n",
        "\n",
        "- We can visualise each class distribution the model will need to separate in **<span style='color:#FFC300'>lower dimension space</span>** (projections onto a lower-dimensional space)\n",
        "- We have a lot of **categories overlapping** in lower dimensional space (doesn't mean the model won't be able to classify them in **<span style='color:#FFC300'>higher dimensional space</span>**)\n",
        "- If they are separable in the projected space, they will probably be separable in **<span style='color:#FFC300'>higher dimensional space</span>**\n",
        "- We'll utilise a **<mark style=\"background-color:#FFC300;color:white;border-radius:5px;opacity:0.7\">manifold learning</mark>** unsupervised model **<mark style=\"background-color:#FFC300;color:white;border-radius:5px;opacity:0.7\">TSNE</mark>** (It will take a while)"
      ],
      "metadata": {
        "id": "59mgRtIf-GcW"
      }
    },
    {
      "cell_type": "code",
      "source": [
        "import warnings; warnings.filterwarnings('ignore')\n",
        "from sklearn.preprocessing import MinMaxScaler\n",
        "from sklearn.manifold import TSNE\n",
        "\n",
        "# Scale the data\n",
        "X_scaled = MinMaxScaler().fit_transform(X_train)\n",
        "\n",
        "# lower dimension transformation\n",
        "model = TSNE(n_components=2).fit(X_scaled)\n",
        "\n",
        "# Create a df of 2D embeddings\n",
        "df_embedding = pd.DataFrame(model.embedding_, columns=[\"X\", \"Y\"])\n",
        "df_embedding[\"label\"] = y_train"
      ],
      "metadata": {
        "execution": {
          "iopub.status.busy": "2022-12-08T10:38:49.895088Z",
          "iopub.execute_input": "2022-12-08T10:38:49.895447Z",
          "iopub.status.idle": "2022-12-08T10:41:38.138823Z",
          "shell.execute_reply.started": "2022-12-08T10:38:49.895413Z",
          "shell.execute_reply": "2022-12-08T10:41:38.137815Z"
        },
        "trusted": true,
        "id": "T42rolmO-GcW"
      },
      "execution_count": null,
      "outputs": []
    },
    {
      "cell_type": "code",
      "source": [
        "import matplotlib.pyplot as plt\n",
        "import seaborn as sns; sns.set(style='whitegrid')\n",
        "\n",
        "fig, axes = plt.subplots(2, 3, figsize=(15,10))\n",
        "axes = axes.flatten()\n",
        "labels = emotions[\"train\"].features[\"label\"].names\n",
        "\n",
        "for i, label in enumerate(labels):\n",
        "\n",
        "    dict_embedding_sub = dict(tuple(df_embedding.groupby('label')))\n",
        "    df_embedding_sub = dict_embedding_sub[i]\n",
        "\n",
        "    axes[i].scatter(df_embedding_sub[\"X\"],\n",
        "                    df_embedding_sub[\"Y\"],\n",
        "                    lw=1,ec='k',alpha=0.2)\n",
        "\n",
        "    axes[i].set_title(f'{label}')\n",
        "\n",
        "plt.tight_layout()\n",
        "plt.show()"
      ],
      "metadata": {
        "_kg_hide-input": true,
        "execution": {
          "iopub.status.busy": "2022-12-08T12:37:11.993692Z",
          "iopub.execute_input": "2022-12-08T12:37:11.994054Z",
          "iopub.status.idle": "2022-12-08T12:37:13.132302Z",
          "shell.execute_reply.started": "2022-12-08T12:37:11.99402Z",
          "shell.execute_reply": "2022-12-08T12:37:13.131508Z"
        },
        "trusted": true,
        "id": "5BWPdNEg-GcW"
      },
      "execution_count": null,
      "outputs": []
    },
    {
      "cell_type": "markdown",
      "source": [
        "From this plot we can see some clear patterns:\n",
        "- For **<mark style=\"background-color:#FFC300;color:white;border-radius:5px;opacity:0.7\">positive emotions</mark>** (**<span style='color:#FFC300'>joy</span>** and **<span style='color:#FFC300'>love</span>**) are well separated from the **<span style='color:#FFC300'>negative emotions</span>** and also share a similar space\n",
        "- **<mark style=\"background-color:#FFC300;color:white;border-radius:5px;opacity:0.7\">Negative emotions</mark>** (**<span style='color:#FFC300'>sadness</span>**, **<span style='color:#FFC300'>anger</span>**, and **<span style='color:#FFC300'>fear</span>**) all occupy very similar regions with slightly varying distributions in **<span style='color:#FFC300'>lower dimension space</span>**\n",
        "- Finally, **<span style='color:#FFC300'>surprise</span>** is somewhat scattered all over the **<span style='color:#FFC300'>lower dimension space</span>**"
      ],
      "metadata": {
        "id": "sFXNy9Vy-GcX"
      }
    },
    {
      "cell_type": "markdown",
      "source": [
        "### **<span style='color:#F1A424'>Training a Baseline Model</span>**\n",
        "\n",
        "- Let's use these **<mark style=\"background-color:#FFC300;color:white;border-radius:5px;opacity:0.7\">hidden states</mark>** to train a **<mark style=\"background-color:#FFC300;color:white;border-radius:5px;opacity:0.7\">logistic regression</mark>** model\n",
        "- We're dealing with an unbalanced multiclass dataset, so our model may seem just better than random, but its actually better, let's compare to a `DummyClassifier`\n",
        "- `DummyClassifier` can be used to build a classifier with simple heuristics (choosing the majority class/always drawing a random class),\n",
        "- Let's choose most frequent (`strategy=\"most_frequent\"`) so we have a reference model for comparison"
      ],
      "metadata": {
        "id": "qepIZn-H-GcX"
      }
    },
    {
      "cell_type": "code",
      "source": [
        "from sklearn.dummy import DummyClassifier\n",
        "\n",
        "dummy_clf = DummyClassifier(strategy=\"most_frequent\")\n",
        "dummy_clf.fit(X_train, y_train)\n",
        "print(f'accuracy: {dummy_clf.score(X_valid, y_valid)}')"
      ],
      "metadata": {
        "execution": {
          "iopub.status.busy": "2022-12-08T10:51:45.431224Z",
          "iopub.execute_input": "2022-12-08T10:51:45.431577Z",
          "iopub.status.idle": "2022-12-08T10:51:45.440085Z",
          "shell.execute_reply.started": "2022-12-08T10:51:45.431539Z",
          "shell.execute_reply": "2022-12-08T10:51:45.438958Z"
        },
        "trusted": true,
        "id": "7OMC9xU9-GcX"
      },
      "execution_count": null,
      "outputs": []
    },
    {
      "cell_type": "code",
      "source": [
        "from sklearn.linear_model import LogisticRegression as LR\n",
        "\n",
        "# We increase `max_iter` to guarantee convergence\n",
        "lr_clf = LR(max_iter = 2000)\n",
        "lr_clf.fit(X_train, y_train)\n",
        "y_preds = lr_clf.predict(X_valid)\n",
        "print(f'accuracy: {lr_clf.score(X_valid, y_valid)}')"
      ],
      "metadata": {
        "execution": {
          "iopub.status.busy": "2022-12-08T10:53:07.864968Z",
          "iopub.execute_input": "2022-12-08T10:53:07.865363Z",
          "iopub.status.idle": "2022-12-08T10:55:26.147562Z",
          "shell.execute_reply.started": "2022-12-08T10:53:07.86533Z",
          "shell.execute_reply": "2022-12-08T10:55:26.146268Z"
        },
        "trusted": true,
        "id": "sBWKVFdz-GcY"
      },
      "execution_count": null,
      "outputs": []
    },
    {
      "cell_type": "markdown",
      "source": [
        "### <b><span style='color:#F1A424'>Confusion Matrix</span></b>\n",
        "\n",
        "- Our **<mark style=\"background-color:#FFC300;color:white;border-radius:5px;opacity:0.7\">logistic regression</mark>** model with `DistilBERT` **<mark style=\"background-color:#FFC300;color:white;border-radius:5px;opacity:0.7\">embeddings</mark>** is signifcantly better than the baseline `DummyClassifier`\n",
        "- Let check the **<mark style=\"background-color:#FFC300;color:white;border-radius:5px;opacity:0.7\">confusion matrix</mark>** of the **<mark style=\"background-color:#FFC300;color:white;border-radius:5px;opacity:0.7\">logistic regression</mark>** model"
      ],
      "metadata": {
        "id": "nZclAZTR-GcY"
      }
    },
    {
      "cell_type": "code",
      "source": [
        "from sklearn.metrics import ConfusionMatrixDisplay, confusion_matrix\n",
        "\n",
        "def plot_confusion_matrix(y_model, y_true, labels):\n",
        "    cm = confusion_matrix(y_true,y_model,normalize='true')\n",
        "    fig, ax = plt.subplots(figsize=(7,7))\n",
        "    disp = ConfusionMatrixDisplay(confusion_matrix=cm, display_labels=labels)\n",
        "    disp.plot(ax=ax, colorbar=False)\n",
        "    plt.title(\"Confusion matrix\")\n",
        "#     plt.axis('off')\n",
        "    plt.grid(False)\n",
        "    plt.show()\n",
        "\n",
        "plot_confusion_matrix(y_preds, y_valid, labels)"
      ],
      "metadata": {
        "execution": {
          "iopub.status.busy": "2022-12-08T11:04:17.616134Z",
          "iopub.execute_input": "2022-12-08T11:04:17.616732Z",
          "iopub.status.idle": "2022-12-08T11:04:18.044288Z",
          "shell.execute_reply.started": "2022-12-08T11:04:17.616678Z",
          "shell.execute_reply": "2022-12-08T11:04:18.043298Z"
        },
        "_kg_hide-input": true,
        "trusted": true,
        "id": "yZRD3sjL-GcY"
      },
      "execution_count": null,
      "outputs": []
    },
    {
      "cell_type": "markdown",
      "source": [
        "From the **<mark style=\"background-color:#FFC300;color:white;border-radius:5px;opacity:0.7\">confusion matrix</mark>** we can say that:\n",
        "\n",
        "- **<span style='color:#FFC300'>anger</span>**, **<span style='color:#FFC300'>fear</span>** & **<span style='color:#FFC300'>surprise</span>** often confused with **<span style='color:#FFC300'>sadness</span>** (0.29, 0.17 & 0.14) (observation we made when visualising the embeddings)\n",
        "- **<span style='color:#FFC300'>love</span>** & **<span style='color:#FFC300'>surprise</span>** are frequently mistaken for **<span style='color:#FFC300'>joy</span>** (0.37 & 0.46)"
      ],
      "metadata": {
        "id": "_e79Gsed-GcZ"
      }
    },
    {
      "cell_type": "markdown",
      "source": [
        "### <b><span style='color:#F1A424'> 5.2 | </span>Fine-tuning transformers </b>\n",
        "\n",
        "- With the fine-tune approach, we do not use the **<mark style=\"background-color:#FFC300;color:white;border-radius:5px;opacity:0.7\">hidden states</mark>** as fixed features, instead, we train them from a given model state\n",
        "- This requires the classification head to be differentiable (neural network for classification)\n",
        "\n",
        "### <b><span style='color:#F1A424'>Loading a Pretrained Model</span></b>\n",
        "\n",
        "- We'll load the same **<mark style=\"background-color:#FFC300;color:white;border-radius:5px;opacity:0.7\">DistilBERT</mark>** model using `model_ckpt` **\"distilbert-base-uncased\"**\n",
        "- This time however we will be loading `AutoModelForSequenceClassification` (we used `AutoModel` when we extracted embedding features)\n",
        "- `AutoModelForSequenceClassification` model has a **<span style='color:#FFC300'>classification head</span>** on top of the pretrained model outputs\n",
        "- We only need to specify the **<span style='color:#FFC300'>number of labels</span>** the model has to predict `num_labels`"
      ],
      "metadata": {
        "id": "wM2Ixfjj-GcZ"
      }
    },
    {
      "cell_type": "code",
      "source": [
        "from transformers import AutoModelForSequenceClassification\n",
        "\n",
        "num_labels = 6\n",
        "\n",
        "model_ckpt = \"distilbert-base-uncased\"\n",
        "model = (AutoModelForSequenceClassification\n",
        "         .from_pretrained(model_ckpt,\n",
        "                          num_labels=num_labels)\n",
        "         .to(device))"
      ],
      "metadata": {
        "execution": {
          "iopub.status.busy": "2022-12-08T11:10:21.040136Z",
          "iopub.execute_input": "2022-12-08T11:10:21.040512Z",
          "iopub.status.idle": "2022-12-08T11:10:23.974074Z",
          "shell.execute_reply.started": "2022-12-08T11:10:21.040479Z",
          "shell.execute_reply": "2022-12-08T11:10:23.973119Z"
        },
        "trusted": true,
        "id": "sGT8hFs1-GcZ"
      },
      "execution_count": null,
      "outputs": []
    },
    {
      "cell_type": "markdown",
      "source": [
        "### <b><span style='color:#F1A424'>Defining the Performance Metrics</span></b>\n",
        "- We'll monitor the `F1 score`  & `accuracy`, the function is required to be passed in the `Trainer` class\n",
        "\n"
      ],
      "metadata": {
        "id": "fE73V0js-Gca"
      }
    },
    {
      "cell_type": "code",
      "source": [
        "from sklearn.metrics import accuracy_score, f1_score\n",
        "\n",
        "def compute_metrics(pred):\n",
        "    labels = pred.label_ids\n",
        "    preds = pred.predictions.argmax(-1)\n",
        "    f1 = f1_score(labels, preds, average=\"weighted\")\n",
        "    acc = accuracy_score(labels, preds)\n",
        "    return {\"accuracy\": acc, \"f1\": f1}"
      ],
      "metadata": {
        "execution": {
          "iopub.status.busy": "2022-12-08T11:41:06.255551Z",
          "iopub.execute_input": "2022-12-08T11:41:06.256256Z",
          "iopub.status.idle": "2022-12-08T11:41:06.261974Z",
          "shell.execute_reply.started": "2022-12-08T11:41:06.25622Z",
          "shell.execute_reply": "2022-12-08T11:41:06.260842Z"
        },
        "trusted": true,
        "id": "9cH75tnS-Gca"
      },
      "execution_count": null,
      "outputs": []
    },
    {
      "cell_type": "markdown",
      "source": [
        "### <b><span style='color:#F1A424'>Training parameters</span></b>\n",
        "- Next we need to define the model **training parameters**, which can be done using `TrainingArguments`\n",
        "- Let's train the **<mark style=\"background-color:#FFC300;color:white;border-radius:5px;opacity:0.7\">DistilBERT</mark>** model for **3 iterations** with a **learning rate of 2e-5** and a **batch size of 64**"
      ],
      "metadata": {
        "id": "5qAbbsyw-Gca"
      }
    },
    {
      "cell_type": "code",
      "source": [
        "from transformers import Trainer, TrainingArguments\n",
        "\n",
        "bs = 64 # batch size\n",
        "logging_steps = len(emotions_encoded[\"train\"]) // bs\n",
        "model_name = f\"{model_ckpt}-finetuned-emotion\"\n",
        "training_args = TrainingArguments(output_dir=model_name,\n",
        "                                  num_train_epochs=3,             # number of training epochs\n",
        "                                  learning_rate=2e-5,             # model learning rate\n",
        "                                  per_device_train_batch_size=bs, # batch size\n",
        "                                  per_device_eval_batch_size=bs,  # batch size\n",
        "                                  weight_decay=0.01,\n",
        "                                  evaluation_strategy=\"epoch\",\n",
        "                                  disable_tqdm=False,\n",
        "                                  report_to=\"none\",\n",
        "                                  logging_steps=logging_steps,\n",
        "                                  push_to_hub=False,\n",
        "                                  log_level=\"error\")"
      ],
      "metadata": {
        "execution": {
          "iopub.status.busy": "2022-12-08T11:43:28.129679Z",
          "iopub.execute_input": "2022-12-08T11:43:28.130736Z",
          "iopub.status.idle": "2022-12-08T11:43:28.138863Z",
          "shell.execute_reply.started": "2022-12-08T11:43:28.130684Z",
          "shell.execute_reply": "2022-12-08T11:43:28.137889Z"
        },
        "trusted": true,
        "id": "TvLsKVTI-Gca"
      },
      "execution_count": null,
      "outputs": []
    },
    {
      "cell_type": "markdown",
      "source": [
        "### <b><span style='color:#F1A424'>Train Model</span></b>\n",
        "- With the training arguments set, we need to define the `Trainer` and start training with the `train()` method"
      ],
      "metadata": {
        "id": "5Dge0E8i-Gcb"
      }
    },
    {
      "cell_type": "code",
      "source": [
        "import os\n",
        "from transformers import Trainer\n",
        "os.environ['WANDB_DISABLED'] = 'true'\n",
        "\n",
        "trainer = Trainer(model=model, args=training_args,\n",
        "                  compute_metrics=compute_metrics,\n",
        "                  train_dataset=emotions_encoded[\"train\"],\n",
        "                  eval_dataset=emotions_encoded[\"validation\"],\n",
        "                  tokenizer=tokenizer)\n",
        "trainer.train()"
      ],
      "metadata": {
        "execution": {
          "iopub.status.busy": "2022-12-08T11:43:35.476805Z",
          "iopub.execute_input": "2022-12-08T11:43:35.477167Z",
          "iopub.status.idle": "2022-12-08T11:47:06.284093Z",
          "shell.execute_reply.started": "2022-12-08T11:43:35.477136Z",
          "shell.execute_reply": "2022-12-08T11:47:06.282867Z"
        },
        "trusted": true,
        "id": "SkZzz9Un-Gcb"
      },
      "execution_count": null,
      "outputs": []
    },
    {
      "cell_type": "code",
      "source": [
        "# Predict on Validation Dataset\n",
        "pred_output = trainer.predict(emotions_encoded[\"validation\"])\n",
        "pred_output"
      ],
      "metadata": {
        "execution": {
          "iopub.status.busy": "2022-12-08T11:50:41.122235Z",
          "iopub.execute_input": "2022-12-08T11:50:41.122617Z",
          "iopub.status.idle": "2022-12-08T11:50:44.025014Z",
          "shell.execute_reply.started": "2022-12-08T11:50:41.122568Z",
          "shell.execute_reply": "2022-12-08T11:50:44.024119Z"
        },
        "trusted": true,
        "id": "gLaGtsA8-Gcb"
      },
      "execution_count": null,
      "outputs": []
    },
    {
      "cell_type": "code",
      "source": [
        "print(f'Output Predition: {pred_output.predictions.shape}')\n",
        "print(pred_output.predictions)"
      ],
      "metadata": {
        "execution": {
          "iopub.status.busy": "2022-12-08T11:53:28.507573Z",
          "iopub.execute_input": "2022-12-08T11:53:28.508588Z",
          "iopub.status.idle": "2022-12-08T11:53:28.516563Z",
          "shell.execute_reply.started": "2022-12-08T11:53:28.508544Z",
          "shell.execute_reply": "2022-12-08T11:53:28.515286Z"
        },
        "trusted": true,
        "id": "keq_Vwfi-Gcb"
      },
      "execution_count": null,
      "outputs": []
    },
    {
      "cell_type": "code",
      "source": [
        "# Decode the predictions greedily using argmax (highest value of all classes)\n",
        "y_preds = np.argmax(pred_output.predictions,axis=1)\n",
        "print(f'Output Prediction:{y_preds.shape}')\n",
        "print(f'Predictions: {y_preds}')"
      ],
      "metadata": {
        "execution": {
          "iopub.status.busy": "2022-12-08T11:54:48.54719Z",
          "iopub.execute_input": "2022-12-08T11:54:48.547643Z",
          "iopub.status.idle": "2022-12-08T11:54:48.558406Z",
          "shell.execute_reply.started": "2022-12-08T11:54:48.547579Z",
          "shell.execute_reply": "2022-12-08T11:54:48.557232Z"
        },
        "trusted": true,
        "id": "k2CGzxBC-Gcb"
      },
      "execution_count": null,
      "outputs": []
    },
    {
      "cell_type": "code",
      "source": [
        "# Show metrics of last iteration\n",
        "pred_output.metrics"
      ],
      "metadata": {
        "execution": {
          "iopub.status.busy": "2022-12-08T11:48:08.349454Z",
          "iopub.execute_input": "2022-12-08T11:48:08.349931Z",
          "iopub.status.idle": "2022-12-08T11:48:08.357875Z",
          "shell.execute_reply.started": "2022-12-08T11:48:08.349889Z",
          "shell.execute_reply": "2022-12-08T11:48:08.356903Z"
        },
        "trusted": true,
        "id": "2Ouvb5yk-Gcc"
      },
      "execution_count": null,
      "outputs": []
    },
    {
      "cell_type": "code",
      "source": [
        "plot_confusion_matrix(y_preds,y_valid,labels)"
      ],
      "metadata": {
        "execution": {
          "iopub.status.busy": "2022-12-08T11:55:09.833503Z",
          "iopub.execute_input": "2022-12-08T11:55:09.833892Z",
          "iopub.status.idle": "2022-12-08T11:55:10.16652Z",
          "shell.execute_reply.started": "2022-12-08T11:55:09.833858Z",
          "shell.execute_reply": "2022-12-08T11:55:10.165539Z"
        },
        "trusted": true,
        "id": "sNn4fI7u-Gcc"
      },
      "execution_count": null,
      "outputs": []
    },
    {
      "cell_type": "markdown",
      "source": [
        "From the **<mark style=\"background-color:#FFC300;color:white;border-radius:5px;opacity:0.7\">confusion matrix</mark>** we can say that:\n",
        "- The **fine-tune** approach (using **<mark style=\"background-color:#FFC300;color:white;border-radius:5px;opacity:0.7\">DistilBERT</mark>**)  performs much better than simple extracting **<mark style=\"background-color:#FFC300;color:white;border-radius:5px;opacity:0.7\">embedding</mark>** data and training it on a separate ML model\n",
        "- **<span style='color:#FFC300'>love</span>** is still often confused with **<span style='color:#FFC300'>joy</span>** (0.08), but much less than the first approach\n",
        "- **<span style='color:#FFC300'>surprise</span>** is often confused with **<span style='color:#FFC300'>joy</span>** as well (0.09) or fear (0.10), both also much less than the first approach"
      ],
      "metadata": {
        "id": "XYoIs0ih-Gcc"
      }
    },
    {
      "cell_type": "markdown",
      "source": [
        "# <div style=\"padding: 30px;color:white;margin:10;font-size:60%;text-align:left;display:fill;border-radius:10px;overflow:hidden;background-color:#3b3745\"><b><span style='color:#F1A424'>6 |</span></b> <b>MODEL ERROR ANALYSIS</b></div>\n",
        "\n",
        "### <b><span style='color:#F1A424'>Loss Value Mapping</span></b>\n",
        "\n",
        "We should investigate our models' prediction a little more\n",
        "- A simple, yet powerful technique is to sort the validateion by the **<mark style=\"background-color:#FFC300;color:white;border-radius:5px;opacity:0.7\">model loss</mark>**\n",
        "- We can write a function that returns the **<mark style=\"background-color:#FFC300;color:white;border-radius:5px;opacity:0.7\">model loss</mark>**, together with the predicted label `forward_pass_with_label`"
      ],
      "metadata": {
        "id": "FdVj_96V-Gcc"
      }
    },
    {
      "cell_type": "code",
      "source": [
        "from torch.nn.functional import cross_entropy\n",
        "\n",
        "def forward_pass_with_label(batch):\n",
        "\n",
        "    # Place all input tensors on the same device as the model\n",
        "    inputs = {k:v.to(device) for k,v in batch.items()\n",
        "              if k in tokenizer.model_input_names}\n",
        "\n",
        "    with torch.no_grad():\n",
        "        output = model(**inputs)\n",
        "        pred_label = torch.argmax(output.logits, axis=-1)\n",
        "        loss = cross_entropy(output.logits, batch[\"label\"].to(device),\n",
        "                             reduction=\"none\")\n",
        "\n",
        "    # Place outputs on CPU for compatibility with other dataset columns\n",
        "    return {\"loss\": loss.cpu().numpy(),\n",
        "            \"predicted_label\": pred_label.cpu().numpy()}\n",
        "\n",
        "# Convert our dataset back to PyTorch tensors\n",
        "emotions_encoded.set_format(\"torch\",\n",
        "                            columns=[\"input_ids\", \"attention_mask\", \"label\"])\n",
        "# Compute loss values\n",
        "emotions_encoded[\"validation\"] = emotions_encoded[\"validation\"].map(forward_pass_with_label,\n",
        "                                                                    batched=True,\n",
        "                                                                    batch_size=16)"
      ],
      "metadata": {
        "execution": {
          "iopub.status.busy": "2022-12-08T12:04:00.858126Z",
          "iopub.execute_input": "2022-12-08T12:04:00.858559Z",
          "iopub.status.idle": "2022-12-08T12:04:03.569018Z",
          "shell.execute_reply.started": "2022-12-08T12:04:00.858524Z",
          "shell.execute_reply": "2022-12-08T12:04:03.567801Z"
        },
        "trusted": true,
        "id": "GSqgQKaf-Gcd"
      },
      "execution_count": null,
      "outputs": []
    },
    {
      "cell_type": "markdown",
      "source": [
        "### <b><span style='color:#F1A424'>Convert to DataFrame</span></b>\n",
        "\n",
        "- Create a DataFrame with the text, losses, predicted/true labels"
      ],
      "metadata": {
        "id": "Jt2ipbGR-Gcd"
      }
    },
    {
      "cell_type": "code",
      "source": [
        "emotions_encoded.set_format(\"pandas\")\n",
        "cols = [\"text\", \"label\", \"predicted_label\", \"loss\"]\n",
        "df_test = emotions_encoded[\"validation\"][:][cols]\n",
        "df_test[\"label\"] = df_test[\"label\"].apply(label_int2str)\n",
        "df_test[\"predicted_label\"] = (df_test[\"predicted_label\"].apply(label_int2str))"
      ],
      "metadata": {
        "execution": {
          "iopub.status.busy": "2022-12-08T12:04:53.2985Z",
          "iopub.execute_input": "2022-12-08T12:04:53.298949Z",
          "iopub.status.idle": "2022-12-08T12:04:53.325452Z",
          "shell.execute_reply.started": "2022-12-08T12:04:53.298909Z",
          "shell.execute_reply": "2022-12-08T12:04:53.324503Z"
        },
        "trusted": true,
        "id": "BRW12P-r-Gcd"
      },
      "execution_count": null,
      "outputs": []
    },
    {
      "cell_type": "markdown",
      "source": [
        "- Now we can sort `emotions` encoded by the losses in either assending/descending order\n",
        "- Let's look at the data samples with the **highest losses** (we can see that high loss values are associated with misspredictions)"
      ],
      "metadata": {
        "id": "n4PthNXY-Gcd"
      }
    },
    {
      "cell_type": "code",
      "source": [
        "show_panel(df_test.sort_values(\"loss\", ascending=False))"
      ],
      "metadata": {
        "execution": {
          "iopub.status.busy": "2022-12-08T12:05:21.617079Z",
          "iopub.execute_input": "2022-12-08T12:05:21.617433Z",
          "iopub.status.idle": "2022-12-08T12:05:21.633055Z",
          "shell.execute_reply.started": "2022-12-08T12:05:21.6174Z",
          "shell.execute_reply": "2022-12-08T12:05:21.63199Z"
        },
        "trusted": true,
        "id": "kCkrn0Sh-Gcd"
      },
      "execution_count": null,
      "outputs": []
    },
    {
      "cell_type": "code",
      "source": [
        "show_panel(df_test.sort_values(\"loss\", ascending=True))"
      ],
      "metadata": {
        "execution": {
          "iopub.status.busy": "2022-12-08T12:07:55.383592Z",
          "iopub.execute_input": "2022-12-08T12:07:55.384104Z",
          "iopub.status.idle": "2022-12-08T12:07:55.401075Z",
          "shell.execute_reply.started": "2022-12-08T12:07:55.384067Z",
          "shell.execute_reply": "2022-12-08T12:07:55.400168Z"
        },
        "trusted": true,
        "id": "tG0pTsv3-Gce"
      },
      "execution_count": null,
      "outputs": []
    },
    {
      "cell_type": "markdown",
      "source": [
        "# <div style=\"padding: 30px;color:white;margin:10;font-size:60%;text-align:left;display:fill;border-radius:10px;overflow:hidden;background-color:#3b3745\"><b><span style='color:#F1A424'>7 |</span></b> <b>USING OUR MODEL</b></div>\n",
        "\n",
        "- We have trained the model utilising `AutoModelForSequenceClassification` which added a classification head to the base **<mark style=\"background-color:#FFC300;color:white;border-radius:5px;opacity:0.7\">DistilBERT</mark>** model\n",
        "- We can utilise the `pipeline` method when we need to make model predictions on new unseed data\n",
        "- Let's say we have new unseen data:\n",
        "    - 'I watched a movie last night, it was quite brilliant'"
      ],
      "metadata": {
        "id": "vYfc31q5-Gce"
      }
    },
    {
      "cell_type": "code",
      "source": [
        "# Save the model\n",
        "trainer.save_model()"
      ],
      "metadata": {
        "execution": {
          "iopub.status.busy": "2022-12-08T12:20:27.087318Z",
          "iopub.execute_input": "2022-12-08T12:20:27.087723Z",
          "iopub.status.idle": "2022-12-08T12:20:27.587747Z",
          "shell.execute_reply.started": "2022-12-08T12:20:27.087688Z",
          "shell.execute_reply": "2022-12-08T12:20:27.586767Z"
        },
        "trusted": true,
        "id": "nR3D6lde-Gce"
      },
      "execution_count": null,
      "outputs": []
    },
    {
      "cell_type": "code",
      "source": [
        "from transformers import pipeline\n",
        "\n",
        "# load from previously saved model\n",
        "classifier = pipeline(\"text-classification\", model=\"distilbert-base-uncased-finetuned-emotion\")\n",
        "\n",
        "# New unseen by model data\n",
        "new_data = 'I watched a movie last night, it was quite brilliant'"
      ],
      "metadata": {
        "execution": {
          "iopub.status.busy": "2022-12-08T12:21:49.298239Z",
          "iopub.execute_input": "2022-12-08T12:21:49.298592Z",
          "iopub.status.idle": "2022-12-08T12:21:50.404567Z",
          "shell.execute_reply.started": "2022-12-08T12:21:49.298561Z",
          "shell.execute_reply": "2022-12-08T12:21:50.403577Z"
        },
        "trusted": true,
        "id": "XB1liVxz-Gce"
      },
      "execution_count": null,
      "outputs": []
    },
    {
      "cell_type": "markdown",
      "source": [
        "- Our model predicts `new_data` to be classified to **label 1** (**joy**)"
      ],
      "metadata": {
        "id": "xbR8iLhG-Gcf"
      }
    },
    {
      "cell_type": "code",
      "source": [
        "preds = classifier(new_data, return_all_scores=True)\n",
        "preds"
      ],
      "metadata": {
        "execution": {
          "iopub.status.busy": "2022-12-08T12:22:55.905119Z",
          "iopub.execute_input": "2022-12-08T12:22:55.905475Z",
          "iopub.status.idle": "2022-12-08T12:22:56.005471Z",
          "shell.execute_reply.started": "2022-12-08T12:22:55.905442Z",
          "shell.execute_reply": "2022-12-08T12:22:56.004479Z"
        },
        "trusted": true,
        "id": "5Ml0qk5I-Gci"
      },
      "execution_count": null,
      "outputs": []
    },
    {
      "cell_type": "code",
      "source": [
        "preds[0]"
      ],
      "metadata": {
        "execution": {
          "iopub.status.busy": "2022-12-08T12:27:30.84932Z",
          "iopub.execute_input": "2022-12-08T12:27:30.84972Z",
          "iopub.status.idle": "2022-12-08T12:27:30.860021Z",
          "shell.execute_reply.started": "2022-12-08T12:27:30.849683Z",
          "shell.execute_reply": "2022-12-08T12:27:30.859085Z"
        },
        "trusted": true,
        "id": "Hj4S4A4O-Gci"
      },
      "execution_count": null,
      "outputs": []
    },
    {
      "cell_type": "code",
      "source": [
        "df_preds = pd.DataFrame(preds)\n",
        "px.bar(x=labels,y=100*df_preds['score'],template='plotly_white')"
      ],
      "metadata": {
        "execution": {
          "iopub.status.busy": "2022-12-08T12:28:16.162031Z",
          "iopub.execute_input": "2022-12-08T12:28:16.163914Z",
          "iopub.status.idle": "2022-12-08T12:28:16.214984Z",
          "shell.execute_reply.started": "2022-12-08T12:28:16.163866Z",
          "shell.execute_reply": "2022-12-08T12:28:16.21393Z"
        },
        "trusted": true,
        "id": "UfC7fB28-Gci"
      },
      "execution_count": null,
      "outputs": []
    }
  ]
}